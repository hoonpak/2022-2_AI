{
 "cells": [
  {
   "cell_type": "code",
   "execution_count": 1,
   "id": "031897a8",
   "metadata": {
    "_cell_guid": "b1076dfc-b9ad-4769-8c92-a6c4dae69d19",
    "_uuid": "8f2839f25d086af736a60e9eeb907d3b93b6e0e5",
    "execution": {
     "iopub.execute_input": "2022-09-16T09:54:49.245953Z",
     "iopub.status.busy": "2022-09-16T09:54:49.245163Z",
     "iopub.status.idle": "2022-09-16T09:54:49.260212Z",
     "shell.execute_reply": "2022-09-16T09:54:49.258978Z"
    },
    "papermill": {
     "duration": 0.025905,
     "end_time": "2022-09-16T09:54:49.263990",
     "exception": false,
     "start_time": "2022-09-16T09:54:49.238085",
     "status": "completed"
    },
    "tags": []
   },
   "outputs": [
    {
     "name": "stdout",
     "output_type": "stream",
     "text": [
      "/kaggle/input/2022-ai-w3p2/train_data.csv\n",
      "/kaggle/input/2022-ai-w3p2/test_data.csv\n",
      "/kaggle/input/2022-ai-w3p2/sample_submit.csv\n"
     ]
    }
   ],
   "source": [
    "# This Python 3 environment comes with many helpful analytics libraries installed\n",
    "# It is defined by the kaggle/python Docker image: https://github.com/kaggle/docker-python\n",
    "# For example, here's several helpful packages to load\n",
    "\n",
    "import numpy as np # linear algebra\n",
    "import pandas as pd # data processing, CSV file I/O (e.g. pd.read_csv)\n",
    "\n",
    "# Input data files are available in the read-only \"../input/\" directory\n",
    "# For example, running this (by clicking run or pressing Shift+Enter) will list all files under the input directory\n",
    "\n",
    "import os\n",
    "for dirname, _, filenames in os.walk('/kaggle/input'):\n",
    "    for filename in filenames:\n",
    "        print(os.path.join(dirname, filename))\n",
    "\n",
    "# You can write up to 20GB to the current directory (/kaggle/working/) that gets preserved as output when you create a version using \"Save & Run All\" \n",
    "# You can also write temporary files to /kaggle/temp/, but they won't be saved outside of the current session"
   ]
  },
  {
   "cell_type": "code",
   "execution_count": 2,
   "id": "e79a4eaf",
   "metadata": {
    "execution": {
     "iopub.execute_input": "2022-09-16T09:54:49.275656Z",
     "iopub.status.busy": "2022-09-16T09:54:49.275266Z",
     "iopub.status.idle": "2022-09-16T09:54:51.177993Z",
     "shell.execute_reply": "2022-09-16T09:54:51.176494Z"
    },
    "papermill": {
     "duration": 1.911244,
     "end_time": "2022-09-16T09:54:51.180820",
     "exception": false,
     "start_time": "2022-09-16T09:54:49.269576",
     "status": "completed"
    },
    "tags": []
   },
   "outputs": [],
   "source": [
    "import random\n",
    "import torch.optim as optim\n",
    "import torch\n",
    "\n",
    "seed = 42\n",
    "random.seed(seed)\n",
    "np.random.seed(seed)\n",
    "torch.manual_seed(seed)\n",
    "if torch.cuda.is_available():\n",
    "    torch.cuda.manual_seed(seed)\n",
    "    torch.cuda.manual_seed_all(seed)\n",
    "torch.backends.cudnn.benchmark = False\n",
    "torch.backends.cudnn.deterministic = True"
   ]
  },
  {
   "cell_type": "code",
   "execution_count": 3,
   "id": "ac2cfabc",
   "metadata": {
    "execution": {
     "iopub.execute_input": "2022-09-16T09:54:51.191991Z",
     "iopub.status.busy": "2022-09-16T09:54:51.191371Z",
     "iopub.status.idle": "2022-09-16T09:54:52.257628Z",
     "shell.execute_reply": "2022-09-16T09:54:52.256624Z"
    },
    "papermill": {
     "duration": 1.075037,
     "end_time": "2022-09-16T09:54:52.260452",
     "exception": false,
     "start_time": "2022-09-16T09:54:51.185415",
     "status": "completed"
    },
    "tags": []
   },
   "outputs": [],
   "source": [
    "from sklearn.metrics import mean_absolute_error"
   ]
  },
  {
   "cell_type": "code",
   "execution_count": 4,
   "id": "f0f7b6d7",
   "metadata": {
    "execution": {
     "iopub.execute_input": "2022-09-16T09:54:52.271963Z",
     "iopub.status.busy": "2022-09-16T09:54:52.270894Z",
     "iopub.status.idle": "2022-09-16T09:54:52.371833Z",
     "shell.execute_reply": "2022-09-16T09:54:52.370241Z"
    },
    "papermill": {
     "duration": 0.109386,
     "end_time": "2022-09-16T09:54:52.374465",
     "exception": false,
     "start_time": "2022-09-16T09:54:52.265079",
     "status": "completed"
    },
    "tags": []
   },
   "outputs": [],
   "source": [
    "train = pd.read_csv('/kaggle/input/2022-ai-w3p2/train_data.csv')\n",
    "test = pd.read_csv('/kaggle/input/2022-ai-w3p2/test_data.csv')\n",
    "submit = pd.read_csv('/kaggle/input/2022-ai-w3p2/sample_submit.csv')"
   ]
  },
  {
   "cell_type": "code",
   "execution_count": 5,
   "id": "8cbec767",
   "metadata": {
    "execution": {
     "iopub.execute_input": "2022-09-16T09:54:52.385313Z",
     "iopub.status.busy": "2022-09-16T09:54:52.384863Z",
     "iopub.status.idle": "2022-09-16T09:54:52.389743Z",
     "shell.execute_reply": "2022-09-16T09:54:52.388855Z"
    },
    "papermill": {
     "duration": 0.01287,
     "end_time": "2022-09-16T09:54:52.391939",
     "exception": false,
     "start_time": "2022-09-16T09:54:52.379069",
     "status": "completed"
    },
    "tags": []
   },
   "outputs": [],
   "source": [
    "n = len(test)"
   ]
  },
  {
   "cell_type": "code",
   "execution_count": 6,
   "id": "51b4c201",
   "metadata": {
    "execution": {
     "iopub.execute_input": "2022-09-16T09:54:52.403039Z",
     "iopub.status.busy": "2022-09-16T09:54:52.402297Z",
     "iopub.status.idle": "2022-09-16T09:54:52.430034Z",
     "shell.execute_reply": "2022-09-16T09:54:52.428896Z"
    },
    "papermill": {
     "duration": 0.035667,
     "end_time": "2022-09-16T09:54:52.432319",
     "exception": false,
     "start_time": "2022-09-16T09:54:52.396652",
     "status": "completed"
    },
    "tags": []
   },
   "outputs": [
    {
     "data": {
      "text/html": [
       "<div>\n",
       "<style scoped>\n",
       "    .dataframe tbody tr th:only-of-type {\n",
       "        vertical-align: middle;\n",
       "    }\n",
       "\n",
       "    .dataframe tbody tr th {\n",
       "        vertical-align: top;\n",
       "    }\n",
       "\n",
       "    .dataframe thead th {\n",
       "        text-align: right;\n",
       "    }\n",
       "</style>\n",
       "<table border=\"1\" class=\"dataframe\">\n",
       "  <thead>\n",
       "    <tr style=\"text-align: right;\">\n",
       "      <th></th>\n",
       "      <th>ID</th>\n",
       "      <th>company</th>\n",
       "      <th>model</th>\n",
       "      <th>year</th>\n",
       "      <th>transmission</th>\n",
       "      <th>mileage</th>\n",
       "      <th>fueltype</th>\n",
       "      <th>tax</th>\n",
       "      <th>mpg</th>\n",
       "      <th>engineSize</th>\n",
       "      <th>price</th>\n",
       "    </tr>\n",
       "  </thead>\n",
       "  <tbody>\n",
       "    <tr>\n",
       "      <th>0</th>\n",
       "      <td>0</td>\n",
       "      <td>2</td>\n",
       "      <td>Focus</td>\n",
       "      <td>2019</td>\n",
       "      <td>1</td>\n",
       "      <td>3764</td>\n",
       "      <td>4</td>\n",
       "      <td>145</td>\n",
       "      <td>34.5</td>\n",
       "      <td>2.3</td>\n",
       "      <td>26299</td>\n",
       "    </tr>\n",
       "    <tr>\n",
       "      <th>1</th>\n",
       "      <td>1</td>\n",
       "      <td>1</td>\n",
       "      <td>I10</td>\n",
       "      <td>2015</td>\n",
       "      <td>1</td>\n",
       "      <td>27056</td>\n",
       "      <td>4</td>\n",
       "      <td>20</td>\n",
       "      <td>60.1</td>\n",
       "      <td>1.0</td>\n",
       "      <td>5495</td>\n",
       "    </tr>\n",
       "    <tr>\n",
       "      <th>2</th>\n",
       "      <td>2</td>\n",
       "      <td>3</td>\n",
       "      <td>A3</td>\n",
       "      <td>2019</td>\n",
       "      <td>3</td>\n",
       "      <td>3375</td>\n",
       "      <td>4</td>\n",
       "      <td>145</td>\n",
       "      <td>34.5</td>\n",
       "      <td>2.0</td>\n",
       "      <td>32400</td>\n",
       "    </tr>\n",
       "    <tr>\n",
       "      <th>3</th>\n",
       "      <td>3</td>\n",
       "      <td>3</td>\n",
       "      <td>A6</td>\n",
       "      <td>2019</td>\n",
       "      <td>0</td>\n",
       "      <td>5743</td>\n",
       "      <td>0</td>\n",
       "      <td>145</td>\n",
       "      <td>47.9</td>\n",
       "      <td>2.0</td>\n",
       "      <td>29990</td>\n",
       "    </tr>\n",
       "    <tr>\n",
       "      <th>4</th>\n",
       "      <td>4</td>\n",
       "      <td>2</td>\n",
       "      <td>Fiesta</td>\n",
       "      <td>2015</td>\n",
       "      <td>1</td>\n",
       "      <td>32782</td>\n",
       "      <td>4</td>\n",
       "      <td>0</td>\n",
       "      <td>65.7</td>\n",
       "      <td>1.0</td>\n",
       "      <td>7250</td>\n",
       "    </tr>\n",
       "    <tr>\n",
       "      <th>...</th>\n",
       "      <td>...</td>\n",
       "      <td>...</td>\n",
       "      <td>...</td>\n",
       "      <td>...</td>\n",
       "      <td>...</td>\n",
       "      <td>...</td>\n",
       "      <td>...</td>\n",
       "      <td>...</td>\n",
       "      <td>...</td>\n",
       "      <td>...</td>\n",
       "      <td>...</td>\n",
       "    </tr>\n",
       "    <tr>\n",
       "      <th>17080</th>\n",
       "      <td>17080</td>\n",
       "      <td>0</td>\n",
       "      <td>1 Series</td>\n",
       "      <td>2018</td>\n",
       "      <td>0</td>\n",
       "      <td>4666</td>\n",
       "      <td>4</td>\n",
       "      <td>145</td>\n",
       "      <td>32.5</td>\n",
       "      <td>3.0</td>\n",
       "      <td>23499</td>\n",
       "    </tr>\n",
       "    <tr>\n",
       "      <th>17081</th>\n",
       "      <td>17081</td>\n",
       "      <td>3</td>\n",
       "      <td>A4</td>\n",
       "      <td>2020</td>\n",
       "      <td>3</td>\n",
       "      <td>22601</td>\n",
       "      <td>4</td>\n",
       "      <td>145</td>\n",
       "      <td>39.2</td>\n",
       "      <td>2.0</td>\n",
       "      <td>32481</td>\n",
       "    </tr>\n",
       "    <tr>\n",
       "      <th>17082</th>\n",
       "      <td>17082</td>\n",
       "      <td>4</td>\n",
       "      <td>Yaris</td>\n",
       "      <td>2018</td>\n",
       "      <td>1</td>\n",
       "      <td>20312</td>\n",
       "      <td>4</td>\n",
       "      <td>145</td>\n",
       "      <td>47.1</td>\n",
       "      <td>1.5</td>\n",
       "      <td>10950</td>\n",
       "    </tr>\n",
       "    <tr>\n",
       "      <th>17083</th>\n",
       "      <td>17083</td>\n",
       "      <td>2</td>\n",
       "      <td>Focus</td>\n",
       "      <td>2018</td>\n",
       "      <td>1</td>\n",
       "      <td>18695</td>\n",
       "      <td>4</td>\n",
       "      <td>145</td>\n",
       "      <td>58.9</td>\n",
       "      <td>1.0</td>\n",
       "      <td>13295</td>\n",
       "    </tr>\n",
       "    <tr>\n",
       "      <th>17084</th>\n",
       "      <td>17084</td>\n",
       "      <td>2</td>\n",
       "      <td>Fiesta</td>\n",
       "      <td>2014</td>\n",
       "      <td>1</td>\n",
       "      <td>37812</td>\n",
       "      <td>0</td>\n",
       "      <td>0</td>\n",
       "      <td>76.4</td>\n",
       "      <td>1.5</td>\n",
       "      <td>7299</td>\n",
       "    </tr>\n",
       "  </tbody>\n",
       "</table>\n",
       "<p>17085 rows × 11 columns</p>\n",
       "</div>"
      ],
      "text/plain": [
       "          ID  company      model  year  transmission  mileage  fueltype  tax  \\\n",
       "0          0        2      Focus  2019             1     3764         4  145   \n",
       "1          1        1        I10  2015             1    27056         4   20   \n",
       "2          2        3         A3  2019             3     3375         4  145   \n",
       "3          3        3         A6  2019             0     5743         0  145   \n",
       "4          4        2     Fiesta  2015             1    32782         4    0   \n",
       "...      ...      ...        ...   ...           ...      ...       ...  ...   \n",
       "17080  17080        0   1 Series  2018             0     4666         4  145   \n",
       "17081  17081        3         A4  2020             3    22601         4  145   \n",
       "17082  17082        4      Yaris  2018             1    20312         4  145   \n",
       "17083  17083        2      Focus  2018             1    18695         4  145   \n",
       "17084  17084        2     Fiesta  2014             1    37812         0    0   \n",
       "\n",
       "        mpg  engineSize  price  \n",
       "0      34.5         2.3  26299  \n",
       "1      60.1         1.0   5495  \n",
       "2      34.5         2.0  32400  \n",
       "3      47.9         2.0  29990  \n",
       "4      65.7         1.0   7250  \n",
       "...     ...         ...    ...  \n",
       "17080  32.5         3.0  23499  \n",
       "17081  39.2         2.0  32481  \n",
       "17082  47.1         1.5  10950  \n",
       "17083  58.9         1.0  13295  \n",
       "17084  76.4         1.5   7299  \n",
       "\n",
       "[17085 rows x 11 columns]"
      ]
     },
     "execution_count": 6,
     "metadata": {},
     "output_type": "execute_result"
    }
   ],
   "source": [
    "train"
   ]
  },
  {
   "cell_type": "code",
   "execution_count": 7,
   "id": "fc9abb43",
   "metadata": {
    "execution": {
     "iopub.execute_input": "2022-09-16T09:54:52.444242Z",
     "iopub.status.busy": "2022-09-16T09:54:52.443826Z",
     "iopub.status.idle": "2022-09-16T09:54:52.451200Z",
     "shell.execute_reply": "2022-09-16T09:54:52.450122Z"
    },
    "papermill": {
     "duration": 0.015944,
     "end_time": "2022-09-16T09:54:52.453633",
     "exception": false,
     "start_time": "2022-09-16T09:54:52.437689",
     "status": "completed"
    },
    "tags": []
   },
   "outputs": [
    {
     "data": {
      "text/plain": [
       "Index(['ID', 'company', 'model', 'year', 'transmission', 'mileage', 'fueltype',\n",
       "       'tax', 'mpg', 'engineSize', 'price'],\n",
       "      dtype='object')"
      ]
     },
     "execution_count": 7,
     "metadata": {},
     "output_type": "execute_result"
    }
   ],
   "source": [
    "train.columns"
   ]
  },
  {
   "cell_type": "code",
   "execution_count": 8,
   "id": "ab8348e4",
   "metadata": {
    "execution": {
     "iopub.execute_input": "2022-09-16T09:54:52.465456Z",
     "iopub.status.busy": "2022-09-16T09:54:52.464832Z",
     "iopub.status.idle": "2022-09-16T09:54:52.481936Z",
     "shell.execute_reply": "2022-09-16T09:54:52.480976Z"
    },
    "papermill": {
     "duration": 0.025916,
     "end_time": "2022-09-16T09:54:52.484414",
     "exception": false,
     "start_time": "2022-09-16T09:54:52.458498",
     "status": "completed"
    },
    "tags": []
   },
   "outputs": [],
   "source": [
    "x_train = np.array(train[['year', 'transmission', 'mileage', 'fueltype', 'tax', 'mpg', 'engineSize']])\n",
    "y_train = np.array(train['price'])\n",
    "y_train = y_train.reshape(-1,1)\n",
    "x_test = np.array(test[['year', 'transmission', 'mileage', 'fueltype', 'tax', 'mpg', 'engineSize']])"
   ]
  },
  {
   "cell_type": "code",
   "execution_count": 9,
   "id": "15fc1699",
   "metadata": {
    "execution": {
     "iopub.execute_input": "2022-09-16T09:54:52.495805Z",
     "iopub.status.busy": "2022-09-16T09:54:52.495352Z",
     "iopub.status.idle": "2022-09-16T09:54:52.501322Z",
     "shell.execute_reply": "2022-09-16T09:54:52.500057Z"
    },
    "papermill": {
     "duration": 0.014254,
     "end_time": "2022-09-16T09:54:52.503455",
     "exception": false,
     "start_time": "2022-09-16T09:54:52.489201",
     "status": "completed"
    },
    "tags": []
   },
   "outputs": [],
   "source": [
    "x_train = torch.FloatTensor(x_train)\n",
    "y_train = torch.FloatTensor(y_train)\n",
    "x_test = torch.FloatTensor(x_test)"
   ]
  },
  {
   "cell_type": "code",
   "execution_count": 10,
   "id": "e462fded",
   "metadata": {
    "execution": {
     "iopub.execute_input": "2022-09-16T09:54:52.515853Z",
     "iopub.status.busy": "2022-09-16T09:54:52.514597Z",
     "iopub.status.idle": "2022-09-16T09:54:52.526807Z",
     "shell.execute_reply": "2022-09-16T09:54:52.525283Z"
    },
    "papermill": {
     "duration": 0.022244,
     "end_time": "2022-09-16T09:54:52.530703",
     "exception": false,
     "start_time": "2022-09-16T09:54:52.508459",
     "status": "completed"
    },
    "tags": []
   },
   "outputs": [
    {
     "name": "stdout",
     "output_type": "stream",
     "text": [
      "tensor([[2.0190e+03, 1.0000e+00, 3.7640e+03,  ..., 1.4500e+02, 3.4500e+01,\n",
      "         2.3000e+00],\n",
      "        [2.0150e+03, 1.0000e+00, 2.7056e+04,  ..., 2.0000e+01, 6.0100e+01,\n",
      "         1.0000e+00],\n",
      "        [2.0190e+03, 3.0000e+00, 3.3750e+03,  ..., 1.4500e+02, 3.4500e+01,\n",
      "         2.0000e+00],\n",
      "        ...,\n",
      "        [2.0180e+03, 1.0000e+00, 2.0312e+04,  ..., 1.4500e+02, 4.7100e+01,\n",
      "         1.5000e+00],\n",
      "        [2.0180e+03, 1.0000e+00, 1.8695e+04,  ..., 1.4500e+02, 5.8900e+01,\n",
      "         1.0000e+00],\n",
      "        [2.0140e+03, 1.0000e+00, 3.7812e+04,  ..., 0.0000e+00, 7.6400e+01,\n",
      "         1.5000e+00]])\n",
      "tensor([[26299.],\n",
      "        [ 5495.],\n",
      "        [32400.],\n",
      "        ...,\n",
      "        [10950.],\n",
      "        [13295.],\n",
      "        [ 7299.]])\n",
      "tensor([[2.0170e+03, 1.0000e+00, 1.0150e+04,  ..., 1.4500e+02, 5.7700e+01,\n",
      "         1.2000e+00],\n",
      "        [2.0130e+03, 1.0000e+00, 5.0216e+04,  ..., 1.4500e+02, 5.3300e+01,\n",
      "         2.0000e+00],\n",
      "        [2.0160e+03, 1.0000e+00, 3.4189e+04,  ..., 2.0000e+02, 4.7900e+01,\n",
      "         2.0000e+00],\n",
      "        ...,\n",
      "        [2.0170e+03, 1.0000e+00, 4.6800e+04,  ..., 1.5000e+02, 5.4300e+01,\n",
      "         2.0000e+00],\n",
      "        [2.0170e+03, 3.0000e+00, 1.4562e+04,  ..., 1.4500e+02, 5.2300e+01,\n",
      "         3.0000e+00],\n",
      "        [2.0140e+03, 1.0000e+00, 7.9389e+04,  ..., 1.6500e+02, 5.0400e+01,\n",
      "         2.0000e+00]])\n"
     ]
    }
   ],
   "source": [
    "print(x_train)\n",
    "print(y_train)\n",
    "print(x_test)"
   ]
  },
  {
   "cell_type": "code",
   "execution_count": 11,
   "id": "578be15a",
   "metadata": {
    "execution": {
     "iopub.execute_input": "2022-09-16T09:54:52.543753Z",
     "iopub.status.busy": "2022-09-16T09:54:52.543336Z",
     "iopub.status.idle": "2022-09-16T09:54:52.548622Z",
     "shell.execute_reply": "2022-09-16T09:54:52.547401Z"
    },
    "papermill": {
     "duration": 0.014322,
     "end_time": "2022-09-16T09:54:52.551008",
     "exception": false,
     "start_time": "2022-09-16T09:54:52.536686",
     "status": "completed"
    },
    "tags": []
   },
   "outputs": [],
   "source": [
    "W = torch.zeros((7,1), requires_grad=True)\n",
    "b = torch.zeros(1, requires_grad=True)"
   ]
  },
  {
   "cell_type": "code",
   "execution_count": 12,
   "id": "5a90a554",
   "metadata": {
    "execution": {
     "iopub.execute_input": "2022-09-16T09:54:52.563020Z",
     "iopub.status.busy": "2022-09-16T09:54:52.562222Z",
     "iopub.status.idle": "2022-09-16T09:57:42.180485Z",
     "shell.execute_reply": "2022-09-16T09:57:42.179643Z"
    },
    "papermill": {
     "duration": 169.628475,
     "end_time": "2022-09-16T09:57:42.184417",
     "exception": false,
     "start_time": "2022-09-16T09:54:52.555942",
     "status": "completed"
    },
    "tags": []
   },
   "outputs": [
    {
     "name": "stdout",
     "output_type": "stream",
     "text": [
      "Epoch    0/500000 hypothesis: tensor([0., 0., 0.,  ..., 0., 0., 0.]) Cost: 17073.593750\n",
      "Epoch 10000/500000 hypothesis: tensor([17921.6895, 14304.1055, 17975.5352,  ..., 15621.5811, 15843.1543,\n",
      "        12748.0176]) Cost: 6332.573730\n",
      "Epoch 20000/500000 hypothesis: tensor([17990.4668, 14247.5508, 18041.7969,  ..., 15793.6133, 15999.6191,\n",
      "        12712.8350]) Cost: 6297.756836\n",
      "Epoch 30000/500000 hypothesis: tensor([18020.5430, 14040.2852, 18071.4746,  ..., 15837.0557, 16036.4561,\n",
      "        12470.9375]) Cost: 6264.375000\n",
      "Epoch 40000/500000 hypothesis: tensor([18046.3574, 13818.4043, 18097.2930,  ..., 15859.2510, 16053.8809,\n",
      "        12205.6436]) Cost: 6233.813477\n",
      "Epoch 50000/500000 hypothesis: tensor([18071.8359, 13575.0156, 18123.3828,  ..., 15855.5176, 16048.0664,\n",
      "        11904.6885]) Cost: 6206.806641\n",
      "Epoch 60000/500000 hypothesis: tensor([18105.8203, 13391.3730, 18157.3086,  ..., 15888.7783, 16076.6074,\n",
      "        11683.8594]) Cost: 6183.051758\n",
      "Epoch 70000/500000 hypothesis: tensor([18143.3164, 13243.6279, 18194.4082,  ..., 15940.1992, 16122.0264,\n",
      "        11510.4160]) Cost: 6161.761230\n",
      "Epoch 80000/500000 hypothesis: tensor([18184.9316, 13151.7598, 18234.9805,  ..., 16023.2559, 16196.5596,\n",
      "        11412.9014]) Cost: 6143.356445\n",
      "Epoch 90000/500000 hypothesis: tensor([18225.1875, 13090.9277, 18273.8691,  ..., 16118.9805, 16282.5508,\n",
      "        11357.6533]) Cost: 6128.030762\n",
      "Epoch 100000/500000 hypothesis: tensor([18272.3984, 12996.5654, 18320.5820,  ..., 16184.7939, 16342.3789,\n",
      "        11246.8174]) Cost: 6113.916992\n",
      "Epoch 110000/500000 hypothesis: tensor([18321.7461, 12933.3545, 18369.1289,  ..., 16265.6318, 16416.1133,\n",
      "        11177.3271]) Cost: 6102.337891\n",
      "Epoch 120000/500000 hypothesis: tensor([18385.7793, 13019.7676, 18430.3223,  ..., 16448.1543, 16583.1934,\n",
      "        11316.0938]) Cost: 6100.957031\n",
      "Epoch 130000/500000 hypothesis: tensor([18457.1465, 13028.4258, 18500.4336,  ..., 16570.7793, 16697.0781,\n",
      "        11335.0000]) Cost: 6098.479004\n",
      "Epoch 140000/500000 hypothesis: tensor([18483.8789, 12896.1904, 18527.6602,  ..., 16574.4121, 16699.3359,\n",
      "        11166.0811]) Cost: 6085.976562\n",
      "Epoch 150000/500000 hypothesis: tensor([18515.0098, 12794.2646, 18558.9980,  ..., 16594.5938, 16717.0918,\n",
      "        11036.8535]) Cost: 6076.672852\n",
      "Epoch 160000/500000 hypothesis: tensor([18541.2598, 12721.6211, 18585.0371,  ..., 16627.8750, 16746.3008,\n",
      "        10950.0713]) Cost: 6070.354492\n",
      "Epoch 170000/500000 hypothesis: tensor([18564.7695, 12636.4775, 18608.6406,  ..., 16645.6992, 16761.3887,\n",
      "        10843.8760]) Cost: 6063.561523\n",
      "Epoch 180000/500000 hypothesis: tensor([18581.5703, 12574.6943, 18625.1309,  ..., 16673.8281, 16785.1973,\n",
      "        10773.1172]) Cost: 6059.023438\n",
      "Epoch 190000/500000 hypothesis: tensor([18604.6191, 12504.3408, 18648.2441,  ..., 16692.5039, 16801.1777,\n",
      "        10684.8018]) Cost: 6053.840820\n",
      "Epoch 200000/500000 hypothesis: tensor([18616.9727, 12414.6113, 18660.9258,  ..., 16689.3086, 16796.4785,\n",
      "        10571.0273]) Cost: 6047.932617\n",
      "Epoch 210000/500000 hypothesis: tensor([18635.8535, 12355.2822, 18679.8398,  ..., 16705.2637, 16809.7891,\n",
      "        10496.8848]) Cost: 6044.157227\n",
      "Epoch 220000/500000 hypothesis: tensor([18650.1660, 12274.0400, 18694.5703,  ..., 16700.2637, 16803.8125,\n",
      "        10391.1318]) Cost: 6039.543945\n",
      "Epoch 230000/500000 hypothesis: tensor([18660.6270, 12231.8311, 18704.8203,  ..., 16718.2676, 16818.2891,\n",
      "        10342.7158]) Cost: 6037.369141\n",
      "Epoch 240000/500000 hypothesis: tensor([18663.6504, 11969.8096, 18711.2734,  ..., 16574.1230, 16685.8164,\n",
      "         9974.8350]) Cost: 6030.113770\n",
      "Epoch 250000/500000 hypothesis: tensor([18682.0117, 11932.0352, 18729.6582,  ..., 16590.2891, 16699.5527,\n",
      "         9926.2412]) Cost: 6028.384277\n",
      "Epoch 260000/500000 hypothesis: tensor([18694.2539, 11912.7432, 18741.5664,  ..., 16615.4805, 16720.8691,\n",
      "         9906.5186]) Cost: 6026.837402\n",
      "Epoch 270000/500000 hypothesis: tensor([18693.5234, 11834.0371, 18741.3477,  ..., 16591.8164, 16696.8887,\n",
      "         9804.7344]) Cost: 6025.561523\n",
      "Epoch 280000/500000 hypothesis: tensor([18704.6680, 11840.5508, 18751.8359,  ..., 16629.7910, 16729.7305,\n",
      "         9821.0703]) Cost: 6024.258301\n",
      "Epoch 290000/500000 hypothesis: tensor([18718.9297, 11833.7451, 18765.7578,  ..., 16657.2871, 16753.4609,\n",
      "         9815.7031]) Cost: 6023.226074\n",
      "Epoch 300000/500000 hypothesis: tensor([18723.7402, 11807.0293, 18770.4766,  ..., 16664.9727, 16758.4336,\n",
      "         9784.3701]) Cost: 6022.272949\n",
      "Epoch 310000/500000 hypothesis: tensor([18736.7773, 11831.0547, 18782.7500,  ..., 16709.4609, 16797.4648,\n",
      "         9822.7490]) Cost: 6021.878906\n",
      "Epoch 320000/500000 hypothesis: tensor([18757.6875, 11850.3994, 18803.1465,  ..., 16751.1699, 16834.7793,\n",
      "         9849.9287]) Cost: 6021.773438\n",
      "Epoch 330000/500000 hypothesis: tensor([18763.1055, 11818.3799, 18808.6895,  ..., 16750.2090, 16832.1250,\n",
      "         9808.4805]) Cost: 6020.800781\n",
      "Epoch 340000/500000 hypothesis: tensor([18783.2832, 11818.2188, 18828.7227,  ..., 16775.6309, 16854.7363,\n",
      "         9806.5762]) Cost: 6020.437500\n",
      "Epoch 350000/500000 hypothesis: tensor([18796.6953, 11806.3359, 18842.1406,  ..., 16787.8359, 16864.7988,\n",
      "         9789.4355]) Cost: 6019.877930\n",
      "Epoch 360000/500000 hypothesis: tensor([18808.0410, 11782.6475, 18853.6875,  ..., 16789.7969, 16865.4492,\n",
      "         9755.4736]) Cost: 6019.057129\n",
      "Epoch 370000/500000 hypothesis: tensor([18812.3203, 11763.2383, 18858.0000,  ..., 16791.7285, 16865.4082,\n",
      "         9730.6104]) Cost: 6018.433594\n",
      "Epoch 380000/500000 hypothesis: tensor([18821.2383, 11751.7793, 18866.8984,  ..., 16800.6465, 16872.1328,\n",
      "         9715.2275]) Cost: 6017.958496\n",
      "Epoch 390000/500000 hypothesis: tensor([18827.0762, 11747.3018, 18872.5879,  ..., 16812.0137, 16880.7676,\n",
      "         9710.7871]) Cost: 6017.679199\n",
      "Epoch 400000/500000 hypothesis: tensor([18831.6641, 11733.8320, 18877.1777,  ..., 16815.6289, 16882.3301,\n",
      "         9693.3770]) Cost: 6017.198730\n",
      "Epoch 410000/500000 hypothesis: tensor([18837.9180, 11721.8203, 18883.4473,  ..., 16820.3418, 16885.0508,\n",
      "         9677.1523]) Cost: 6016.739746\n",
      "Epoch 420000/500000 hypothesis: tensor([18844.7734, 11712.1436, 18890.3086,  ..., 16826.2109, 16888.8945,\n",
      "         9663.7852]) Cost: 6016.337891\n",
      "Epoch 430000/500000 hypothesis: tensor([18847.5742, 11698.6484, 18893.1387,  ..., 16826.8555, 16887.6250,\n",
      "         9646.1426]) Cost: 6015.875488\n",
      "Epoch 440000/500000 hypothesis: tensor([18851.5137, 11684.2578, 18897.1621,  ..., 16826.5234, 16885.6328,\n",
      "         9626.4014]) Cost: 6015.385742\n",
      "Epoch 450000/500000 hypothesis: tensor([18850.9473, 11671.6689, 18896.5898,  ..., 16825.4102, 16882.5000,\n",
      "         9611.0566]) Cost: 6014.980469\n",
      "Epoch 460000/500000 hypothesis: tensor([18851.2852, 11662.3438, 18896.8906,  ..., 16826.5293, 16881.4785,\n",
      "         9599.9229]) Cost: 6014.635742\n",
      "Epoch 470000/500000 hypothesis: tensor([18856.6270, 11653.9229, 18902.2852,  ..., 16828.9023, 16882.0840,\n",
      "         9587.4473]) Cost: 6014.261719\n",
      "Epoch 480000/500000 hypothesis: tensor([18863.3359, 11645.6650, 18909.0684,  ..., 16831.7090, 16883.2402,\n",
      "         9574.5576]) Cost: 6013.884766\n",
      "Epoch 490000/500000 hypothesis: tensor([18865.8652, 11637.0967, 18911.6250,  ..., 16832.3086, 16882.0137,\n",
      "         9562.8271]) Cost: 6013.529785\n",
      "Epoch 500000/500000 hypothesis: tensor([18870.6348, 11631.7227, 18916.4102,  ..., 16835.8125, 16883.6270,\n",
      "         9554.7227]) Cost: 6013.218262\n"
     ]
    }
   ],
   "source": [
    "optimizer = optim.SGD([W, b], lr=0.000013)\n",
    "nb_epochs = 500000\n",
    "\n",
    "for epoch in range(nb_epochs + 1):\n",
    "    hypothesis = x_train.matmul(W)+b\n",
    "    cost = torch.abs(hypothesis - y_train).sum()/n\n",
    "    \n",
    "    optimizer.zero_grad()\n",
    "    cost.backward()\n",
    "    optimizer.step()\n",
    "    \n",
    "    if epoch % 10000 == 0:\n",
    "        print('Epoch {:4d}/{} hypothesis: {} Cost: {:.6f}'.format(\n",
    "            epoch, nb_epochs, hypothesis.squeeze().detach(), cost.item()\n",
    "        )) "
   ]
  },
  {
   "cell_type": "code",
   "execution_count": 13,
   "id": "c7375e42",
   "metadata": {
    "execution": {
     "iopub.execute_input": "2022-09-16T09:57:42.204680Z",
     "iopub.status.busy": "2022-09-16T09:57:42.204258Z",
     "iopub.status.idle": "2022-09-16T09:57:42.213021Z",
     "shell.execute_reply": "2022-09-16T09:57:42.211929Z"
    },
    "papermill": {
     "duration": 0.020588,
     "end_time": "2022-09-16T09:57:42.215400",
     "exception": false,
     "start_time": "2022-09-16T09:57:42.194812",
     "status": "completed"
    },
    "tags": []
   },
   "outputs": [
    {
     "data": {
      "text/plain": [
       "tensor([[17801.4062],\n",
       "        [13051.9678],\n",
       "        [16929.8672],\n",
       "        ...,\n",
       "        [13649.0752],\n",
       "        [17362.7324],\n",
       "        [10284.7773]], grad_fn=<AddBackward0>)"
      ]
     },
     "execution_count": 13,
     "metadata": {},
     "output_type": "execute_result"
    }
   ],
   "source": [
    "test_re = x_test.matmul(W) + b\n",
    "test_re"
   ]
  },
  {
   "cell_type": "code",
   "execution_count": 14,
   "id": "fc6a8dd6",
   "metadata": {
    "execution": {
     "iopub.execute_input": "2022-09-16T09:57:42.235213Z",
     "iopub.status.busy": "2022-09-16T09:57:42.234402Z",
     "iopub.status.idle": "2022-09-16T09:57:42.266705Z",
     "shell.execute_reply": "2022-09-16T09:57:42.265584Z"
    },
    "papermill": {
     "duration": 0.044597,
     "end_time": "2022-09-16T09:57:42.269519",
     "exception": false,
     "start_time": "2022-09-16T09:57:42.224922",
     "status": "completed"
    },
    "tags": []
   },
   "outputs": [],
   "source": [
    "submit['price'] = test_re.detach().numpy()\n",
    "submission=submit.astype(np.int32)\n",
    "submission.to_csv('submission.csv',mode='w',header=True,index=False)"
   ]
  },
  {
   "cell_type": "code",
   "execution_count": null,
   "id": "6006bb8b",
   "metadata": {
    "papermill": {
     "duration": 0.007806,
     "end_time": "2022-09-16T09:57:42.285480",
     "exception": false,
     "start_time": "2022-09-16T09:57:42.277674",
     "status": "completed"
    },
    "tags": []
   },
   "outputs": [],
   "source": []
  }
 ],
 "metadata": {
  "kernelspec": {
   "display_name": "Python 3",
   "language": "python",
   "name": "python3"
  },
  "language_info": {
   "codemirror_mode": {
    "name": "ipython",
    "version": 3
   },
   "file_extension": ".py",
   "mimetype": "text/x-python",
   "name": "python",
   "nbconvert_exporter": "python",
   "pygments_lexer": "ipython3",
   "version": "3.7.12"
  },
  "papermill": {
   "default_parameters": {},
   "duration": 183.387852,
   "end_time": "2022-09-16T09:57:43.217542",
   "environment_variables": {},
   "exception": null,
   "input_path": "__notebook__.ipynb",
   "output_path": "__notebook__.ipynb",
   "parameters": {},
   "start_time": "2022-09-16T09:54:39.829690",
   "version": "2.3.4"
  }
 },
 "nbformat": 4,
 "nbformat_minor": 5
}
