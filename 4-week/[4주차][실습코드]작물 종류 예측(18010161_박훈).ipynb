{
 "cells": [
  {
   "cell_type": "code",
   "execution_count": 1,
   "id": "5604df24",
   "metadata": {
    "_cell_guid": "b1076dfc-b9ad-4769-8c92-a6c4dae69d19",
    "_uuid": "8f2839f25d086af736a60e9eeb907d3b93b6e0e5",
    "execution": {
     "iopub.execute_input": "2022-09-25T16:52:49.457191Z",
     "iopub.status.busy": "2022-09-25T16:52:49.456728Z",
     "iopub.status.idle": "2022-09-25T16:52:49.470978Z",
     "shell.execute_reply": "2022-09-25T16:52:49.469776Z"
    },
    "papermill": {
     "duration": 0.025532,
     "end_time": "2022-09-25T16:52:49.473997",
     "exception": false,
     "start_time": "2022-09-25T16:52:49.448465",
     "status": "completed"
    },
    "tags": []
   },
   "outputs": [
    {
     "name": "stdout",
     "output_type": "stream",
     "text": [
      "/kaggle/input/2022-ai-w4p2/sample.csv\n",
      "/kaggle/input/2022-ai-w4p2/train.csv\n",
      "/kaggle/input/2022-ai-w4p2/test.csv\n"
     ]
    }
   ],
   "source": [
    "# This Python 3 environment comes with many helpful analytics libraries installed\n",
    "# It is defined by the kaggle/python Docker image: https://github.com/kaggle/docker-python\n",
    "# For example, here's several helpful packages to load\n",
    "\n",
    "import numpy as np # linear algebra\n",
    "import pandas as pd # data processing, CSV file I/O (e.g. pd.read_csv)\n",
    "\n",
    "# Input data files are available in the read-only \"../input/\" directory\n",
    "# For example, running this (by clicking run or pressing Shift+Enter) will list all files under the input directory\n",
    "\n",
    "import os\n",
    "for dirname, _, filenames in os.walk('/kaggle/input'):\n",
    "    for filename in filenames:\n",
    "        print(os.path.join(dirname, filename))\n",
    "\n",
    "# You can write up to 20GB to the current directory (/kaggle/working/) that gets preserved as output when you create a version using \"Save & Run All\" \n",
    "# You can also write temporary files to /kaggle/temp/, but they won't be saved outside of the current session"
   ]
  },
  {
   "cell_type": "code",
   "execution_count": 2,
   "id": "cda9c35f",
   "metadata": {
    "execution": {
     "iopub.execute_input": "2022-09-25T16:52:49.488114Z",
     "iopub.status.busy": "2022-09-25T16:52:49.487070Z",
     "iopub.status.idle": "2022-09-25T16:52:51.490173Z",
     "shell.execute_reply": "2022-09-25T16:52:51.488652Z"
    },
    "papermill": {
     "duration": 2.013083,
     "end_time": "2022-09-25T16:52:51.493280",
     "exception": false,
     "start_time": "2022-09-25T16:52:49.480197",
     "status": "completed"
    },
    "tags": []
   },
   "outputs": [],
   "source": [
    "import random\n",
    "import torch\n",
    "import torch.optim as optim\n",
    "\n",
    "seed = 42\n",
    "random.seed(seed)\n",
    "np.random.seed(seed)\n",
    "torch.manual_seed(seed)\n",
    "if torch.cuda.is_available():\n",
    "    torch.cuda.manual_seed(seed)\n",
    "    torch.cuda.manual_seed_all(seed)\n",
    "torch.backends.cudnn.benchmark = False\n",
    "torch.backends.cudnn.deterministic = True"
   ]
  },
  {
   "cell_type": "code",
   "execution_count": 3,
   "id": "070a6994",
   "metadata": {
    "execution": {
     "iopub.execute_input": "2022-09-25T16:52:51.506316Z",
     "iopub.status.busy": "2022-09-25T16:52:51.505680Z",
     "iopub.status.idle": "2022-09-25T16:52:51.539773Z",
     "shell.execute_reply": "2022-09-25T16:52:51.538512Z"
    },
    "papermill": {
     "duration": 0.044118,
     "end_time": "2022-09-25T16:52:51.542923",
     "exception": false,
     "start_time": "2022-09-25T16:52:51.498805",
     "status": "completed"
    },
    "tags": []
   },
   "outputs": [],
   "source": [
    "train = pd.read_csv('/kaggle/input/2022-ai-w4p2/train.csv')\n",
    "test = pd.read_csv('/kaggle/input/2022-ai-w4p2/test.csv')\n",
    "submit = pd.read_csv('/kaggle/input/2022-ai-w4p2/sample.csv')"
   ]
  },
  {
   "cell_type": "code",
   "execution_count": 4,
   "id": "72a2e8c8",
   "metadata": {
    "execution": {
     "iopub.execute_input": "2022-09-25T16:52:51.555552Z",
     "iopub.status.busy": "2022-09-25T16:52:51.555125Z",
     "iopub.status.idle": "2022-09-25T16:52:51.582285Z",
     "shell.execute_reply": "2022-09-25T16:52:51.581013Z"
    },
    "papermill": {
     "duration": 0.036634,
     "end_time": "2022-09-25T16:52:51.584917",
     "exception": false,
     "start_time": "2022-09-25T16:52:51.548283",
     "status": "completed"
    },
    "tags": []
   },
   "outputs": [
    {
     "data": {
      "text/html": [
       "<div>\n",
       "<style scoped>\n",
       "    .dataframe tbody tr th:only-of-type {\n",
       "        vertical-align: middle;\n",
       "    }\n",
       "\n",
       "    .dataframe tbody tr th {\n",
       "        vertical-align: top;\n",
       "    }\n",
       "\n",
       "    .dataframe thead th {\n",
       "        text-align: right;\n",
       "    }\n",
       "</style>\n",
       "<table border=\"1\" class=\"dataframe\">\n",
       "  <thead>\n",
       "    <tr style=\"text-align: right;\">\n",
       "      <th></th>\n",
       "      <th>N</th>\n",
       "      <th>P</th>\n",
       "      <th>K</th>\n",
       "      <th>temperature</th>\n",
       "      <th>humidity</th>\n",
       "      <th>ph</th>\n",
       "      <th>rainfall</th>\n",
       "      <th>label</th>\n",
       "    </tr>\n",
       "  </thead>\n",
       "  <tbody>\n",
       "    <tr>\n",
       "      <th>0</th>\n",
       "      <td>22</td>\n",
       "      <td>36</td>\n",
       "      <td>16</td>\n",
       "      <td>30.581395</td>\n",
       "      <td>50.771481</td>\n",
       "      <td>8.184229</td>\n",
       "      <td>64.585596</td>\n",
       "      <td>mothbeans</td>\n",
       "    </tr>\n",
       "    <tr>\n",
       "      <th>1</th>\n",
       "      <td>18</td>\n",
       "      <td>27</td>\n",
       "      <td>41</td>\n",
       "      <td>22.365094</td>\n",
       "      <td>92.308824</td>\n",
       "      <td>7.175344</td>\n",
       "      <td>104.821633</td>\n",
       "      <td>pomegranate</td>\n",
       "    </tr>\n",
       "    <tr>\n",
       "      <th>2</th>\n",
       "      <td>61</td>\n",
       "      <td>68</td>\n",
       "      <td>50</td>\n",
       "      <td>35.214628</td>\n",
       "      <td>91.497251</td>\n",
       "      <td>6.793245</td>\n",
       "      <td>243.074507</td>\n",
       "      <td>papaya</td>\n",
       "    </tr>\n",
       "    <tr>\n",
       "      <th>3</th>\n",
       "      <td>26</td>\n",
       "      <td>72</td>\n",
       "      <td>22</td>\n",
       "      <td>28.767949</td>\n",
       "      <td>37.577921</td>\n",
       "      <td>4.674942</td>\n",
       "      <td>91.720849</td>\n",
       "      <td>pigeonpeas</td>\n",
       "    </tr>\n",
       "    <tr>\n",
       "      <th>4</th>\n",
       "      <td>2</td>\n",
       "      <td>140</td>\n",
       "      <td>197</td>\n",
       "      <td>22.697801</td>\n",
       "      <td>92.822234</td>\n",
       "      <td>5.534567</td>\n",
       "      <td>105.050823</td>\n",
       "      <td>apple</td>\n",
       "    </tr>\n",
       "    <tr>\n",
       "      <th>...</th>\n",
       "      <td>...</td>\n",
       "      <td>...</td>\n",
       "      <td>...</td>\n",
       "      <td>...</td>\n",
       "      <td>...</td>\n",
       "      <td>...</td>\n",
       "      <td>...</td>\n",
       "      <td>...</td>\n",
       "    </tr>\n",
       "    <tr>\n",
       "      <th>1645</th>\n",
       "      <td>10</td>\n",
       "      <td>5</td>\n",
       "      <td>5</td>\n",
       "      <td>21.213070</td>\n",
       "      <td>91.353492</td>\n",
       "      <td>7.817846</td>\n",
       "      <td>112.983436</td>\n",
       "      <td>orange</td>\n",
       "    </tr>\n",
       "    <tr>\n",
       "      <th>1646</th>\n",
       "      <td>108</td>\n",
       "      <td>94</td>\n",
       "      <td>47</td>\n",
       "      <td>27.359116</td>\n",
       "      <td>84.546250</td>\n",
       "      <td>6.387431</td>\n",
       "      <td>90.812505</td>\n",
       "      <td>banana</td>\n",
       "    </tr>\n",
       "    <tr>\n",
       "      <th>1647</th>\n",
       "      <td>11</td>\n",
       "      <td>36</td>\n",
       "      <td>31</td>\n",
       "      <td>27.920633</td>\n",
       "      <td>51.779659</td>\n",
       "      <td>6.475449</td>\n",
       "      <td>100.258567</td>\n",
       "      <td>mango</td>\n",
       "    </tr>\n",
       "    <tr>\n",
       "      <th>1648</th>\n",
       "      <td>11</td>\n",
       "      <td>124</td>\n",
       "      <td>204</td>\n",
       "      <td>13.429886</td>\n",
       "      <td>80.066340</td>\n",
       "      <td>6.361141</td>\n",
       "      <td>71.400430</td>\n",
       "      <td>grapes</td>\n",
       "    </tr>\n",
       "    <tr>\n",
       "      <th>1649</th>\n",
       "      <td>32</td>\n",
       "      <td>78</td>\n",
       "      <td>22</td>\n",
       "      <td>23.970814</td>\n",
       "      <td>62.355576</td>\n",
       "      <td>7.007038</td>\n",
       "      <td>53.409060</td>\n",
       "      <td>lentil</td>\n",
       "    </tr>\n",
       "  </tbody>\n",
       "</table>\n",
       "<p>1650 rows × 8 columns</p>\n",
       "</div>"
      ],
      "text/plain": [
       "        N    P    K  temperature   humidity        ph    rainfall        label\n",
       "0      22   36   16    30.581395  50.771481  8.184229   64.585596    mothbeans\n",
       "1      18   27   41    22.365094  92.308824  7.175344  104.821633  pomegranate\n",
       "2      61   68   50    35.214628  91.497251  6.793245  243.074507       papaya\n",
       "3      26   72   22    28.767949  37.577921  4.674942   91.720849   pigeonpeas\n",
       "4       2  140  197    22.697801  92.822234  5.534567  105.050823        apple\n",
       "...   ...  ...  ...          ...        ...       ...         ...          ...\n",
       "1645   10    5    5    21.213070  91.353492  7.817846  112.983436       orange\n",
       "1646  108   94   47    27.359116  84.546250  6.387431   90.812505       banana\n",
       "1647   11   36   31    27.920633  51.779659  6.475449  100.258567        mango\n",
       "1648   11  124  204    13.429886  80.066340  6.361141   71.400430       grapes\n",
       "1649   32   78   22    23.970814  62.355576  7.007038   53.409060       lentil\n",
       "\n",
       "[1650 rows x 8 columns]"
      ]
     },
     "execution_count": 4,
     "metadata": {},
     "output_type": "execute_result"
    }
   ],
   "source": [
    "train"
   ]
  },
  {
   "cell_type": "code",
   "execution_count": 5,
   "id": "76900036",
   "metadata": {
    "execution": {
     "iopub.execute_input": "2022-09-25T16:52:51.599050Z",
     "iopub.status.busy": "2022-09-25T16:52:51.597790Z",
     "iopub.status.idle": "2022-09-25T16:52:51.605795Z",
     "shell.execute_reply": "2022-09-25T16:52:51.604541Z"
    },
    "papermill": {
     "duration": 0.017587,
     "end_time": "2022-09-25T16:52:51.608292",
     "exception": false,
     "start_time": "2022-09-25T16:52:51.590705",
     "status": "completed"
    },
    "tags": []
   },
   "outputs": [
    {
     "data": {
      "text/plain": [
       "Index(['N', 'P', 'K', 'temperature', 'humidity', 'ph', 'rainfall', 'label'], dtype='object')"
      ]
     },
     "execution_count": 5,
     "metadata": {},
     "output_type": "execute_result"
    }
   ],
   "source": [
    "train.columns"
   ]
  },
  {
   "cell_type": "code",
   "execution_count": 6,
   "id": "43a507bd",
   "metadata": {
    "execution": {
     "iopub.execute_input": "2022-09-25T16:52:51.622759Z",
     "iopub.status.busy": "2022-09-25T16:52:51.622055Z",
     "iopub.status.idle": "2022-09-25T16:52:51.636782Z",
     "shell.execute_reply": "2022-09-25T16:52:51.635657Z"
    },
    "papermill": {
     "duration": 0.024629,
     "end_time": "2022-09-25T16:52:51.639329",
     "exception": false,
     "start_time": "2022-09-25T16:52:51.614700",
     "status": "completed"
    },
    "tags": []
   },
   "outputs": [],
   "source": [
    "x_train = np.array(train[['N', 'P', 'K', 'temperature', 'humidity', 'ph', 'rainfall']])\n",
    "y_train = np.array(train[['label']])\n",
    "x_test = np.array(test)"
   ]
  },
  {
   "cell_type": "code",
   "execution_count": 7,
   "id": "d6c04955",
   "metadata": {
    "execution": {
     "iopub.execute_input": "2022-09-25T16:52:51.653539Z",
     "iopub.status.busy": "2022-09-25T16:52:51.652629Z",
     "iopub.status.idle": "2022-09-25T16:52:52.660306Z",
     "shell.execute_reply": "2022-09-25T16:52:52.658306Z"
    },
    "papermill": {
     "duration": 1.018363,
     "end_time": "2022-09-25T16:52:52.663372",
     "exception": false,
     "start_time": "2022-09-25T16:52:51.645009",
     "status": "completed"
    },
    "tags": []
   },
   "outputs": [],
   "source": [
    "from sklearn.preprocessing import RobustScaler\n",
    "trans1 = RobustScaler().fit(x_train)\n",
    "x_train = trans1.transform(x_train)\n",
    "trans2 = RobustScaler().fit(x_test)\n",
    "x_test = trans2.transform(x_test)"
   ]
  },
  {
   "cell_type": "code",
   "execution_count": 8,
   "id": "52def49b",
   "metadata": {
    "execution": {
     "iopub.execute_input": "2022-09-25T16:52:52.677261Z",
     "iopub.status.busy": "2022-09-25T16:52:52.676756Z",
     "iopub.status.idle": "2022-09-25T16:52:52.682478Z",
     "shell.execute_reply": "2022-09-25T16:52:52.681367Z"
    },
    "papermill": {
     "duration": 0.015973,
     "end_time": "2022-09-25T16:52:52.685163",
     "exception": false,
     "start_time": "2022-09-25T16:52:52.669190",
     "status": "completed"
    },
    "tags": []
   },
   "outputs": [],
   "source": [
    "x_train = torch.FloatTensor(x_train)\n",
    "x_test = torch.FloatTensor(x_test)"
   ]
  },
  {
   "cell_type": "code",
   "execution_count": 9,
   "id": "1279517f",
   "metadata": {
    "execution": {
     "iopub.execute_input": "2022-09-25T16:52:52.698190Z",
     "iopub.status.busy": "2022-09-25T16:52:52.697790Z",
     "iopub.status.idle": "2022-09-25T16:52:52.705419Z",
     "shell.execute_reply": "2022-09-25T16:52:52.704092Z"
    },
    "papermill": {
     "duration": 0.017194,
     "end_time": "2022-09-25T16:52:52.707994",
     "exception": false,
     "start_time": "2022-09-25T16:52:52.690800",
     "status": "completed"
    },
    "tags": []
   },
   "outputs": [
    {
     "data": {
      "text/plain": [
       "array([['mothbeans'],\n",
       "       ['pomegranate'],\n",
       "       ['papaya'],\n",
       "       ...,\n",
       "       ['mango'],\n",
       "       ['grapes'],\n",
       "       ['lentil']], dtype=object)"
      ]
     },
     "execution_count": 9,
     "metadata": {},
     "output_type": "execute_result"
    }
   ],
   "source": [
    "y_train"
   ]
  },
  {
   "cell_type": "code",
   "execution_count": 10,
   "id": "c9600a30",
   "metadata": {
    "execution": {
     "iopub.execute_input": "2022-09-25T16:52:52.721821Z",
     "iopub.status.busy": "2022-09-25T16:52:52.721064Z",
     "iopub.status.idle": "2022-09-25T16:52:52.729648Z",
     "shell.execute_reply": "2022-09-25T16:52:52.728175Z"
    },
    "papermill": {
     "duration": 0.018245,
     "end_time": "2022-09-25T16:52:52.732129",
     "exception": false,
     "start_time": "2022-09-25T16:52:52.713884",
     "status": "completed"
    },
    "tags": []
   },
   "outputs": [
    {
     "name": "stderr",
     "output_type": "stream",
     "text": [
      "/opt/conda/lib/python3.7/site-packages/sklearn/preprocessing/_label.py:98: DataConversionWarning: A column-vector y was passed when a 1d array was expected. Please change the shape of y to (n_samples, ), for example using ravel().\n",
      "  y = column_or_1d(y, warn=True)\n",
      "/opt/conda/lib/python3.7/site-packages/sklearn/preprocessing/_label.py:133: DataConversionWarning: A column-vector y was passed when a 1d array was expected. Please change the shape of y to (n_samples, ), for example using ravel().\n",
      "  y = column_or_1d(y, warn=True)\n"
     ]
    }
   ],
   "source": [
    "from sklearn.preprocessing import LabelEncoder\n",
    "labels = LabelEncoder()\n",
    "labels.fit(y_train)\n",
    "label = labels.transform(y_train)"
   ]
  },
  {
   "cell_type": "code",
   "execution_count": 11,
   "id": "0ec71a5f",
   "metadata": {
    "execution": {
     "iopub.execute_input": "2022-09-25T16:52:52.746525Z",
     "iopub.status.busy": "2022-09-25T16:52:52.745947Z",
     "iopub.status.idle": "2022-09-25T16:52:52.752629Z",
     "shell.execute_reply": "2022-09-25T16:52:52.751220Z"
    },
    "papermill": {
     "duration": 0.016833,
     "end_time": "2022-09-25T16:52:52.755071",
     "exception": false,
     "start_time": "2022-09-25T16:52:52.738238",
     "status": "completed"
    },
    "tags": []
   },
   "outputs": [],
   "source": [
    "y_train = torch.LongTensor(label)"
   ]
  },
  {
   "cell_type": "code",
   "execution_count": 12,
   "id": "7619795e",
   "metadata": {
    "execution": {
     "iopub.execute_input": "2022-09-25T16:52:52.769303Z",
     "iopub.status.busy": "2022-09-25T16:52:52.768657Z",
     "iopub.status.idle": "2022-09-25T16:52:52.779322Z",
     "shell.execute_reply": "2022-09-25T16:52:52.777938Z"
    },
    "papermill": {
     "duration": 0.020965,
     "end_time": "2022-09-25T16:52:52.782022",
     "exception": false,
     "start_time": "2022-09-25T16:52:52.761057",
     "status": "completed"
    },
    "tags": []
   },
   "outputs": [
    {
     "name": "stdout",
     "output_type": "stream",
     "text": [
      "tensor([13, 19, 17,  ..., 12,  7, 10])\n",
      "tensor([[13],\n",
      "        [19],\n",
      "        [17],\n",
      "        ...,\n",
      "        [12],\n",
      "        [ 7],\n",
      "        [10]])\n"
     ]
    }
   ],
   "source": [
    "print(y_train)\n",
    "print(y_train.unsqueeze(1))"
   ]
  },
  {
   "cell_type": "code",
   "execution_count": 13,
   "id": "595592c4",
   "metadata": {
    "execution": {
     "iopub.execute_input": "2022-09-25T16:52:52.796061Z",
     "iopub.status.busy": "2022-09-25T16:52:52.795281Z",
     "iopub.status.idle": "2022-09-25T16:52:52.810851Z",
     "shell.execute_reply": "2022-09-25T16:52:52.809644Z"
    },
    "papermill": {
     "duration": 0.025273,
     "end_time": "2022-09-25T16:52:52.813195",
     "exception": false,
     "start_time": "2022-09-25T16:52:52.787922",
     "status": "completed"
    },
    "tags": []
   },
   "outputs": [
    {
     "data": {
      "text/plain": [
       "tensor([[0., 0., 0.,  ..., 0., 0., 0.],\n",
       "        [0., 0., 0.,  ..., 1., 0., 0.],\n",
       "        [0., 0., 0.,  ..., 0., 0., 0.],\n",
       "        ...,\n",
       "        [0., 0., 0.,  ..., 0., 0., 0.],\n",
       "        [0., 0., 0.,  ..., 0., 0., 0.],\n",
       "        [0., 0., 0.,  ..., 0., 0., 0.]])"
      ]
     },
     "execution_count": 13,
     "metadata": {},
     "output_type": "execute_result"
    }
   ],
   "source": [
    "nb_class = 22\n",
    "nb_data = len(y_train)\n",
    "y_one_hot = torch.zeros(nb_data, nb_class)\n",
    "y_one_hot.scatter_(1, y_train.unsqueeze(1),1)"
   ]
  },
  {
   "cell_type": "code",
   "execution_count": 14,
   "id": "8c8caf15",
   "metadata": {
    "execution": {
     "iopub.execute_input": "2022-09-25T16:52:52.828287Z",
     "iopub.status.busy": "2022-09-25T16:52:52.827859Z",
     "iopub.status.idle": "2022-09-25T16:53:02.536756Z",
     "shell.execute_reply": "2022-09-25T16:53:02.535324Z"
    },
    "papermill": {
     "duration": 9.718973,
     "end_time": "2022-09-25T16:53:02.539325",
     "exception": false,
     "start_time": "2022-09-25T16:52:52.820352",
     "status": "completed"
    },
    "tags": []
   },
   "outputs": [
    {
     "name": "stdout",
     "output_type": "stream",
     "text": [
      "Epoch    0/10000 Cost: 3.091043\n",
      "Epoch  100/10000 Cost: 2.020152\n",
      "Epoch  200/10000 Cost: 1.585582\n",
      "Epoch  300/10000 Cost: 1.324809\n",
      "Epoch  400/10000 Cost: 1.149118\n",
      "Epoch  500/10000 Cost: 1.022266\n",
      "Epoch  600/10000 Cost: 0.926178\n",
      "Epoch  700/10000 Cost: 0.850742\n",
      "Epoch  800/10000 Cost: 0.789845\n",
      "Epoch  900/10000 Cost: 0.739567\n",
      "Epoch 1000/10000 Cost: 0.697278\n",
      "Epoch 1100/10000 Cost: 0.661151\n",
      "Epoch 1200/10000 Cost: 0.629875\n",
      "Epoch 1300/10000 Cost: 0.602490\n",
      "Epoch 1400/10000 Cost: 0.578276\n",
      "Epoch 1500/10000 Cost: 0.556681\n",
      "Epoch 1600/10000 Cost: 0.537276\n",
      "Epoch 1700/10000 Cost: 0.519724\n",
      "Epoch 1800/10000 Cost: 0.503754\n",
      "Epoch 1900/10000 Cost: 0.489147\n",
      "Epoch 2000/10000 Cost: 0.475724\n",
      "Epoch 2100/10000 Cost: 0.463335\n",
      "Epoch 2200/10000 Cost: 0.451857\n",
      "Epoch 2300/10000 Cost: 0.441186\n",
      "Epoch 2400/10000 Cost: 0.431232\n",
      "Epoch 2500/10000 Cost: 0.421921\n",
      "Epoch 2600/10000 Cost: 0.413187\n",
      "Epoch 2700/10000 Cost: 0.404973\n",
      "Epoch 2800/10000 Cost: 0.397232\n",
      "Epoch 2900/10000 Cost: 0.389919\n",
      "Epoch 3000/10000 Cost: 0.382998\n",
      "Epoch 3100/10000 Cost: 0.376435\n",
      "Epoch 3200/10000 Cost: 0.370200\n",
      "Epoch 3300/10000 Cost: 0.364268\n",
      "Epoch 3400/10000 Cost: 0.358615\n",
      "Epoch 3500/10000 Cost: 0.353221\n",
      "Epoch 3600/10000 Cost: 0.348065\n",
      "Epoch 3700/10000 Cost: 0.343133\n",
      "Epoch 3800/10000 Cost: 0.338407\n",
      "Epoch 3900/10000 Cost: 0.333874\n",
      "Epoch 4000/10000 Cost: 0.329522\n",
      "Epoch 4100/10000 Cost: 0.325339\n",
      "Epoch 4200/10000 Cost: 0.321314\n",
      "Epoch 4300/10000 Cost: 0.317438\n",
      "Epoch 4400/10000 Cost: 0.313701\n",
      "Epoch 4500/10000 Cost: 0.310097\n",
      "Epoch 4600/10000 Cost: 0.306617\n",
      "Epoch 4700/10000 Cost: 0.303254\n",
      "Epoch 4800/10000 Cost: 0.300002\n",
      "Epoch 4900/10000 Cost: 0.296856\n",
      "Epoch 5000/10000 Cost: 0.293809\n",
      "Epoch 5100/10000 Cost: 0.290856\n",
      "Epoch 5200/10000 Cost: 0.287993\n",
      "Epoch 5300/10000 Cost: 0.285216\n",
      "Epoch 5400/10000 Cost: 0.282520\n",
      "Epoch 5500/10000 Cost: 0.279901\n",
      "Epoch 5600/10000 Cost: 0.277356\n",
      "Epoch 5700/10000 Cost: 0.274881\n",
      "Epoch 5800/10000 Cost: 0.272474\n",
      "Epoch 5900/10000 Cost: 0.270131\n",
      "Epoch 6000/10000 Cost: 0.267850\n",
      "Epoch 6100/10000 Cost: 0.265627\n",
      "Epoch 6200/10000 Cost: 0.263461\n",
      "Epoch 6300/10000 Cost: 0.261350\n",
      "Epoch 6400/10000 Cost: 0.259290\n",
      "Epoch 6500/10000 Cost: 0.257280\n",
      "Epoch 6600/10000 Cost: 0.255317\n",
      "Epoch 6700/10000 Cost: 0.253401\n",
      "Epoch 6800/10000 Cost: 0.251529\n",
      "Epoch 6900/10000 Cost: 0.249700\n",
      "Epoch 7000/10000 Cost: 0.247912\n",
      "Epoch 7100/10000 Cost: 0.246164\n",
      "Epoch 7200/10000 Cost: 0.244454\n",
      "Epoch 7300/10000 Cost: 0.242780\n",
      "Epoch 7400/10000 Cost: 0.241142\n",
      "Epoch 7500/10000 Cost: 0.239538\n",
      "Epoch 7600/10000 Cost: 0.237968\n",
      "Epoch 7700/10000 Cost: 0.236430\n",
      "Epoch 7800/10000 Cost: 0.234922\n",
      "Epoch 7900/10000 Cost: 0.233445\n",
      "Epoch 8000/10000 Cost: 0.231996\n",
      "Epoch 8100/10000 Cost: 0.230576\n",
      "Epoch 8200/10000 Cost: 0.229183\n",
      "Epoch 8300/10000 Cost: 0.227816\n",
      "Epoch 8400/10000 Cost: 0.226475\n",
      "Epoch 8500/10000 Cost: 0.225158\n",
      "Epoch 8600/10000 Cost: 0.223866\n",
      "Epoch 8700/10000 Cost: 0.222597\n",
      "Epoch 8800/10000 Cost: 0.221350\n",
      "Epoch 8900/10000 Cost: 0.220126\n",
      "Epoch 9000/10000 Cost: 0.218923\n",
      "Epoch 9100/10000 Cost: 0.217741\n",
      "Epoch 9200/10000 Cost: 0.216579\n",
      "Epoch 9300/10000 Cost: 0.215437\n",
      "Epoch 9400/10000 Cost: 0.214313\n",
      "Epoch 9500/10000 Cost: 0.213209\n",
      "Epoch 9600/10000 Cost: 0.212122\n",
      "Epoch 9700/10000 Cost: 0.211053\n",
      "Epoch 9800/10000 Cost: 0.210002\n",
      "Epoch 9900/10000 Cost: 0.208967\n",
      "Epoch 10000/10000 Cost: 0.207948\n"
     ]
    }
   ],
   "source": [
    "import torch.nn.functional as F  # for softmax\n",
    "\n",
    "W = torch.zeros((7, nb_class), requires_grad=True)\n",
    "b = torch.zeros(1, requires_grad=True)\n",
    "# optimizer 설정\n",
    "optimizer = optim.SGD([W, b], lr=0.1)\n",
    "nb_epochs = 10000\n",
    "for epoch in range(nb_epochs + 1):\n",
    "\n",
    "    # Cost 계산 (1)\n",
    "    hypothesis = F.softmax(x_train.matmul(W) + b, dim=1) # or .mm or @\n",
    "    \n",
    "    # cost 표현번 1번 예시\n",
    "    y_one_hot = torch.zeros(nb_data, nb_class)\n",
    "    y_one_hot.scatter_(1, y_train.unsqueeze(1), 1)\n",
    "    cost = (y_one_hot * -torch.log(hypothesis)).sum(dim=1).mean()\n",
    "    \n",
    "    # cost 표현법 2번 예시\n",
    "    # cross_entropy를 사용하면 scatter 함수를 이용한 one_hot_encoding을 안해도 됨\n",
    "    # cost = F.cross_entropy((x_train.matmul(W) + b), y_train)\n",
    "\n",
    "    # cost로 H(x) 개선\n",
    "    optimizer.zero_grad()\n",
    "    cost.backward()\n",
    "    optimizer.step()\n",
    "\n",
    "    # 100번마다 로그 출력\n",
    "    if epoch % 100 == 0:\n",
    "        print('Epoch {:4d}/{} Cost: {:.6f}'.format(\n",
    "            epoch, nb_epochs, cost.item()\n",
    "        ))"
   ]
  },
  {
   "cell_type": "code",
   "execution_count": 15,
   "id": "d2005430",
   "metadata": {
    "execution": {
     "iopub.execute_input": "2022-09-25T16:53:02.563423Z",
     "iopub.status.busy": "2022-09-25T16:53:02.563005Z",
     "iopub.status.idle": "2022-09-25T16:53:02.573682Z",
     "shell.execute_reply": "2022-09-25T16:53:02.572698Z"
    },
    "papermill": {
     "duration": 0.025009,
     "end_time": "2022-09-25T16:53:02.576333",
     "exception": false,
     "start_time": "2022-09-25T16:53:02.551324",
     "status": "completed"
    },
    "tags": []
   },
   "outputs": [],
   "source": [
    "hypothesis = F.softmax(x_test.matmul(W) + b, dim=1) # or .mm or @\n",
    "predict = torch.argmax(hypothesis, dim=1)"
   ]
  },
  {
   "cell_type": "code",
   "execution_count": 16,
   "id": "2a0334df",
   "metadata": {
    "execution": {
     "iopub.execute_input": "2022-09-25T16:53:02.601134Z",
     "iopub.status.busy": "2022-09-25T16:53:02.600009Z",
     "iopub.status.idle": "2022-09-25T16:53:02.605753Z",
     "shell.execute_reply": "2022-09-25T16:53:02.604593Z"
    },
    "papermill": {
     "duration": 0.020089,
     "end_time": "2022-09-25T16:53:02.608492",
     "exception": false,
     "start_time": "2022-09-25T16:53:02.588403",
     "status": "completed"
    },
    "tags": []
   },
   "outputs": [],
   "source": [
    "predict = labels.inverse_transform(predict)"
   ]
  },
  {
   "cell_type": "code",
   "execution_count": 17,
   "id": "6480a8e0",
   "metadata": {
    "execution": {
     "iopub.execute_input": "2022-09-25T16:53:02.630971Z",
     "iopub.status.busy": "2022-09-25T16:53:02.630413Z",
     "iopub.status.idle": "2022-09-25T16:53:02.638445Z",
     "shell.execute_reply": "2022-09-25T16:53:02.636819Z"
    },
    "papermill": {
     "duration": 0.022082,
     "end_time": "2022-09-25T16:53:02.640861",
     "exception": false,
     "start_time": "2022-09-25T16:53:02.618779",
     "status": "completed"
    },
    "tags": []
   },
   "outputs": [
    {
     "data": {
      "text/plain": [
       "Index(['id', 'label'], dtype='object')"
      ]
     },
     "execution_count": 17,
     "metadata": {},
     "output_type": "execute_result"
    }
   ],
   "source": [
    "submit.columns"
   ]
  },
  {
   "cell_type": "code",
   "execution_count": 18,
   "id": "2c2e1911",
   "metadata": {
    "execution": {
     "iopub.execute_input": "2022-09-25T16:53:02.663804Z",
     "iopub.status.busy": "2022-09-25T16:53:02.662972Z",
     "iopub.status.idle": "2022-09-25T16:53:02.675021Z",
     "shell.execute_reply": "2022-09-25T16:53:02.673729Z"
    },
    "papermill": {
     "duration": 0.026719,
     "end_time": "2022-09-25T16:53:02.677899",
     "exception": false,
     "start_time": "2022-09-25T16:53:02.651180",
     "status": "completed"
    },
    "tags": []
   },
   "outputs": [],
   "source": [
    "submit['label'] = predict\n",
    "submission=submit.astype(np.str_)\n",
    "submission.to_csv('submission.csv',mode='w',header=True,index=False)"
   ]
  },
  {
   "cell_type": "code",
   "execution_count": null,
   "id": "7d245ff0",
   "metadata": {
    "papermill": {
     "duration": 0.009742,
     "end_time": "2022-09-25T16:53:02.698075",
     "exception": false,
     "start_time": "2022-09-25T16:53:02.688333",
     "status": "completed"
    },
    "tags": []
   },
   "outputs": [],
   "source": []
  }
 ],
 "metadata": {
  "kernelspec": {
   "display_name": "Python 3",
   "language": "python",
   "name": "python3"
  },
  "language_info": {
   "codemirror_mode": {
    "name": "ipython",
    "version": 3
   },
   "file_extension": ".py",
   "mimetype": "text/x-python",
   "name": "python",
   "nbconvert_exporter": "python",
   "pygments_lexer": "ipython3",
   "version": "3.7.12"
  },
  "papermill": {
   "default_parameters": {},
   "duration": 23.74025,
   "end_time": "2022-09-25T16:53:03.630922",
   "environment_variables": {},
   "exception": null,
   "input_path": "__notebook__.ipynb",
   "output_path": "__notebook__.ipynb",
   "parameters": {},
   "start_time": "2022-09-25T16:52:39.890672",
   "version": "2.3.4"
  }
 },
 "nbformat": 4,
 "nbformat_minor": 5
}
