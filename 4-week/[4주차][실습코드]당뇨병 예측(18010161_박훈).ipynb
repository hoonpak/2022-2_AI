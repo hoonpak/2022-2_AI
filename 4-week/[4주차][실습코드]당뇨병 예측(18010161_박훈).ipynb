{
 "cells": [
  {
   "cell_type": "code",
   "execution_count": 1,
   "id": "16905040",
   "metadata": {
    "_cell_guid": "b1076dfc-b9ad-4769-8c92-a6c4dae69d19",
    "_uuid": "8f2839f25d086af736a60e9eeb907d3b93b6e0e5",
    "execution": {
     "iopub.execute_input": "2022-09-25T16:10:15.817668Z",
     "iopub.status.busy": "2022-09-25T16:10:15.817224Z",
     "iopub.status.idle": "2022-09-25T16:10:15.829521Z",
     "shell.execute_reply": "2022-09-25T16:10:15.828672Z"
    },
    "papermill": {
     "duration": 0.021431,
     "end_time": "2022-09-25T16:10:15.831866",
     "exception": false,
     "start_time": "2022-09-25T16:10:15.810435",
     "status": "completed"
    },
    "tags": []
   },
   "outputs": [
    {
     "name": "stdout",
     "output_type": "stream",
     "text": [
      "/kaggle/input/2022-ai-w4p1/submit.csv\n",
      "/kaggle/input/2022-ai-w4p1/train.csv\n",
      "/kaggle/input/2022-ai-w4p1/test.csv\n"
     ]
    }
   ],
   "source": [
    "# This Python 3 environment comes with many helpful analytics libraries installed\n",
    "# It is defined by the kaggle/python Docker image: https://github.com/kaggle/docker-python\n",
    "# For example, here's several helpful packages to load\n",
    "\n",
    "import numpy as np # linear algebra\n",
    "import pandas as pd # data processing, CSV file I/O (e.g. pd.read_csv)\n",
    "\n",
    "# Input data files are available in the read-only \"../input/\" directory\n",
    "# For example, running this (by clicking run or pressing Shift+Enter) will list all files under the input directory\n",
    "\n",
    "import os\n",
    "for dirname, _, filenames in os.walk('/kaggle/input'):\n",
    "    for filename in filenames:\n",
    "        print(os.path.join(dirname, filename))\n",
    "\n",
    "# You can write up to 20GB to the current directory (/kaggle/working/) that gets preserved as output when you create a version using \"Save & Run All\" \n",
    "# You can also write temporary files to /kaggle/temp/, but they won't be saved outside of the current session"
   ]
  },
  {
   "cell_type": "code",
   "execution_count": 2,
   "id": "44595796",
   "metadata": {
    "execution": {
     "iopub.execute_input": "2022-09-25T16:10:15.841740Z",
     "iopub.status.busy": "2022-09-25T16:10:15.841369Z",
     "iopub.status.idle": "2022-09-25T16:10:17.512642Z",
     "shell.execute_reply": "2022-09-25T16:10:17.511416Z"
    },
    "papermill": {
     "duration": 1.679021,
     "end_time": "2022-09-25T16:10:17.515192",
     "exception": false,
     "start_time": "2022-09-25T16:10:15.836171",
     "status": "completed"
    },
    "tags": []
   },
   "outputs": [],
   "source": [
    "import random\n",
    "import torch\n",
    "import torch.optim as optim\n",
    "\n",
    "seed = 42\n",
    "random.seed(seed)\n",
    "np.random.seed(seed)\n",
    "torch.manual_seed(seed)\n",
    "if torch.cuda.is_available():\n",
    "    torch.cuda.manual_seed(seed)\n",
    "    torch.cuda.manual_seed_all(seed)\n",
    "torch.backends.cudnn.benchmark = False\n",
    "torch.backends.cudnn.deterministic = True"
   ]
  },
  {
   "cell_type": "code",
   "execution_count": 3,
   "id": "8e9fd3b1",
   "metadata": {
    "execution": {
     "iopub.execute_input": "2022-09-25T16:10:17.525013Z",
     "iopub.status.busy": "2022-09-25T16:10:17.524464Z",
     "iopub.status.idle": "2022-09-25T16:10:17.563090Z",
     "shell.execute_reply": "2022-09-25T16:10:17.561839Z"
    },
    "papermill": {
     "duration": 0.046413,
     "end_time": "2022-09-25T16:10:17.565816",
     "exception": false,
     "start_time": "2022-09-25T16:10:17.519403",
     "status": "completed"
    },
    "tags": []
   },
   "outputs": [],
   "source": [
    "train = pd.read_csv('/kaggle/input/2022-ai-w4p1/train.csv')\n",
    "test = pd.read_csv('/kaggle/input/2022-ai-w4p1/test.csv')\n",
    "submit = pd.read_csv('/kaggle/input/2022-ai-w4p1/submit.csv')"
   ]
  },
  {
   "cell_type": "code",
   "execution_count": 4,
   "id": "e0c802d7",
   "metadata": {
    "execution": {
     "iopub.execute_input": "2022-09-25T16:10:17.576018Z",
     "iopub.status.busy": "2022-09-25T16:10:17.575144Z",
     "iopub.status.idle": "2022-09-25T16:10:17.600685Z",
     "shell.execute_reply": "2022-09-25T16:10:17.599932Z"
    },
    "papermill": {
     "duration": 0.033118,
     "end_time": "2022-09-25T16:10:17.603119",
     "exception": false,
     "start_time": "2022-09-25T16:10:17.570001",
     "status": "completed"
    },
    "tags": []
   },
   "outputs": [
    {
     "data": {
      "text/html": [
       "<div>\n",
       "<style scoped>\n",
       "    .dataframe tbody tr th:only-of-type {\n",
       "        vertical-align: middle;\n",
       "    }\n",
       "\n",
       "    .dataframe tbody tr th {\n",
       "        vertical-align: top;\n",
       "    }\n",
       "\n",
       "    .dataframe thead th {\n",
       "        text-align: right;\n",
       "    }\n",
       "</style>\n",
       "<table border=\"1\" class=\"dataframe\">\n",
       "  <thead>\n",
       "    <tr style=\"text-align: right;\">\n",
       "      <th></th>\n",
       "      <th>Pregnancies</th>\n",
       "      <th>Glucose</th>\n",
       "      <th>BloodPressure</th>\n",
       "      <th>SkinThickness</th>\n",
       "      <th>Insulin</th>\n",
       "      <th>BMI</th>\n",
       "      <th>DiabetesPedigreeFunction</th>\n",
       "      <th>Age</th>\n",
       "      <th>Diabetes</th>\n",
       "    </tr>\n",
       "  </thead>\n",
       "  <tbody>\n",
       "    <tr>\n",
       "      <th>0</th>\n",
       "      <td>1</td>\n",
       "      <td>95</td>\n",
       "      <td>60</td>\n",
       "      <td>18</td>\n",
       "      <td>58</td>\n",
       "      <td>23.9</td>\n",
       "      <td>0.260</td>\n",
       "      <td>22</td>\n",
       "      <td>0</td>\n",
       "    </tr>\n",
       "    <tr>\n",
       "      <th>1</th>\n",
       "      <td>5</td>\n",
       "      <td>105</td>\n",
       "      <td>72</td>\n",
       "      <td>29</td>\n",
       "      <td>325</td>\n",
       "      <td>36.9</td>\n",
       "      <td>0.159</td>\n",
       "      <td>28</td>\n",
       "      <td>0</td>\n",
       "    </tr>\n",
       "    <tr>\n",
       "      <th>2</th>\n",
       "      <td>0</td>\n",
       "      <td>135</td>\n",
       "      <td>68</td>\n",
       "      <td>42</td>\n",
       "      <td>250</td>\n",
       "      <td>42.3</td>\n",
       "      <td>0.365</td>\n",
       "      <td>24</td>\n",
       "      <td>1</td>\n",
       "    </tr>\n",
       "    <tr>\n",
       "      <th>3</th>\n",
       "      <td>4</td>\n",
       "      <td>131</td>\n",
       "      <td>68</td>\n",
       "      <td>21</td>\n",
       "      <td>166</td>\n",
       "      <td>33.1</td>\n",
       "      <td>0.160</td>\n",
       "      <td>28</td>\n",
       "      <td>0</td>\n",
       "    </tr>\n",
       "    <tr>\n",
       "      <th>4</th>\n",
       "      <td>1</td>\n",
       "      <td>103</td>\n",
       "      <td>30</td>\n",
       "      <td>38</td>\n",
       "      <td>83</td>\n",
       "      <td>43.3</td>\n",
       "      <td>0.183</td>\n",
       "      <td>33</td>\n",
       "      <td>0</td>\n",
       "    </tr>\n",
       "    <tr>\n",
       "      <th>...</th>\n",
       "      <td>...</td>\n",
       "      <td>...</td>\n",
       "      <td>...</td>\n",
       "      <td>...</td>\n",
       "      <td>...</td>\n",
       "      <td>...</td>\n",
       "      <td>...</td>\n",
       "      <td>...</td>\n",
       "      <td>...</td>\n",
       "    </tr>\n",
       "    <tr>\n",
       "      <th>532</th>\n",
       "      <td>5</td>\n",
       "      <td>139</td>\n",
       "      <td>64</td>\n",
       "      <td>35</td>\n",
       "      <td>140</td>\n",
       "      <td>28.6</td>\n",
       "      <td>0.411</td>\n",
       "      <td>26</td>\n",
       "      <td>0</td>\n",
       "    </tr>\n",
       "    <tr>\n",
       "      <th>533</th>\n",
       "      <td>1</td>\n",
       "      <td>96</td>\n",
       "      <td>122</td>\n",
       "      <td>0</td>\n",
       "      <td>0</td>\n",
       "      <td>22.4</td>\n",
       "      <td>0.207</td>\n",
       "      <td>27</td>\n",
       "      <td>0</td>\n",
       "    </tr>\n",
       "    <tr>\n",
       "      <th>534</th>\n",
       "      <td>10</td>\n",
       "      <td>101</td>\n",
       "      <td>86</td>\n",
       "      <td>37</td>\n",
       "      <td>0</td>\n",
       "      <td>45.6</td>\n",
       "      <td>1.136</td>\n",
       "      <td>38</td>\n",
       "      <td>1</td>\n",
       "    </tr>\n",
       "    <tr>\n",
       "      <th>535</th>\n",
       "      <td>0</td>\n",
       "      <td>141</td>\n",
       "      <td>0</td>\n",
       "      <td>0</td>\n",
       "      <td>0</td>\n",
       "      <td>42.4</td>\n",
       "      <td>0.205</td>\n",
       "      <td>29</td>\n",
       "      <td>1</td>\n",
       "    </tr>\n",
       "    <tr>\n",
       "      <th>536</th>\n",
       "      <td>0</td>\n",
       "      <td>125</td>\n",
       "      <td>96</td>\n",
       "      <td>0</td>\n",
       "      <td>0</td>\n",
       "      <td>22.5</td>\n",
       "      <td>0.262</td>\n",
       "      <td>21</td>\n",
       "      <td>0</td>\n",
       "    </tr>\n",
       "  </tbody>\n",
       "</table>\n",
       "<p>537 rows × 9 columns</p>\n",
       "</div>"
      ],
      "text/plain": [
       "     Pregnancies  Glucose  BloodPressure  SkinThickness  Insulin   BMI  \\\n",
       "0              1       95             60             18       58  23.9   \n",
       "1              5      105             72             29      325  36.9   \n",
       "2              0      135             68             42      250  42.3   \n",
       "3              4      131             68             21      166  33.1   \n",
       "4              1      103             30             38       83  43.3   \n",
       "..           ...      ...            ...            ...      ...   ...   \n",
       "532            5      139             64             35      140  28.6   \n",
       "533            1       96            122              0        0  22.4   \n",
       "534           10      101             86             37        0  45.6   \n",
       "535            0      141              0              0        0  42.4   \n",
       "536            0      125             96              0        0  22.5   \n",
       "\n",
       "     DiabetesPedigreeFunction  Age  Diabetes  \n",
       "0                       0.260   22         0  \n",
       "1                       0.159   28         0  \n",
       "2                       0.365   24         1  \n",
       "3                       0.160   28         0  \n",
       "4                       0.183   33         0  \n",
       "..                        ...  ...       ...  \n",
       "532                     0.411   26         0  \n",
       "533                     0.207   27         0  \n",
       "534                     1.136   38         1  \n",
       "535                     0.205   29         1  \n",
       "536                     0.262   21         0  \n",
       "\n",
       "[537 rows x 9 columns]"
      ]
     },
     "execution_count": 4,
     "metadata": {},
     "output_type": "execute_result"
    }
   ],
   "source": [
    "train"
   ]
  },
  {
   "cell_type": "code",
   "execution_count": 5,
   "id": "9d02e556",
   "metadata": {
    "execution": {
     "iopub.execute_input": "2022-09-25T16:10:17.613474Z",
     "iopub.status.busy": "2022-09-25T16:10:17.613136Z",
     "iopub.status.idle": "2022-09-25T16:10:17.618853Z",
     "shell.execute_reply": "2022-09-25T16:10:17.618143Z"
    },
    "papermill": {
     "duration": 0.013143,
     "end_time": "2022-09-25T16:10:17.620758",
     "exception": false,
     "start_time": "2022-09-25T16:10:17.607615",
     "status": "completed"
    },
    "tags": []
   },
   "outputs": [
    {
     "data": {
      "text/plain": [
       "Index(['Pregnancies', 'Glucose', 'BloodPressure', 'SkinThickness', 'Insulin',\n",
       "       'BMI', 'DiabetesPedigreeFunction', 'Age', 'Diabetes'],\n",
       "      dtype='object')"
      ]
     },
     "execution_count": 5,
     "metadata": {},
     "output_type": "execute_result"
    }
   ],
   "source": [
    "train.columns"
   ]
  },
  {
   "cell_type": "code",
   "execution_count": 6,
   "id": "5d5d352c",
   "metadata": {
    "execution": {
     "iopub.execute_input": "2022-09-25T16:10:17.630760Z",
     "iopub.status.busy": "2022-09-25T16:10:17.630412Z",
     "iopub.status.idle": "2022-09-25T16:10:17.641744Z",
     "shell.execute_reply": "2022-09-25T16:10:17.640626Z"
    },
    "papermill": {
     "duration": 0.018906,
     "end_time": "2022-09-25T16:10:17.644019",
     "exception": false,
     "start_time": "2022-09-25T16:10:17.625113",
     "status": "completed"
    },
    "tags": []
   },
   "outputs": [],
   "source": [
    "x_train = np.array(train[['Pregnancies', 'Glucose', 'BloodPressure', 'SkinThickness', 'Insulin', 'BMI', 'DiabetesPedigreeFunction', 'Age']])\n",
    "y_train = np.array(train[['Diabetes']])\n",
    "x_test = np.array(test)"
   ]
  },
  {
   "cell_type": "code",
   "execution_count": 7,
   "id": "9af317ac",
   "metadata": {
    "execution": {
     "iopub.execute_input": "2022-09-25T16:10:17.654949Z",
     "iopub.status.busy": "2022-09-25T16:10:17.654234Z",
     "iopub.status.idle": "2022-09-25T16:10:18.441878Z",
     "shell.execute_reply": "2022-09-25T16:10:18.440818Z"
    },
    "papermill": {
     "duration": 0.795973,
     "end_time": "2022-09-25T16:10:18.444614",
     "exception": false,
     "start_time": "2022-09-25T16:10:17.648641",
     "status": "completed"
    },
    "tags": []
   },
   "outputs": [],
   "source": [
    "from sklearn.preprocessing import RobustScaler\n",
    "trans1 = RobustScaler().fit(x_train)\n",
    "x_train = trans1.transform(x_train)\n",
    "trans2 = RobustScaler().fit(x_test)\n",
    "x_test = trans2.transform(x_test)"
   ]
  },
  {
   "cell_type": "code",
   "execution_count": 8,
   "id": "c3e643bc",
   "metadata": {
    "execution": {
     "iopub.execute_input": "2022-09-25T16:10:18.455286Z",
     "iopub.status.busy": "2022-09-25T16:10:18.454925Z",
     "iopub.status.idle": "2022-09-25T16:10:18.460244Z",
     "shell.execute_reply": "2022-09-25T16:10:18.459328Z"
    },
    "papermill": {
     "duration": 0.013112,
     "end_time": "2022-09-25T16:10:18.462375",
     "exception": false,
     "start_time": "2022-09-25T16:10:18.449263",
     "status": "completed"
    },
    "tags": []
   },
   "outputs": [],
   "source": [
    "x_train = torch.FloatTensor(x_train)\n",
    "y_train = torch.FloatTensor(y_train)\n",
    "x_test = torch.FloatTensor(x_test)"
   ]
  },
  {
   "cell_type": "code",
   "execution_count": 9,
   "id": "57c00f73",
   "metadata": {
    "execution": {
     "iopub.execute_input": "2022-09-25T16:10:18.472507Z",
     "iopub.status.busy": "2022-09-25T16:10:18.472198Z",
     "iopub.status.idle": "2022-09-25T16:10:18.477872Z",
     "shell.execute_reply": "2022-09-25T16:10:18.476892Z"
    },
    "papermill": {
     "duration": 0.013342,
     "end_time": "2022-09-25T16:10:18.480092",
     "exception": false,
     "start_time": "2022-09-25T16:10:18.466750",
     "status": "completed"
    },
    "tags": []
   },
   "outputs": [],
   "source": [
    "loss = torch.nn.BCELoss()\n",
    "\n",
    "W = torch.zeros((8,1), requires_grad=True)\n",
    "b = torch.zeros(1, requires_grad=True)\n",
    "\n",
    "optimizer = optim.SGD([W, b], lr=0.001)\n",
    "\n",
    "nb_epochs = 10000"
   ]
  },
  {
   "cell_type": "code",
   "execution_count": 10,
   "id": "2fd35ba7",
   "metadata": {
    "execution": {
     "iopub.execute_input": "2022-09-25T16:10:18.490384Z",
     "iopub.status.busy": "2022-09-25T16:10:18.490061Z",
     "iopub.status.idle": "2022-09-25T16:10:20.864280Z",
     "shell.execute_reply": "2022-09-25T16:10:20.862570Z"
    },
    "papermill": {
     "duration": 2.382296,
     "end_time": "2022-09-25T16:10:20.866759",
     "exception": false,
     "start_time": "2022-09-25T16:10:18.484463",
     "status": "completed"
    },
    "tags": []
   },
   "outputs": [
    {
     "name": "stdout",
     "output_type": "stream",
     "text": [
      "Epoch    0/10000 Cost: 0.693147\n",
      "Epoch  100/10000 Cost: 0.685444\n",
      "Epoch  200/10000 Cost: 0.678116\n",
      "Epoch  300/10000 Cost: 0.671141\n",
      "Epoch  400/10000 Cost: 0.664497\n",
      "Epoch  500/10000 Cost: 0.658165\n",
      "Epoch  600/10000 Cost: 0.652126\n",
      "Epoch  700/10000 Cost: 0.646363\n",
      "Epoch  800/10000 Cost: 0.640859\n",
      "Epoch  900/10000 Cost: 0.635600\n",
      "Epoch 1000/10000 Cost: 0.630570\n",
      "Epoch 1100/10000 Cost: 0.625756\n",
      "Epoch 1200/10000 Cost: 0.621145\n",
      "Epoch 1300/10000 Cost: 0.616727\n",
      "Epoch 1400/10000 Cost: 0.612490\n",
      "Epoch 1500/10000 Cost: 0.608424\n",
      "Epoch 1600/10000 Cost: 0.604520\n",
      "Epoch 1700/10000 Cost: 0.600768\n",
      "Epoch 1800/10000 Cost: 0.597161\n",
      "Epoch 1900/10000 Cost: 0.593691\n",
      "Epoch 2000/10000 Cost: 0.590350\n",
      "Epoch 2100/10000 Cost: 0.587132\n",
      "Epoch 2200/10000 Cost: 0.584031\n",
      "Epoch 2300/10000 Cost: 0.581041\n",
      "Epoch 2400/10000 Cost: 0.578155\n",
      "Epoch 2500/10000 Cost: 0.575370\n",
      "Epoch 2600/10000 Cost: 0.572680\n",
      "Epoch 2700/10000 Cost: 0.570081\n",
      "Epoch 2800/10000 Cost: 0.567568\n",
      "Epoch 2900/10000 Cost: 0.565138\n",
      "Epoch 3000/10000 Cost: 0.562786\n",
      "Epoch 3100/10000 Cost: 0.560510\n",
      "Epoch 3200/10000 Cost: 0.558305\n",
      "Epoch 3300/10000 Cost: 0.556169\n",
      "Epoch 3400/10000 Cost: 0.554098\n",
      "Epoch 3500/10000 Cost: 0.552091\n",
      "Epoch 3600/10000 Cost: 0.550143\n",
      "Epoch 3700/10000 Cost: 0.548254\n",
      "Epoch 3800/10000 Cost: 0.546419\n",
      "Epoch 3900/10000 Cost: 0.544638\n",
      "Epoch 4000/10000 Cost: 0.542908\n",
      "Epoch 4100/10000 Cost: 0.541226\n",
      "Epoch 4200/10000 Cost: 0.539592\n",
      "Epoch 4300/10000 Cost: 0.538003\n",
      "Epoch 4400/10000 Cost: 0.536458\n",
      "Epoch 4500/10000 Cost: 0.534954\n",
      "Epoch 4600/10000 Cost: 0.533491\n",
      "Epoch 4700/10000 Cost: 0.532066\n",
      "Epoch 4800/10000 Cost: 0.530679\n",
      "Epoch 4900/10000 Cost: 0.529328\n",
      "Epoch 5000/10000 Cost: 0.528012\n",
      "Epoch 5100/10000 Cost: 0.526729\n",
      "Epoch 5200/10000 Cost: 0.525479\n",
      "Epoch 5300/10000 Cost: 0.524260\n",
      "Epoch 5400/10000 Cost: 0.523072\n",
      "Epoch 5500/10000 Cost: 0.521912\n",
      "Epoch 5600/10000 Cost: 0.520781\n",
      "Epoch 5700/10000 Cost: 0.519677\n",
      "Epoch 5800/10000 Cost: 0.518600\n",
      "Epoch 5900/10000 Cost: 0.517548\n",
      "Epoch 6000/10000 Cost: 0.516521\n",
      "Epoch 6100/10000 Cost: 0.515518\n",
      "Epoch 6200/10000 Cost: 0.514539\n",
      "Epoch 6300/10000 Cost: 0.513581\n",
      "Epoch 6400/10000 Cost: 0.512646\n",
      "Epoch 6500/10000 Cost: 0.511732\n",
      "Epoch 6600/10000 Cost: 0.510838\n",
      "Epoch 6700/10000 Cost: 0.509965\n",
      "Epoch 6800/10000 Cost: 0.509110\n",
      "Epoch 6900/10000 Cost: 0.508275\n",
      "Epoch 7000/10000 Cost: 0.507457\n",
      "Epoch 7100/10000 Cost: 0.506658\n",
      "Epoch 7200/10000 Cost: 0.505875\n",
      "Epoch 7300/10000 Cost: 0.505109\n",
      "Epoch 7400/10000 Cost: 0.504360\n",
      "Epoch 7500/10000 Cost: 0.503626\n",
      "Epoch 7600/10000 Cost: 0.502908\n",
      "Epoch 7700/10000 Cost: 0.502204\n",
      "Epoch 7800/10000 Cost: 0.501516\n",
      "Epoch 7900/10000 Cost: 0.500841\n",
      "Epoch 8000/10000 Cost: 0.500180\n",
      "Epoch 8100/10000 Cost: 0.499532\n",
      "Epoch 8200/10000 Cost: 0.498898\n",
      "Epoch 8300/10000 Cost: 0.498276\n",
      "Epoch 8400/10000 Cost: 0.497667\n",
      "Epoch 8500/10000 Cost: 0.497069\n",
      "Epoch 8600/10000 Cost: 0.496484\n",
      "Epoch 8700/10000 Cost: 0.495910\n",
      "Epoch 8800/10000 Cost: 0.495347\n",
      "Epoch 8900/10000 Cost: 0.494795\n",
      "Epoch 9000/10000 Cost: 0.494254\n",
      "Epoch 9100/10000 Cost: 0.493723\n",
      "Epoch 9200/10000 Cost: 0.493202\n",
      "Epoch 9300/10000 Cost: 0.492691\n",
      "Epoch 9400/10000 Cost: 0.492189\n",
      "Epoch 9500/10000 Cost: 0.491697\n",
      "Epoch 9600/10000 Cost: 0.491214\n",
      "Epoch 9700/10000 Cost: 0.490741\n",
      "Epoch 9800/10000 Cost: 0.490275\n",
      "Epoch 9900/10000 Cost: 0.489819\n",
      "Epoch 10000/10000 Cost: 0.489371\n"
     ]
    }
   ],
   "source": [
    "for epoch in range(nb_epochs + 1):\n",
    "    hypothesis = torch.sigmoid(x_train.matmul(W)+b)\n",
    "    cost = loss(hypothesis, y_train)\n",
    "    \n",
    "    optimizer.zero_grad()\n",
    "    cost.backward()\n",
    "    optimizer.step()\n",
    "    \n",
    "    if epoch % 100 == 0:\n",
    "        print('Epoch {:4d}/{} Cost: {:.6f}'.format(\n",
    "            epoch, nb_epochs, cost.item()\n",
    "        ))"
   ]
  },
  {
   "cell_type": "code",
   "execution_count": 11,
   "id": "2888d58c",
   "metadata": {
    "execution": {
     "iopub.execute_input": "2022-09-25T16:10:20.880217Z",
     "iopub.status.busy": "2022-09-25T16:10:20.879004Z",
     "iopub.status.idle": "2022-09-25T16:10:20.885372Z",
     "shell.execute_reply": "2022-09-25T16:10:20.884391Z"
    },
    "papermill": {
     "duration": 0.015039,
     "end_time": "2022-09-25T16:10:20.887614",
     "exception": false,
     "start_time": "2022-09-25T16:10:20.872575",
     "status": "completed"
    },
    "tags": []
   },
   "outputs": [],
   "source": [
    "hypothesis = torch.sigmoid(x_test.matmul(W)+b)\n",
    "prediction = hypothesis >= torch.FloatTensor([0.5])"
   ]
  },
  {
   "cell_type": "code",
   "execution_count": 12,
   "id": "cfb9d0fa",
   "metadata": {
    "execution": {
     "iopub.execute_input": "2022-09-25T16:10:20.899404Z",
     "iopub.status.busy": "2022-09-25T16:10:20.899053Z",
     "iopub.status.idle": "2022-09-25T16:10:20.911103Z",
     "shell.execute_reply": "2022-09-25T16:10:20.909987Z"
    },
    "papermill": {
     "duration": 0.020498,
     "end_time": "2022-09-25T16:10:20.913388",
     "exception": false,
     "start_time": "2022-09-25T16:10:20.892890",
     "status": "completed"
    },
    "tags": []
   },
   "outputs": [],
   "source": [
    "submit['Diabetes'] = prediction\n",
    "submission=submit.astype(np.int32)\n",
    "submission.to_csv('submission.csv',mode='w',header=True,index=False)"
   ]
  },
  {
   "cell_type": "code",
   "execution_count": null,
   "id": "c77db895",
   "metadata": {
    "papermill": {
     "duration": 0.004828,
     "end_time": "2022-09-25T16:10:20.923413",
     "exception": false,
     "start_time": "2022-09-25T16:10:20.918585",
     "status": "completed"
    },
    "tags": []
   },
   "outputs": [],
   "source": []
  },
  {
   "cell_type": "code",
   "execution_count": null,
   "id": "ffa4f2f9",
   "metadata": {
    "papermill": {
     "duration": 0.004802,
     "end_time": "2022-09-25T16:10:20.933222",
     "exception": false,
     "start_time": "2022-09-25T16:10:20.928420",
     "status": "completed"
    },
    "tags": []
   },
   "outputs": [],
   "source": []
  }
 ],
 "metadata": {
  "kernelspec": {
   "display_name": "Python 3",
   "language": "python",
   "name": "python3"
  },
  "language_info": {
   "codemirror_mode": {
    "name": "ipython",
    "version": 3
   },
   "file_extension": ".py",
   "mimetype": "text/x-python",
   "name": "python",
   "nbconvert_exporter": "python",
   "pygments_lexer": "ipython3",
   "version": "3.7.12"
  },
  "papermill": {
   "default_parameters": {},
   "duration": 14.357203,
   "end_time": "2022-09-25T16:10:21.659278",
   "environment_variables": {},
   "exception": null,
   "input_path": "__notebook__.ipynb",
   "output_path": "__notebook__.ipynb",
   "parameters": {},
   "start_time": "2022-09-25T16:10:07.302075",
   "version": "2.3.4"
  }
 },
 "nbformat": 4,
 "nbformat_minor": 5
}
