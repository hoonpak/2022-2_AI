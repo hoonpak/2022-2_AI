{
 "cells": [
  {
   "cell_type": "code",
   "execution_count": 1,
   "id": "0ad34aae",
   "metadata": {
    "_cell_guid": "b1076dfc-b9ad-4769-8c92-a6c4dae69d19",
    "_uuid": "8f2839f25d086af736a60e9eeb907d3b93b6e0e5",
    "execution": {
     "iopub.execute_input": "2022-09-29T03:34:45.151746Z",
     "iopub.status.busy": "2022-09-29T03:34:45.151254Z",
     "iopub.status.idle": "2022-09-29T03:34:45.169322Z",
     "shell.execute_reply": "2022-09-29T03:34:45.167590Z"
    },
    "papermill": {
     "duration": 0.029123,
     "end_time": "2022-09-29T03:34:45.172742",
     "exception": false,
     "start_time": "2022-09-29T03:34:45.143619",
     "status": "completed"
    },
    "tags": []
   },
   "outputs": [
    {
     "name": "stdout",
     "output_type": "stream",
     "text": [
      "/kaggle/input/2022-ai-w5p1/train.csv\n",
      "/kaggle/input/2022-ai-w5p1/test.csv\n",
      "/kaggle/input/2022-ai-w5p1/sample_submit.csv\n"
     ]
    }
   ],
   "source": [
    "# This Python 3 environment comes with many helpful analytics libraries installed\n",
    "# It is defined by the kaggle/python Docker image: https://github.com/kaggle/docker-python\n",
    "# For example, here's several helpful packages to load\n",
    "\n",
    "import numpy as np # linear algebra\n",
    "import pandas as pd # data processing, CSV file I/O (e.g. pd.read_csv)\n",
    "\n",
    "# Input data files are available in the read-only \"../input/\" directory\n",
    "# For example, running this (by clicking run or pressing Shift+Enter) will list all files under the input directory\n",
    "\n",
    "import os\n",
    "for dirname, _, filenames in os.walk('/kaggle/input'):\n",
    "    for filename in filenames:\n",
    "        print(os.path.join(dirname, filename))\n",
    "\n",
    "# You can write up to 20GB to the current directory (/kaggle/working/) that gets preserved as output when you create a version using \"Save & Run All\" \n",
    "# You can also write temporary files to /kaggle/temp/, but they won't be saved outside of the current session"
   ]
  },
  {
   "cell_type": "code",
   "execution_count": 2,
   "id": "7707264f",
   "metadata": {
    "execution": {
     "iopub.execute_input": "2022-09-29T03:34:45.184328Z",
     "iopub.status.busy": "2022-09-29T03:34:45.183563Z",
     "iopub.status.idle": "2022-09-29T03:34:47.193188Z",
     "shell.execute_reply": "2022-09-29T03:34:47.191995Z"
    },
    "papermill": {
     "duration": 2.018208,
     "end_time": "2022-09-29T03:34:47.196017",
     "exception": false,
     "start_time": "2022-09-29T03:34:45.177809",
     "status": "completed"
    },
    "tags": []
   },
   "outputs": [],
   "source": [
    "import random\n",
    "import torch\n",
    "\n",
    "seed = 42\n",
    "random.seed(seed)\n",
    "np.random.seed(seed)\n",
    "torch.manual_seed(seed)\n",
    "if torch.cuda.is_available():\n",
    "    torch.cuda.manual_seed(seed)\n",
    "    torch.cuda.manual_seed_all(seed)\n",
    "torch.backends.cudnn.benchmark = False\n",
    "torch.backends.cudnn.deterministic = True"
   ]
  },
  {
   "cell_type": "code",
   "execution_count": 3,
   "id": "1153e552",
   "metadata": {
    "execution": {
     "iopub.execute_input": "2022-09-29T03:34:47.206943Z",
     "iopub.status.busy": "2022-09-29T03:34:47.206396Z",
     "iopub.status.idle": "2022-09-29T03:34:53.345661Z",
     "shell.execute_reply": "2022-09-29T03:34:53.344360Z"
    },
    "papermill": {
     "duration": 6.14811,
     "end_time": "2022-09-29T03:34:53.348670",
     "exception": false,
     "start_time": "2022-09-29T03:34:47.200560",
     "status": "completed"
    },
    "tags": []
   },
   "outputs": [],
   "source": [
    "train  = pd.read_csv('/kaggle/input/2022-ai-w5p1/train.csv')\n",
    "test = pd.read_csv('/kaggle/input/2022-ai-w5p1/test.csv')\n",
    "submit = pd.read_csv('/kaggle/input/2022-ai-w5p1/sample_submit.csv')"
   ]
  },
  {
   "cell_type": "code",
   "execution_count": 4,
   "id": "a5344b80",
   "metadata": {
    "execution": {
     "iopub.execute_input": "2022-09-29T03:34:53.359217Z",
     "iopub.status.busy": "2022-09-29T03:34:53.358753Z",
     "iopub.status.idle": "2022-09-29T03:34:53.551845Z",
     "shell.execute_reply": "2022-09-29T03:34:53.550603Z"
    },
    "papermill": {
     "duration": 0.201437,
     "end_time": "2022-09-29T03:34:53.554462",
     "exception": false,
     "start_time": "2022-09-29T03:34:53.353025",
     "status": "completed"
    },
    "tags": []
   },
   "outputs": [
    {
     "data": {
      "text/plain": [
       "(60000, 785)"
      ]
     },
     "execution_count": 4,
     "metadata": {},
     "output_type": "execute_result"
    }
   ],
   "source": [
    "np.array(train).shape"
   ]
  },
  {
   "cell_type": "code",
   "execution_count": 5,
   "id": "8b1bf1c9",
   "metadata": {
    "execution": {
     "iopub.execute_input": "2022-09-29T03:34:53.565241Z",
     "iopub.status.busy": "2022-09-29T03:34:53.564819Z",
     "iopub.status.idle": "2022-09-29T03:34:53.923955Z",
     "shell.execute_reply": "2022-09-29T03:34:53.922566Z"
    },
    "papermill": {
     "duration": 0.367974,
     "end_time": "2022-09-29T03:34:53.926953",
     "exception": false,
     "start_time": "2022-09-29T03:34:53.558979",
     "status": "completed"
    },
    "tags": []
   },
   "outputs": [],
   "source": [
    "x_train = np.array(train)[:,1:]\n",
    "y_train = np.array(train)[:,:1]\n",
    "x_test = np.array(test)"
   ]
  },
  {
   "cell_type": "code",
   "execution_count": 6,
   "id": "ea1d9783",
   "metadata": {
    "execution": {
     "iopub.execute_input": "2022-09-29T03:34:53.937816Z",
     "iopub.status.busy": "2022-09-29T03:34:53.937426Z",
     "iopub.status.idle": "2022-09-29T03:34:54.089425Z",
     "shell.execute_reply": "2022-09-29T03:34:54.088520Z"
    },
    "papermill": {
     "duration": 0.160636,
     "end_time": "2022-09-29T03:34:54.092141",
     "exception": false,
     "start_time": "2022-09-29T03:34:53.931505",
     "status": "completed"
    },
    "tags": []
   },
   "outputs": [],
   "source": [
    "x_train = torch.FloatTensor(x_train)\n",
    "x_test = torch.FloatTensor(x_test)\n",
    "y_train = torch.LongTensor(y_train)"
   ]
  },
  {
   "cell_type": "code",
   "execution_count": 7,
   "id": "1476b039",
   "metadata": {
    "execution": {
     "iopub.execute_input": "2022-09-29T03:34:54.104021Z",
     "iopub.status.busy": "2022-09-29T03:34:54.103110Z",
     "iopub.status.idle": "2022-09-29T03:34:54.109338Z",
     "shell.execute_reply": "2022-09-29T03:34:54.108125Z"
    },
    "papermill": {
     "duration": 0.014593,
     "end_time": "2022-09-29T03:34:54.111729",
     "exception": false,
     "start_time": "2022-09-29T03:34:54.097136",
     "status": "completed"
    },
    "tags": []
   },
   "outputs": [],
   "source": [
    "nb_class = 10\n",
    "nb_data = len(y_train)\n",
    "#y_one_hot = torch.zeros(nb_data, nb_class)\n",
    "#y_one_hot.scatter_(1, y_train, 1)"
   ]
  },
  {
   "cell_type": "code",
   "execution_count": 8,
   "id": "ee321c9e",
   "metadata": {
    "execution": {
     "iopub.execute_input": "2022-09-29T03:34:54.123647Z",
     "iopub.status.busy": "2022-09-29T03:34:54.122477Z",
     "iopub.status.idle": "2022-09-29T03:34:54.128958Z",
     "shell.execute_reply": "2022-09-29T03:34:54.127922Z"
    },
    "papermill": {
     "duration": 0.014875,
     "end_time": "2022-09-29T03:34:54.131460",
     "exception": false,
     "start_time": "2022-09-29T03:34:54.116585",
     "status": "completed"
    },
    "tags": []
   },
   "outputs": [],
   "source": [
    "import torch.optim as optim\n",
    "import torch.nn.functional as F"
   ]
  },
  {
   "cell_type": "code",
   "execution_count": 9,
   "id": "efb0d234",
   "metadata": {
    "execution": {
     "iopub.execute_input": "2022-09-29T03:34:54.142919Z",
     "iopub.status.busy": "2022-09-29T03:34:54.141753Z",
     "iopub.status.idle": "2022-09-29T03:36:04.242286Z",
     "shell.execute_reply": "2022-09-29T03:36:04.241172Z"
    },
    "papermill": {
     "duration": 70.116276,
     "end_time": "2022-09-29T03:36:04.252247",
     "exception": false,
     "start_time": "2022-09-29T03:34:54.135971",
     "status": "completed"
    },
    "tags": []
   },
   "outputs": [
    {
     "name": "stdout",
     "output_type": "stream",
     "text": [
      "Epoch    0/1000 Cost: 2.302585\n",
      "Epoch  100/1000 Cost: 0.717797\n",
      "Epoch  200/1000 Cost: 0.559594\n",
      "Epoch  300/1000 Cost: 0.495502\n",
      "Epoch  400/1000 Cost: 0.459155\n",
      "Epoch  500/1000 Cost: 0.435110\n",
      "Epoch  600/1000 Cost: 0.417725\n",
      "Epoch  700/1000 Cost: 0.404408\n",
      "Epoch  800/1000 Cost: 0.393785\n",
      "Epoch  900/1000 Cost: 0.385053\n",
      "Epoch 1000/1000 Cost: 0.377708\n"
     ]
    }
   ],
   "source": [
    "W = torch.zeros((784, nb_class), requires_grad=True)\n",
    "b = torch.zeros(1, requires_grad=True)\n",
    "\n",
    "optimizer = optim.SGD([W, b], lr=0.000001)\n",
    "nb_epochs = 1000\n",
    "\n",
    "for epoch in range(nb_epochs + 1):\n",
    "\n",
    "    # Cost 계산 (1)\n",
    "    hypothesis = F.softmax(x_train.matmul(W) + b, dim=1) # or .mm or @\n",
    "    #import pdb;pdb.set_trace()\n",
    "    # cost 표현번 1번 예시\n",
    "    y_one_hot = torch.zeros(nb_data, nb_class)\n",
    "    y_one_hot.scatter_(1, y_train, 1)\n",
    "    cost = (y_one_hot * -torch.log(hypothesis)).sum(dim=1).mean()\n",
    "\n",
    "\n",
    "    # cost로 H(x) 개선\n",
    "    optimizer.zero_grad()\n",
    "    cost.backward()\n",
    "    optimizer.step()\n",
    "\n",
    "    # 100번마다 로그 출력\n",
    "    if epoch % 100 == 0:\n",
    "        print('Epoch {:4d}/{} Cost: {:.6f}'.format(\n",
    "            epoch, nb_epochs, cost.item()))"
   ]
  },
  {
   "cell_type": "code",
   "execution_count": 10,
   "id": "f0979a0a",
   "metadata": {
    "execution": {
     "iopub.execute_input": "2022-09-29T03:36:04.269714Z",
     "iopub.status.busy": "2022-09-29T03:36:04.269087Z",
     "iopub.status.idle": "2022-09-29T03:36:04.300901Z",
     "shell.execute_reply": "2022-09-29T03:36:04.299846Z"
    },
    "papermill": {
     "duration": 0.044082,
     "end_time": "2022-09-29T03:36:04.304120",
     "exception": false,
     "start_time": "2022-09-29T03:36:04.260038",
     "status": "completed"
    },
    "tags": []
   },
   "outputs": [],
   "source": [
    "hypothesis = F.softmax(x_test.matmul(W) + b, dim=1) # or .mm or @\n",
    "predict = torch.argmax(hypothesis, dim=1)"
   ]
  },
  {
   "cell_type": "code",
   "execution_count": null,
   "id": "34ecb03e",
   "metadata": {
    "execution": {
     "iopub.execute_input": "2022-09-29T03:34:02.415689Z",
     "iopub.status.busy": "2022-09-29T03:34:02.415287Z",
     "iopub.status.idle": "2022-09-29T03:34:02.423170Z",
     "shell.execute_reply": "2022-09-29T03:34:02.421968Z",
     "shell.execute_reply.started": "2022-09-29T03:34:02.415657Z"
    },
    "papermill": {
     "duration": 0.006756,
     "end_time": "2022-09-29T03:36:04.318292",
     "exception": false,
     "start_time": "2022-09-29T03:36:04.311536",
     "status": "completed"
    },
    "tags": []
   },
   "outputs": [],
   "source": []
  },
  {
   "cell_type": "code",
   "execution_count": 11,
   "id": "d4227f99",
   "metadata": {
    "execution": {
     "iopub.execute_input": "2022-09-29T03:36:04.334383Z",
     "iopub.status.busy": "2022-09-29T03:36:04.333444Z",
     "iopub.status.idle": "2022-09-29T03:36:04.340288Z",
     "shell.execute_reply": "2022-09-29T03:36:04.339338Z"
    },
    "papermill": {
     "duration": 0.017431,
     "end_time": "2022-09-29T03:36:04.342895",
     "exception": false,
     "start_time": "2022-09-29T03:36:04.325464",
     "status": "completed"
    },
    "tags": []
   },
   "outputs": [
    {
     "data": {
      "text/plain": [
       "Index(['id', 'label'], dtype='object')"
      ]
     },
     "execution_count": 11,
     "metadata": {},
     "output_type": "execute_result"
    }
   ],
   "source": [
    "submit.columns"
   ]
  },
  {
   "cell_type": "code",
   "execution_count": 12,
   "id": "e0991287",
   "metadata": {
    "execution": {
     "iopub.execute_input": "2022-09-29T03:36:04.360485Z",
     "iopub.status.busy": "2022-09-29T03:36:04.359454Z",
     "iopub.status.idle": "2022-09-29T03:36:04.395002Z",
     "shell.execute_reply": "2022-09-29T03:36:04.394060Z"
    },
    "papermill": {
     "duration": 0.047776,
     "end_time": "2022-09-29T03:36:04.398131",
     "exception": false,
     "start_time": "2022-09-29T03:36:04.350355",
     "status": "completed"
    },
    "tags": []
   },
   "outputs": [],
   "source": [
    "submit['label'] = predict\n",
    "submission=submit.astype(np.str_)\n",
    "submission.to_csv('submission.csv',mode='w',header=True,index=False)"
   ]
  },
  {
   "cell_type": "code",
   "execution_count": null,
   "id": "279004f8",
   "metadata": {
    "papermill": {
     "duration": 0.008725,
     "end_time": "2022-09-29T03:36:04.414473",
     "exception": false,
     "start_time": "2022-09-29T03:36:04.405748",
     "status": "completed"
    },
    "tags": []
   },
   "outputs": [],
   "source": []
  }
 ],
 "metadata": {
  "kernelspec": {
   "display_name": "Python 3",
   "language": "python",
   "name": "python3"
  },
  "language_info": {
   "codemirror_mode": {
    "name": "ipython",
    "version": 3
   },
   "file_extension": ".py",
   "mimetype": "text/x-python",
   "name": "python",
   "nbconvert_exporter": "python",
   "pygments_lexer": "ipython3",
   "version": "3.7.12"
  },
  "papermill": {
   "default_parameters": {},
   "duration": 89.936026,
   "end_time": "2022-09-29T03:36:05.343205",
   "environment_variables": {},
   "exception": null,
   "input_path": "__notebook__.ipynb",
   "output_path": "__notebook__.ipynb",
   "parameters": {},
   "start_time": "2022-09-29T03:34:35.407179",
   "version": "2.3.4"
  }
 },
 "nbformat": 4,
 "nbformat_minor": 5
}
