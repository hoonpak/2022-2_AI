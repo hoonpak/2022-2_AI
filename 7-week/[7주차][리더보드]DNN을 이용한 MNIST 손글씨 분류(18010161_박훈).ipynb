{
 "cells": [
  {
   "cell_type": "code",
   "execution_count": 1,
   "id": "da5f91ed",
   "metadata": {
    "_cell_guid": "b1076dfc-b9ad-4769-8c92-a6c4dae69d19",
    "_uuid": "8f2839f25d086af736a60e9eeb907d3b93b6e0e5",
    "execution": {
     "iopub.execute_input": "2022-10-13T04:17:54.118195Z",
     "iopub.status.busy": "2022-10-13T04:17:54.117474Z",
     "iopub.status.idle": "2022-10-13T04:17:54.129948Z",
     "shell.execute_reply": "2022-10-13T04:17:54.129029Z"
    },
    "papermill": {
     "duration": 0.021232,
     "end_time": "2022-10-13T04:17:54.132816",
     "exception": false,
     "start_time": "2022-10-13T04:17:54.111584",
     "status": "completed"
    },
    "tags": []
   },
   "outputs": [
    {
     "name": "stdout",
     "output_type": "stream",
     "text": [
      "/kaggle/input/2022-ai-w7p1/mnist_test.csv\n",
      "/kaggle/input/2022-ai-w7p1/mnist_train.csv\n",
      "/kaggle/input/2022-ai-w7p1/submission.csv\n"
     ]
    }
   ],
   "source": [
    "# This Python 3 environment comes with many helpful analytics libraries installed\n",
    "# It is defined by the kaggle/python Docker image: https://github.com/kaggle/docker-python\n",
    "# For example, here's several helpful packages to load\n",
    "\n",
    "import numpy as np # linear algebra\n",
    "import pandas as pd # data processing, CSV file I/O (e.g. pd.read_csv)\n",
    "\n",
    "# Input data files are available in the read-only \"../input/\" directory\n",
    "# For example, running this (by clicking run or pressing Shift+Enter) will list all files under the input directory\n",
    "\n",
    "import os\n",
    "for dirname, _, filenames in os.walk('/kaggle/input'):\n",
    "    for filename in filenames:\n",
    "        print(os.path.join(dirname, filename))\n",
    "\n",
    "# You can write up to 20GB to the current directory (/kaggle/working/) that gets preserved as output when you create a version using \"Save & Run All\" \n",
    "# You can also write temporary files to /kaggle/temp/, but they won't be saved outside of the current session"
   ]
  },
  {
   "cell_type": "code",
   "execution_count": 2,
   "id": "5cd290ae",
   "metadata": {
    "execution": {
     "iopub.execute_input": "2022-10-13T04:17:54.142137Z",
     "iopub.status.busy": "2022-10-13T04:17:54.141391Z",
     "iopub.status.idle": "2022-10-13T04:17:55.764356Z",
     "shell.execute_reply": "2022-10-13T04:17:55.763377Z"
    },
    "papermill": {
     "duration": 1.629762,
     "end_time": "2022-10-13T04:17:55.766891",
     "exception": false,
     "start_time": "2022-10-13T04:17:54.137129",
     "status": "completed"
    },
    "tags": []
   },
   "outputs": [],
   "source": [
    "import random\n",
    "import torch\n",
    "\n",
    "seed = 42\n",
    "random.seed(seed)\n",
    "np.random.seed(seed)\n",
    "torch.manual_seed(seed)\n",
    "if torch.cuda.is_available():\n",
    "    torch.cuda.manual_seed(seed)\n",
    "    torch.cuda.manual_seed_all(seed)\n",
    "torch.backends.cudnn.benchmark = False\n",
    "torch.backends.cudnn.deterministic = True"
   ]
  },
  {
   "cell_type": "code",
   "execution_count": 3,
   "id": "f530b82b",
   "metadata": {
    "execution": {
     "iopub.execute_input": "2022-10-13T04:17:55.775843Z",
     "iopub.status.busy": "2022-10-13T04:17:55.775068Z",
     "iopub.status.idle": "2022-10-13T04:18:03.798548Z",
     "shell.execute_reply": "2022-10-13T04:18:03.797474Z"
    },
    "papermill": {
     "duration": 8.030476,
     "end_time": "2022-10-13T04:18:03.801042",
     "exception": false,
     "start_time": "2022-10-13T04:17:55.770566",
     "status": "completed"
    },
    "tags": []
   },
   "outputs": [],
   "source": [
    "mninst_train = pd.read_csv(\"/kaggle/input/2022-ai-w7p1/mnist_train.csv\")\n",
    "mninst_test = pd.read_csv(\"/kaggle/input/2022-ai-w7p1/mnist_test.csv\")\n",
    "submit = pd.read_csv(\"/kaggle/input/2022-ai-w7p1/submission.csv\")"
   ]
  },
  {
   "cell_type": "code",
   "execution_count": 4,
   "id": "d395adac",
   "metadata": {
    "execution": {
     "iopub.execute_input": "2022-10-13T04:18:03.810887Z",
     "iopub.status.busy": "2022-10-13T04:18:03.809902Z",
     "iopub.status.idle": "2022-10-13T04:18:03.841947Z",
     "shell.execute_reply": "2022-10-13T04:18:03.841014Z"
    },
    "papermill": {
     "duration": 0.039215,
     "end_time": "2022-10-13T04:18:03.844289",
     "exception": false,
     "start_time": "2022-10-13T04:18:03.805074",
     "status": "completed"
    },
    "tags": []
   },
   "outputs": [],
   "source": [
    "mninst_test = mninst_test.drop(['Unnamed: 0'],axis=1)"
   ]
  },
  {
   "cell_type": "code",
   "execution_count": 5,
   "id": "14108ed5",
   "metadata": {
    "execution": {
     "iopub.execute_input": "2022-10-13T04:18:03.852688Z",
     "iopub.status.busy": "2022-10-13T04:18:03.852405Z",
     "iopub.status.idle": "2022-10-13T04:18:06.479370Z",
     "shell.execute_reply": "2022-10-13T04:18:06.478378Z"
    },
    "papermill": {
     "duration": 2.634365,
     "end_time": "2022-10-13T04:18:06.482254",
     "exception": false,
     "start_time": "2022-10-13T04:18:03.847889",
     "status": "completed"
    },
    "tags": []
   },
   "outputs": [],
   "source": [
    "test = torch.FloatTensor(np.array(mninst_test)).cuda()"
   ]
  },
  {
   "cell_type": "code",
   "execution_count": 6,
   "id": "dbaa8163",
   "metadata": {
    "execution": {
     "iopub.execute_input": "2022-10-13T04:18:06.490729Z",
     "iopub.status.busy": "2022-10-13T04:18:06.490427Z",
     "iopub.status.idle": "2022-10-13T04:18:06.607297Z",
     "shell.execute_reply": "2022-10-13T04:18:06.606258Z"
    },
    "papermill": {
     "duration": 0.123373,
     "end_time": "2022-10-13T04:18:06.609372",
     "exception": false,
     "start_time": "2022-10-13T04:18:06.485999",
     "status": "completed"
    },
    "tags": []
   },
   "outputs": [],
   "source": [
    "x_train = mninst_train.drop(['Unnamed: 0','784'],axis=1)\n",
    "y_train = mninst_train['784']"
   ]
  },
  {
   "cell_type": "code",
   "execution_count": 7,
   "id": "fff8612f",
   "metadata": {
    "execution": {
     "iopub.execute_input": "2022-10-13T04:18:06.618472Z",
     "iopub.status.busy": "2022-10-13T04:18:06.617766Z",
     "iopub.status.idle": "2022-10-13T04:18:06.910697Z",
     "shell.execute_reply": "2022-10-13T04:18:06.909643Z"
    },
    "papermill": {
     "duration": 0.299915,
     "end_time": "2022-10-13T04:18:06.913167",
     "exception": false,
     "start_time": "2022-10-13T04:18:06.613252",
     "status": "completed"
    },
    "tags": []
   },
   "outputs": [],
   "source": [
    "x_train = torch.FloatTensor(np.array(x_train))\n",
    "y_train = torch.LongTensor(np.array(y_train))"
   ]
  },
  {
   "cell_type": "code",
   "execution_count": 8,
   "id": "8224743f",
   "metadata": {
    "execution": {
     "iopub.execute_input": "2022-10-13T04:18:06.921656Z",
     "iopub.status.busy": "2022-10-13T04:18:06.921364Z",
     "iopub.status.idle": "2022-10-13T04:18:06.926940Z",
     "shell.execute_reply": "2022-10-13T04:18:06.925986Z"
    },
    "papermill": {
     "duration": 0.012066,
     "end_time": "2022-10-13T04:18:06.928931",
     "exception": false,
     "start_time": "2022-10-13T04:18:06.916865",
     "status": "completed"
    },
    "tags": []
   },
   "outputs": [],
   "source": [
    "mninst_train=torch.utils.data.TensorDataset(x_train,y_train)"
   ]
  },
  {
   "cell_type": "code",
   "execution_count": 9,
   "id": "9035bc42",
   "metadata": {
    "execution": {
     "iopub.execute_input": "2022-10-13T04:18:06.936750Z",
     "iopub.status.busy": "2022-10-13T04:18:06.936494Z",
     "iopub.status.idle": "2022-10-13T04:18:06.941212Z",
     "shell.execute_reply": "2022-10-13T04:18:06.940195Z"
    },
    "papermill": {
     "duration": 0.011172,
     "end_time": "2022-10-13T04:18:06.943475",
     "exception": false,
     "start_time": "2022-10-13T04:18:06.932303",
     "status": "completed"
    },
    "tags": []
   },
   "outputs": [],
   "source": [
    "batch_size = 50\n",
    "data_loader = torch.utils.data.DataLoader(dataset=mninst_train,\n",
    "                                    batch_size=batch_size,\n",
    "                                    shuffle=True,\n",
    "                                    drop_last=True)"
   ]
  },
  {
   "cell_type": "code",
   "execution_count": 10,
   "id": "d511da95",
   "metadata": {
    "execution": {
     "iopub.execute_input": "2022-10-13T04:18:06.951243Z",
     "iopub.status.busy": "2022-10-13T04:18:06.950992Z",
     "iopub.status.idle": "2022-10-13T04:18:06.970900Z",
     "shell.execute_reply": "2022-10-13T04:18:06.970092Z"
    },
    "papermill": {
     "duration": 0.02604,
     "end_time": "2022-10-13T04:18:06.972883",
     "exception": false,
     "start_time": "2022-10-13T04:18:06.946843",
     "status": "completed"
    },
    "tags": []
   },
   "outputs": [],
   "source": [
    "layer1 = torch.nn.Linear(784,400,bias=True)\n",
    "torch.nn.init.xavier_normal_(layer1.weight)\n",
    "layer2 = torch.nn.Linear(400,300,bias=True)\n",
    "torch.nn.init.xavier_normal_(layer2.weight)\n",
    "layer3 = torch.nn.Linear(300,150,bias=True)\n",
    "torch.nn.init.xavier_normal_(layer3.weight)\n",
    "layer4 = torch.nn.Linear(150,75,bias=True)\n",
    "torch.nn.init.xavier_normal_(layer4.weight)\n",
    "layer5 = torch.nn.Linear(75,10,bias=True)\n",
    "torch.nn.init.xavier_normal_(layer5.weight)\n",
    "relu = torch.nn.ReLU()\n",
    "model = torch.nn.Sequential(layer1, relu, layer2, relu, layer3, relu, layer4, relu, layer5).cuda()"
   ]
  },
  {
   "cell_type": "code",
   "execution_count": 11,
   "id": "cc4dd64d",
   "metadata": {
    "execution": {
     "iopub.execute_input": "2022-10-13T04:18:06.980724Z",
     "iopub.status.busy": "2022-10-13T04:18:06.980472Z",
     "iopub.status.idle": "2022-10-13T04:18:06.985185Z",
     "shell.execute_reply": "2022-10-13T04:18:06.984185Z"
    },
    "papermill": {
     "duration": 0.01113,
     "end_time": "2022-10-13T04:18:06.987454",
     "exception": false,
     "start_time": "2022-10-13T04:18:06.976324",
     "status": "completed"
    },
    "tags": []
   },
   "outputs": [],
   "source": [
    "learning_rate = 0.001\n",
    "loss = torch.nn.CrossEntropyLoss().cuda()\n",
    "optimizer = torch.optim.Adam(model.parameters(),lr = learning_rate)"
   ]
  },
  {
   "cell_type": "code",
   "execution_count": 12,
   "id": "f9a22c94",
   "metadata": {
    "execution": {
     "iopub.execute_input": "2022-10-13T04:18:06.995167Z",
     "iopub.status.busy": "2022-10-13T04:18:06.994918Z",
     "iopub.status.idle": "2022-10-13T04:19:57.570980Z",
     "shell.execute_reply": "2022-10-13T04:19:57.569244Z"
    },
    "papermill": {
     "duration": 110.583147,
     "end_time": "2022-10-13T04:19:57.573944",
     "exception": false,
     "start_time": "2022-10-13T04:18:06.990797",
     "status": "completed"
    },
    "tags": []
   },
   "outputs": [
    {
     "name": "stdout",
     "output_type": "stream",
     "text": [
      "Epoch: 0001 cost = 0.584994197\n",
      "Epoch: 0002 cost = 0.147939831\n",
      "Epoch: 0003 cost = 0.118733644\n",
      "Epoch: 0004 cost = 0.103111185\n",
      "Epoch: 0005 cost = 0.095385224\n",
      "Epoch: 0006 cost = 0.083331220\n",
      "Epoch: 0007 cost = 0.070559286\n",
      "Epoch: 0008 cost = 0.068920515\n",
      "Epoch: 0009 cost = 0.056926761\n",
      "Epoch: 0010 cost = 0.060627591\n",
      "Epoch: 0011 cost = 0.051845919\n",
      "Epoch: 0012 cost = 0.047354627\n",
      "Epoch: 0013 cost = 0.041859370\n",
      "Epoch: 0014 cost = 0.047473192\n",
      "Epoch: 0015 cost = 0.038990371\n",
      "Epoch: 0016 cost = 0.042310562\n",
      "Epoch: 0017 cost = 0.038258869\n",
      "Epoch: 0018 cost = 0.038537472\n",
      "Epoch: 0019 cost = 0.033537094\n",
      "Epoch: 0020 cost = 0.027354956\n",
      "Epoch: 0021 cost = 0.031251941\n",
      "Epoch: 0022 cost = 0.032716122\n",
      "Epoch: 0023 cost = 0.029833525\n",
      "Epoch: 0024 cost = 0.030364690\n",
      "Epoch: 0025 cost = 0.029172108\n",
      "Epoch: 0026 cost = 0.028132791\n",
      "Epoch: 0027 cost = 0.031507861\n",
      "Epoch: 0028 cost = 0.029747421\n",
      "Epoch: 0029 cost = 0.038269874\n",
      "Epoch: 0030 cost = 0.021754248\n",
      "Learnig finished\n"
     ]
    }
   ],
   "source": [
    "training_epochs = 30\n",
    "total_batch = len(data_loader)\n",
    "for epoch in range(training_epochs):\n",
    "    avg_cost=0\n",
    "    for X,Y in data_loader:\n",
    "        X=X.view(-1,28*28).cuda()\n",
    "        Y=Y.cuda()\n",
    "        \n",
    "        optimizer.zero_grad()\n",
    "        hypothesis=model(X)\n",
    "        cost=loss(hypothesis,Y)\n",
    "        cost.backward()\n",
    "        optimizer.step()\n",
    "        \n",
    "        avg_cost += cost/total_batch\n",
    "        \n",
    "    print('Epoch:', '%04d' % (epoch + 1), 'cost =', '{:.9f}'.format(avg_cost))\n",
    "    \n",
    "print(\"Learnig finished\")"
   ]
  },
  {
   "cell_type": "code",
   "execution_count": 13,
   "id": "4b0e0d18",
   "metadata": {
    "execution": {
     "iopub.execute_input": "2022-10-13T04:19:57.586682Z",
     "iopub.status.busy": "2022-10-13T04:19:57.586381Z",
     "iopub.status.idle": "2022-10-13T04:19:57.600619Z",
     "shell.execute_reply": "2022-10-13T04:19:57.599703Z"
    },
    "papermill": {
     "duration": 0.022676,
     "end_time": "2022-10-13T04:19:57.602556",
     "exception": false,
     "start_time": "2022-10-13T04:19:57.579880",
     "status": "completed"
    },
    "tags": []
   },
   "outputs": [
    {
     "data": {
      "text/plain": [
       "Index(['id', 'Label'], dtype='object')"
      ]
     },
     "execution_count": 13,
     "metadata": {},
     "output_type": "execute_result"
    }
   ],
   "source": [
    "predict = torch.argmax(model(test),dim=1)\n",
    "submit.columns"
   ]
  },
  {
   "cell_type": "code",
   "execution_count": 14,
   "id": "70a49710",
   "metadata": {
    "execution": {
     "iopub.execute_input": "2022-10-13T04:19:57.615263Z",
     "iopub.status.busy": "2022-10-13T04:19:57.614967Z",
     "iopub.status.idle": "2022-10-13T04:19:57.632374Z",
     "shell.execute_reply": "2022-10-13T04:19:57.631521Z"
    },
    "papermill": {
     "duration": 0.025599,
     "end_time": "2022-10-13T04:19:57.634560",
     "exception": false,
     "start_time": "2022-10-13T04:19:57.608961",
     "status": "completed"
    },
    "tags": []
   },
   "outputs": [],
   "source": [
    "submit['Label']=predict.cpu()\n",
    "submission=submit.astype(np.int32)\n",
    "submission.to_csv(\"submission.csv\",mode='w',header=True,index=False)"
   ]
  },
  {
   "cell_type": "code",
   "execution_count": null,
   "id": "11760a13",
   "metadata": {
    "papermill": {
     "duration": 0.004834,
     "end_time": "2022-10-13T04:19:57.644506",
     "exception": false,
     "start_time": "2022-10-13T04:19:57.639672",
     "status": "completed"
    },
    "tags": []
   },
   "outputs": [],
   "source": []
  }
 ],
 "metadata": {
  "kernelspec": {
   "display_name": "Python 3",
   "language": "python",
   "name": "python3"
  },
  "language_info": {
   "codemirror_mode": {
    "name": "ipython",
    "version": 3
   },
   "file_extension": ".py",
   "mimetype": "text/x-python",
   "name": "python",
   "nbconvert_exporter": "python",
   "pygments_lexer": "ipython3",
   "version": "3.7.12"
  },
  "papermill": {
   "default_parameters": {},
   "duration": 132.182473,
   "end_time": "2022-10-13T04:19:58.771871",
   "environment_variables": {},
   "exception": null,
   "input_path": "__notebook__.ipynb",
   "output_path": "__notebook__.ipynb",
   "parameters": {},
   "start_time": "2022-10-13T04:17:46.589398",
   "version": "2.3.4"
  }
 },
 "nbformat": 4,
 "nbformat_minor": 5
}
