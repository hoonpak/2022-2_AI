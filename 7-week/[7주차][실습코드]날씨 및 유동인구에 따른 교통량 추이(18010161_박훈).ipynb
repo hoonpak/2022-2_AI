{
 "cells": [
  {
   "cell_type": "code",
   "execution_count": 1,
   "id": "a4d4b053",
   "metadata": {
    "_cell_guid": "b1076dfc-b9ad-4769-8c92-a6c4dae69d19",
    "_uuid": "8f2839f25d086af736a60e9eeb907d3b93b6e0e5",
    "execution": {
     "iopub.execute_input": "2022-10-13T11:32:13.755240Z",
     "iopub.status.busy": "2022-10-13T11:32:13.754324Z",
     "iopub.status.idle": "2022-10-13T11:32:13.775983Z",
     "shell.execute_reply": "2022-10-13T11:32:13.774359Z"
    },
    "papermill": {
     "duration": 0.037297,
     "end_time": "2022-10-13T11:32:13.779542",
     "exception": false,
     "start_time": "2022-10-13T11:32:13.742245",
     "status": "completed"
    },
    "tags": []
   },
   "outputs": [
    {
     "name": "stdout",
     "output_type": "stream",
     "text": [
      "/kaggle/input/2022-ai-w7p2/sample_submission.csv\n",
      "/kaggle/input/2022-ai-w7p2/x_test.csv\n",
      "/kaggle/input/2022-ai-w7p2/y_train.csv\n",
      "/kaggle/input/2022-ai-w7p2/x_train.csv\n"
     ]
    }
   ],
   "source": [
    "# This Python 3 environment comes with many helpful analytics libraries installed\n",
    "# It is defined by the kaggle/python Docker image: https://github.com/kaggle/docker-python\n",
    "# For example, here's several helpful packages to load\n",
    "\n",
    "import numpy as np # linear algebra\n",
    "import pandas as pd # data processing, CSV file I/O (e.g. pd.read_csv)\n",
    "\n",
    "# Input data files are available in the read-only \"../input/\" directory\n",
    "# For example, running this (by clicking run or pressing Shift+Enter) will list all files under the input directory\n",
    "\n",
    "import os\n",
    "for dirname, _, filenames in os.walk('/kaggle/input'):\n",
    "    for filename in filenames:\n",
    "        print(os.path.join(dirname, filename))\n",
    "\n",
    "# You can write up to 20GB to the current directory (/kaggle/working/) that gets preserved as output when you create a version using \"Save & Run All\" \n",
    "# You can also write temporary files to /kaggle/temp/, but they won't be saved outside of the current session"
   ]
  },
  {
   "cell_type": "code",
   "execution_count": 2,
   "id": "9fdfbe2a",
   "metadata": {
    "execution": {
     "iopub.execute_input": "2022-10-13T11:32:13.796638Z",
     "iopub.status.busy": "2022-10-13T11:32:13.796259Z",
     "iopub.status.idle": "2022-10-13T11:32:15.553989Z",
     "shell.execute_reply": "2022-10-13T11:32:15.552948Z"
    },
    "papermill": {
     "duration": 1.770062,
     "end_time": "2022-10-13T11:32:15.557247",
     "exception": false,
     "start_time": "2022-10-13T11:32:13.787185",
     "status": "completed"
    },
    "tags": []
   },
   "outputs": [],
   "source": [
    "import random\n",
    "import torch\n",
    "\n",
    "seed = 42\n",
    "random.seed(seed)\n",
    "np.random.seed(seed)\n",
    "torch.manual_seed(seed)\n",
    "if torch.cuda.is_available():\n",
    "    torch.cuda.manual_seed(seed)\n",
    "    torch.cuda.manual_seed_all(seed)\n",
    "torch.backends.cudnn.benchmark = False\n",
    "torch.backends.cudnn.deterministic = True"
   ]
  },
  {
   "cell_type": "code",
   "execution_count": 3,
   "id": "0ee8cc40",
   "metadata": {
    "execution": {
     "iopub.execute_input": "2022-10-13T11:32:15.573120Z",
     "iopub.status.busy": "2022-10-13T11:32:15.572526Z",
     "iopub.status.idle": "2022-10-13T11:32:15.750131Z",
     "shell.execute_reply": "2022-10-13T11:32:15.749014Z"
    },
    "papermill": {
     "duration": 0.188328,
     "end_time": "2022-10-13T11:32:15.753239",
     "exception": false,
     "start_time": "2022-10-13T11:32:15.564911",
     "status": "completed"
    },
    "tags": []
   },
   "outputs": [],
   "source": [
    "x_train = pd.read_csv(\"/kaggle/input/2022-ai-w7p2/x_train.csv\", encoding='cp949')\n",
    "y_train = pd.read_csv(\"/kaggle/input/2022-ai-w7p2/y_train.csv\", encoding='cp949')\n",
    "x_test = pd.read_csv(\"/kaggle/input/2022-ai-w7p2/x_test.csv\", encoding='cp949')\n",
    "submit = pd.read_csv(\"/kaggle/input/2022-ai-w7p2/sample_submission.csv\")"
   ]
  },
  {
   "cell_type": "code",
   "execution_count": 4,
   "id": "a65f36e5",
   "metadata": {
    "execution": {
     "iopub.execute_input": "2022-10-13T11:32:15.768300Z",
     "iopub.status.busy": "2022-10-13T11:32:15.767970Z",
     "iopub.status.idle": "2022-10-13T11:32:15.780176Z",
     "shell.execute_reply": "2022-10-13T11:32:15.779274Z"
    },
    "papermill": {
     "duration": 0.023712,
     "end_time": "2022-10-13T11:32:15.783969",
     "exception": false,
     "start_time": "2022-10-13T11:32:15.760257",
     "status": "completed"
    },
    "tags": []
   },
   "outputs": [
    {
     "data": {
      "text/plain": [
       "Index(['시도명', '읍면동명', '거주인구', '근무인구', '방문인구', '총 유동인구', '평균 속도', '평균 소요 시간',\n",
       "       '평균 기온', '일강수량', '평균 풍속', '월', '일', '년'],\n",
       "      dtype='object')"
      ]
     },
     "execution_count": 4,
     "metadata": {},
     "output_type": "execute_result"
    }
   ],
   "source": [
    "x_train.columns"
   ]
  },
  {
   "cell_type": "code",
   "execution_count": 5,
   "id": "e7520c47",
   "metadata": {
    "execution": {
     "iopub.execute_input": "2022-10-13T11:32:15.798357Z",
     "iopub.status.busy": "2022-10-13T11:32:15.798021Z",
     "iopub.status.idle": "2022-10-13T11:32:15.812943Z",
     "shell.execute_reply": "2022-10-13T11:32:15.812112Z"
    },
    "papermill": {
     "duration": 0.025441,
     "end_time": "2022-10-13T11:32:15.815833",
     "exception": false,
     "start_time": "2022-10-13T11:32:15.790392",
     "status": "completed"
    },
    "tags": []
   },
   "outputs": [],
   "source": [
    "x_train = x_train.drop(['시도명', '읍면동명', '월', '일', '년'],axis=1)\n",
    "x_test = x_test.drop(['시도명', '읍면동명', '월', '일', '년'],axis=1)"
   ]
  },
  {
   "cell_type": "code",
   "execution_count": 6,
   "id": "ba5274c4",
   "metadata": {
    "execution": {
     "iopub.execute_input": "2022-10-13T11:32:15.830217Z",
     "iopub.status.busy": "2022-10-13T11:32:15.829913Z",
     "iopub.status.idle": "2022-10-13T11:32:15.856966Z",
     "shell.execute_reply": "2022-10-13T11:32:15.856115Z"
    },
    "papermill": {
     "duration": 0.037246,
     "end_time": "2022-10-13T11:32:15.859773",
     "exception": false,
     "start_time": "2022-10-13T11:32:15.822527",
     "status": "completed"
    },
    "tags": []
   },
   "outputs": [
    {
     "data": {
      "text/html": [
       "<div>\n",
       "<style scoped>\n",
       "    .dataframe tbody tr th:only-of-type {\n",
       "        vertical-align: middle;\n",
       "    }\n",
       "\n",
       "    .dataframe tbody tr th {\n",
       "        vertical-align: top;\n",
       "    }\n",
       "\n",
       "    .dataframe thead th {\n",
       "        text-align: right;\n",
       "    }\n",
       "</style>\n",
       "<table border=\"1\" class=\"dataframe\">\n",
       "  <thead>\n",
       "    <tr style=\"text-align: right;\">\n",
       "      <th></th>\n",
       "      <th>거주인구</th>\n",
       "      <th>근무인구</th>\n",
       "      <th>방문인구</th>\n",
       "      <th>총 유동인구</th>\n",
       "      <th>평균 속도</th>\n",
       "      <th>평균 소요 시간</th>\n",
       "      <th>평균 기온</th>\n",
       "      <th>일강수량</th>\n",
       "      <th>평균 풍속</th>\n",
       "    </tr>\n",
       "  </thead>\n",
       "  <tbody>\n",
       "    <tr>\n",
       "      <th>0</th>\n",
       "      <td>45737.828</td>\n",
       "      <td>8703.034</td>\n",
       "      <td>91775.025</td>\n",
       "      <td>146215.887</td>\n",
       "      <td>57.286</td>\n",
       "      <td>35.000</td>\n",
       "      <td>6.500</td>\n",
       "      <td>0.0</td>\n",
       "      <td>2.9</td>\n",
       "    </tr>\n",
       "    <tr>\n",
       "      <th>1</th>\n",
       "      <td>289284.270</td>\n",
       "      <td>48392.749</td>\n",
       "      <td>179649.272</td>\n",
       "      <td>517326.291</td>\n",
       "      <td>50.500</td>\n",
       "      <td>58.912</td>\n",
       "      <td>18.833</td>\n",
       "      <td>0.0</td>\n",
       "      <td>2.3</td>\n",
       "    </tr>\n",
       "    <tr>\n",
       "      <th>2</th>\n",
       "      <td>72684.218</td>\n",
       "      <td>45632.065</td>\n",
       "      <td>120931.098</td>\n",
       "      <td>239247.380</td>\n",
       "      <td>34.727</td>\n",
       "      <td>60.000</td>\n",
       "      <td>13.200</td>\n",
       "      <td>0.0</td>\n",
       "      <td>1.8</td>\n",
       "    </tr>\n",
       "    <tr>\n",
       "      <th>3</th>\n",
       "      <td>235752.513</td>\n",
       "      <td>34212.805</td>\n",
       "      <td>186910.679</td>\n",
       "      <td>456875.997</td>\n",
       "      <td>37.167</td>\n",
       "      <td>26.500</td>\n",
       "      <td>11.700</td>\n",
       "      <td>0.0</td>\n",
       "      <td>4.8</td>\n",
       "    </tr>\n",
       "    <tr>\n",
       "      <th>4</th>\n",
       "      <td>544250.956</td>\n",
       "      <td>64188.293</td>\n",
       "      <td>205182.677</td>\n",
       "      <td>813621.925</td>\n",
       "      <td>31.462</td>\n",
       "      <td>37.769</td>\n",
       "      <td>22.233</td>\n",
       "      <td>0.0</td>\n",
       "      <td>2.3</td>\n",
       "    </tr>\n",
       "  </tbody>\n",
       "</table>\n",
       "</div>"
      ],
      "text/plain": [
       "         거주인구       근무인구        방문인구      총 유동인구   평균 속도  평균 소요 시간   평균 기온  \\\n",
       "0   45737.828   8703.034   91775.025  146215.887  57.286    35.000   6.500   \n",
       "1  289284.270  48392.749  179649.272  517326.291  50.500    58.912  18.833   \n",
       "2   72684.218  45632.065  120931.098  239247.380  34.727    60.000  13.200   \n",
       "3  235752.513  34212.805  186910.679  456875.997  37.167    26.500  11.700   \n",
       "4  544250.956  64188.293  205182.677  813621.925  31.462    37.769  22.233   \n",
       "\n",
       "   일강수량  평균 풍속  \n",
       "0   0.0    2.9  \n",
       "1   0.0    2.3  \n",
       "2   0.0    1.8  \n",
       "3   0.0    4.8  \n",
       "4   0.0    2.3  "
      ]
     },
     "execution_count": 6,
     "metadata": {},
     "output_type": "execute_result"
    }
   ],
   "source": [
    "x_test.head()"
   ]
  },
  {
   "cell_type": "code",
   "execution_count": 7,
   "id": "a0c3bae3",
   "metadata": {
    "execution": {
     "iopub.execute_input": "2022-10-13T11:32:15.875378Z",
     "iopub.status.busy": "2022-10-13T11:32:15.875068Z",
     "iopub.status.idle": "2022-10-13T11:32:16.644496Z",
     "shell.execute_reply": "2022-10-13T11:32:16.643391Z"
    },
    "papermill": {
     "duration": 0.779862,
     "end_time": "2022-10-13T11:32:16.647073",
     "exception": false,
     "start_time": "2022-10-13T11:32:15.867211",
     "status": "completed"
    },
    "tags": []
   },
   "outputs": [],
   "source": [
    "from sklearn.preprocessing import StandardScaler\n",
    "ss = StandardScaler()\n",
    "ss.fit(x_train)\n",
    "x_train = ss.transform(x_train)\n",
    "x_test = ss.transform(x_test)"
   ]
  },
  {
   "cell_type": "code",
   "execution_count": 8,
   "id": "c693db15",
   "metadata": {
    "execution": {
     "iopub.execute_input": "2022-10-13T11:32:16.657988Z",
     "iopub.status.busy": "2022-10-13T11:32:16.657668Z",
     "iopub.status.idle": "2022-10-13T11:32:16.663584Z",
     "shell.execute_reply": "2022-10-13T11:32:16.662727Z"
    },
    "papermill": {
     "duration": 0.014065,
     "end_time": "2022-10-13T11:32:16.665834",
     "exception": false,
     "start_time": "2022-10-13T11:32:16.651769",
     "status": "completed"
    },
    "tags": []
   },
   "outputs": [],
   "source": [
    "y_train = np.array(y_train)"
   ]
  },
  {
   "cell_type": "code",
   "execution_count": 9,
   "id": "12c46271",
   "metadata": {
    "execution": {
     "iopub.execute_input": "2022-10-13T11:32:16.675894Z",
     "iopub.status.busy": "2022-10-13T11:32:16.675602Z",
     "iopub.status.idle": "2022-10-13T11:32:19.546955Z",
     "shell.execute_reply": "2022-10-13T11:32:19.545963Z"
    },
    "papermill": {
     "duration": 2.87904,
     "end_time": "2022-10-13T11:32:19.549394",
     "exception": false,
     "start_time": "2022-10-13T11:32:16.670354",
     "status": "completed"
    },
    "tags": []
   },
   "outputs": [],
   "source": [
    "x_train = torch.FloatTensor(x_train).cuda()\n",
    "y_train = torch.FloatTensor(y_train).cuda()\n",
    "x_test = torch.FloatTensor(x_test).cuda()"
   ]
  },
  {
   "cell_type": "code",
   "execution_count": 10,
   "id": "58e7ceb9",
   "metadata": {
    "execution": {
     "iopub.execute_input": "2022-10-13T11:32:19.560491Z",
     "iopub.status.busy": "2022-10-13T11:32:19.560159Z",
     "iopub.status.idle": "2022-10-13T11:32:19.565415Z",
     "shell.execute_reply": "2022-10-13T11:32:19.564369Z"
    },
    "papermill": {
     "duration": 0.012988,
     "end_time": "2022-10-13T11:32:19.567525",
     "exception": false,
     "start_time": "2022-10-13T11:32:19.554537",
     "status": "completed"
    },
    "tags": []
   },
   "outputs": [],
   "source": [
    "from torch.utils.data import TensorDataset\n",
    "\n",
    "train_data = TensorDataset(x_train, y_train)"
   ]
  },
  {
   "cell_type": "code",
   "execution_count": 11,
   "id": "e86dda0e",
   "metadata": {
    "execution": {
     "iopub.execute_input": "2022-10-13T11:32:19.577477Z",
     "iopub.status.busy": "2022-10-13T11:32:19.577187Z",
     "iopub.status.idle": "2022-10-13T11:32:19.581924Z",
     "shell.execute_reply": "2022-10-13T11:32:19.580821Z"
    },
    "papermill": {
     "duration": 0.012061,
     "end_time": "2022-10-13T11:32:19.583968",
     "exception": false,
     "start_time": "2022-10-13T11:32:19.571907",
     "status": "completed"
    },
    "tags": []
   },
   "outputs": [],
   "source": [
    "from torch.utils.data import DataLoader\n",
    "batch_size = 50\n",
    "data_loader = DataLoader(dataset=train_data,\n",
    "                        batch_size=batch_size,\n",
    "                        shuffle=True,\n",
    "                        drop_last=True)"
   ]
  },
  {
   "cell_type": "code",
   "execution_count": 12,
   "id": "303459f7",
   "metadata": {
    "execution": {
     "iopub.execute_input": "2022-10-13T11:32:19.594658Z",
     "iopub.status.busy": "2022-10-13T11:32:19.593857Z",
     "iopub.status.idle": "2022-10-13T11:32:19.600072Z",
     "shell.execute_reply": "2022-10-13T11:32:19.599148Z"
    },
    "papermill": {
     "duration": 0.013733,
     "end_time": "2022-10-13T11:32:19.602185",
     "exception": false,
     "start_time": "2022-10-13T11:32:19.588452",
     "status": "completed"
    },
    "tags": []
   },
   "outputs": [
    {
     "data": {
      "text/plain": [
       "torch.Size([21486, 9])"
      ]
     },
     "execution_count": 12,
     "metadata": {},
     "output_type": "execute_result"
    }
   ],
   "source": [
    "x_train.shape"
   ]
  },
  {
   "cell_type": "code",
   "execution_count": 13,
   "id": "11af50ff",
   "metadata": {
    "execution": {
     "iopub.execute_input": "2022-10-13T11:32:19.612549Z",
     "iopub.status.busy": "2022-10-13T11:32:19.611819Z",
     "iopub.status.idle": "2022-10-13T11:32:19.628957Z",
     "shell.execute_reply": "2022-10-13T11:32:19.628169Z"
    },
    "papermill": {
     "duration": 0.024381,
     "end_time": "2022-10-13T11:32:19.631005",
     "exception": false,
     "start_time": "2022-10-13T11:32:19.606624",
     "status": "completed"
    },
    "tags": []
   },
   "outputs": [],
   "source": [
    "layer1 = torch.nn.Linear(9, 900, bias = True)\n",
    "layer2 = torch.nn.Linear(900, 700, bias = True)\n",
    "layer3 = torch.nn.Linear(700, 500, bias = True)\n",
    "layer4 = torch.nn.Linear(500, 250, bias = True)\n",
    "layer5 = torch.nn.Linear(250, 1, bias = True)\n",
    "relu = torch.nn.ReLU()"
   ]
  },
  {
   "cell_type": "code",
   "execution_count": 14,
   "id": "c6a7bdb9",
   "metadata": {
    "execution": {
     "iopub.execute_input": "2022-10-13T11:32:19.641353Z",
     "iopub.status.busy": "2022-10-13T11:32:19.640501Z",
     "iopub.status.idle": "2022-10-13T11:32:19.658604Z",
     "shell.execute_reply": "2022-10-13T11:32:19.657542Z"
    },
    "papermill": {
     "duration": 0.025456,
     "end_time": "2022-10-13T11:32:19.660844",
     "exception": false,
     "start_time": "2022-10-13T11:32:19.635388",
     "status": "completed"
    },
    "tags": []
   },
   "outputs": [
    {
     "data": {
      "text/plain": [
       "Parameter containing:\n",
       "tensor([[-0.0038, -0.0342, -0.0981,  0.1425,  0.0082,  0.1110, -0.0675,  0.1191,\n",
       "          0.1155,  0.0255, -0.0960, -0.0383, -0.0750,  0.0915,  0.0563, -0.1904,\n",
       "          0.1326, -0.1942,  0.0743,  0.0410, -0.1687,  0.0675,  0.0055, -0.0704,\n",
       "         -0.0233, -0.0545,  0.0461, -0.0881,  0.0453, -0.1822, -0.0745, -0.0085,\n",
       "          0.1890,  0.0769, -0.2320,  0.0369,  0.0607, -0.0749, -0.0681, -0.0037,\n",
       "          0.0896, -0.1216,  0.1988,  0.0275,  0.1064,  0.0052, -0.0240,  0.0368,\n",
       "         -0.0244, -0.0093,  0.0193, -0.0164, -0.0504,  0.1657,  0.1024, -0.0050,\n",
       "          0.1750,  0.0291,  0.0836, -0.1180, -0.0313,  0.0018,  0.0817,  0.0122,\n",
       "         -0.0409, -0.0476, -0.0164,  0.0011, -0.0099,  0.1416, -0.0318, -0.0021,\n",
       "          0.0646,  0.1394, -0.0224, -0.0131,  0.0458, -0.0824, -0.0275, -0.0920,\n",
       "          0.0573, -0.0216,  0.2241, -0.1000,  0.1695, -0.1352, -0.0401, -0.0714,\n",
       "          0.0664, -0.0232,  0.0525,  0.0978, -0.0796,  0.0041, -0.0255, -0.0377,\n",
       "         -0.0983,  0.0984,  0.0498, -0.1011,  0.1093,  0.0719, -0.2109,  0.1082,\n",
       "          0.0930, -0.1064, -0.0274,  0.0179, -0.1501,  0.0240,  0.0482, -0.0780,\n",
       "         -0.0546,  0.0140,  0.0003,  0.0183, -0.1598, -0.0850,  0.1594,  0.0961,\n",
       "         -0.1412, -0.0846, -0.0447, -0.0400,  0.0970,  0.0604, -0.1077, -0.0051,\n",
       "         -0.0264, -0.0566,  0.0276, -0.0574, -0.0902, -0.2310, -0.1373, -0.1047,\n",
       "         -0.0309,  0.1649,  0.0298,  0.0828,  0.1930, -0.2928, -0.0033, -0.0759,\n",
       "         -0.0385,  0.0009,  0.0442,  0.0118, -0.1147,  0.0779,  0.0707,  0.0411,\n",
       "         -0.0754,  0.0215,  0.0526,  0.0448,  0.2411,  0.1254, -0.0346,  0.0111,\n",
       "          0.1156, -0.1831,  0.1137,  0.0445,  0.0270, -0.1061, -0.0301,  0.1328,\n",
       "         -0.0189,  0.1309,  0.0299, -0.1223, -0.0332,  0.0644, -0.2685,  0.2227,\n",
       "         -0.0158,  0.0035,  0.0938,  0.1168,  0.0169, -0.0422,  0.1219, -0.0816,\n",
       "         -0.0325, -0.0111, -0.0033,  0.1145, -0.0267, -0.0806, -0.1064, -0.0153,\n",
       "         -0.0262, -0.1952, -0.1010,  0.0991, -0.0165, -0.0798, -0.0508,  0.0282,\n",
       "         -0.0759,  0.0892, -0.0187,  0.0134,  0.0132,  0.1227,  0.0856,  0.0911,\n",
       "          0.0308,  0.0523, -0.1926, -0.0323,  0.0363, -0.0902, -0.0675, -0.0569,\n",
       "         -0.0705, -0.1455, -0.0380,  0.0708, -0.0666, -0.1666, -0.1142,  0.0536,\n",
       "          0.0013,  0.1532, -0.1415, -0.0641, -0.0488,  0.0189,  0.0635,  0.0960,\n",
       "          0.0522, -0.0182,  0.0872, -0.0118,  0.0279, -0.0300,  0.1611,  0.0015,\n",
       "         -0.0654,  0.1259,  0.0812,  0.0606, -0.0504, -0.0787, -0.0636, -0.0327,\n",
       "          0.0683, -0.0120]], requires_grad=True)"
      ]
     },
     "execution_count": 14,
     "metadata": {},
     "output_type": "execute_result"
    }
   ],
   "source": [
    "torch.nn.init.xavier_normal_(layer1.weight)\n",
    "torch.nn.init.xavier_normal_(layer2.weight)\n",
    "torch.nn.init.xavier_normal_(layer3.weight)\n",
    "torch.nn.init.xavier_normal_(layer4.weight)\n",
    "torch.nn.init.xavier_normal_(layer5.weight)"
   ]
  },
  {
   "cell_type": "code",
   "execution_count": 15,
   "id": "2d5bd02a",
   "metadata": {
    "execution": {
     "iopub.execute_input": "2022-10-13T11:32:19.672972Z",
     "iopub.status.busy": "2022-10-13T11:32:19.672235Z",
     "iopub.status.idle": "2022-10-13T11:32:19.680748Z",
     "shell.execute_reply": "2022-10-13T11:32:19.679956Z"
    },
    "papermill": {
     "duration": 0.017131,
     "end_time": "2022-10-13T11:32:19.682971",
     "exception": false,
     "start_time": "2022-10-13T11:32:19.665840",
     "status": "completed"
    },
    "tags": []
   },
   "outputs": [],
   "source": [
    "model = torch.nn.Sequential(layer1, relu,\n",
    "                            layer2, relu,\n",
    "                            layer3, relu,\n",
    "                            layer4, relu,\n",
    "                            layer5).cuda()"
   ]
  },
  {
   "cell_type": "code",
   "execution_count": 16,
   "id": "f8506de8",
   "metadata": {
    "execution": {
     "iopub.execute_input": "2022-10-13T11:32:19.693887Z",
     "iopub.status.busy": "2022-10-13T11:32:19.693086Z",
     "iopub.status.idle": "2022-10-13T11:32:19.698251Z",
     "shell.execute_reply": "2022-10-13T11:32:19.697454Z"
    },
    "papermill": {
     "duration": 0.012429,
     "end_time": "2022-10-13T11:32:19.700146",
     "exception": false,
     "start_time": "2022-10-13T11:32:19.687717",
     "status": "completed"
    },
    "tags": []
   },
   "outputs": [],
   "source": [
    "learning_rate = 0.001\n",
    "loss = torch.nn.L1Loss().cuda()\n",
    "optimizer = torch.optim.Adam(model.parameters(),lr=learning_rate)"
   ]
  },
  {
   "cell_type": "code",
   "execution_count": 17,
   "id": "22b07aef",
   "metadata": {
    "execution": {
     "iopub.execute_input": "2022-10-13T11:32:19.710978Z",
     "iopub.status.busy": "2022-10-13T11:32:19.710247Z",
     "iopub.status.idle": "2022-10-13T11:37:34.461220Z",
     "shell.execute_reply": "2022-10-13T11:37:34.460118Z"
    },
    "papermill": {
     "duration": 314.770155,
     "end_time": "2022-10-13T11:37:34.475158",
     "exception": false,
     "start_time": "2022-10-13T11:32:19.705003",
     "status": "completed"
    },
    "tags": []
   },
   "outputs": [
    {
     "name": "stdout",
     "output_type": "stream",
     "text": [
      "Epoch: 0001 cost = 149.518234253\n",
      "Epoch: 0002 cost = 61.917804718\n",
      "Epoch: 0003 cost = 51.816825867\n",
      "Epoch: 0004 cost = 46.658767700\n",
      "Epoch: 0005 cost = 43.588291168\n",
      "Epoch: 0006 cost = 41.638435364\n",
      "Epoch: 0007 cost = 39.599609375\n",
      "Epoch: 0008 cost = 38.747509003\n",
      "Epoch: 0009 cost = 37.694461823\n",
      "Epoch: 0010 cost = 36.926967621\n",
      "Epoch: 0011 cost = 35.463272095\n",
      "Epoch: 0012 cost = 35.594978333\n",
      "Epoch: 0013 cost = 33.713718414\n",
      "Epoch: 0014 cost = 32.901962280\n",
      "Epoch: 0015 cost = 32.679630280\n",
      "Epoch: 0016 cost = 31.837171555\n",
      "Epoch: 0017 cost = 31.588470459\n",
      "Epoch: 0018 cost = 30.805040359\n",
      "Epoch: 0019 cost = 30.498851776\n",
      "Epoch: 0020 cost = 29.634656906\n",
      "Epoch: 0021 cost = 29.023502350\n",
      "Epoch: 0022 cost = 28.713876724\n",
      "Epoch: 0023 cost = 27.965167999\n",
      "Epoch: 0024 cost = 27.744682312\n",
      "Epoch: 0025 cost = 27.127540588\n",
      "Epoch: 0026 cost = 26.836566925\n",
      "Epoch: 0027 cost = 26.254148483\n",
      "Epoch: 0028 cost = 25.967641830\n",
      "Epoch: 0029 cost = 25.996425629\n",
      "Epoch: 0030 cost = 25.052404404\n"
     ]
    }
   ],
   "source": [
    "training_epochs = 30\n",
    "total_batch = len(data_loader)\n",
    "for epoch in range(training_epochs):\n",
    "    avg_cost = 0\n",
    "    \n",
    "    for X,Y in data_loader:\n",
    "        X = X.cuda()\n",
    "        Y = Y.cuda()\n",
    "        \n",
    "        optimizer.zero_grad()\n",
    "        hypothesis = model(x_train)\n",
    "        cost = loss(hypothesis,y_train)\n",
    "        cost.backward()\n",
    "        optimizer.step()\n",
    "        \n",
    "        avg_cost += cost/total_batch\n",
    "    print('Epoch:', '%04d' % (epoch + 1), 'cost =', '{:.9f}'.format(avg_cost))"
   ]
  },
  {
   "cell_type": "code",
   "execution_count": 18,
   "id": "01a8a28b",
   "metadata": {
    "execution": {
     "iopub.execute_input": "2022-10-13T11:37:34.511011Z",
     "iopub.status.busy": "2022-10-13T11:37:34.510487Z",
     "iopub.status.idle": "2022-10-13T11:37:34.549424Z",
     "shell.execute_reply": "2022-10-13T11:37:34.547829Z"
    },
    "papermill": {
     "duration": 0.054652,
     "end_time": "2022-10-13T11:37:34.552298",
     "exception": false,
     "start_time": "2022-10-13T11:37:34.497646",
     "status": "completed"
    },
    "tags": []
   },
   "outputs": [],
   "source": [
    "predict=model(x_test).cpu().detach().numpy()\n",
    "submit['predict']=predict\n",
    "submission=submit.astype(np.int32)\n",
    "submission.to_csv(\"submission.csv\",mode='w',header=True,index=False)"
   ]
  },
  {
   "cell_type": "code",
   "execution_count": null,
   "id": "b920e151",
   "metadata": {
    "papermill": {
     "duration": 0.009474,
     "end_time": "2022-10-13T11:37:34.572056",
     "exception": false,
     "start_time": "2022-10-13T11:37:34.562582",
     "status": "completed"
    },
    "tags": []
   },
   "outputs": [],
   "source": []
  }
 ],
 "metadata": {
  "kernelspec": {
   "display_name": "Python 3",
   "language": "python",
   "name": "python3"
  },
  "language_info": {
   "codemirror_mode": {
    "name": "ipython",
    "version": 3
   },
   "file_extension": ".py",
   "mimetype": "text/x-python",
   "name": "python",
   "nbconvert_exporter": "python",
   "pygments_lexer": "ipython3",
   "version": "3.7.12"
  },
  "papermill": {
   "default_parameters": {},
   "duration": 329.931388,
   "end_time": "2022-10-13T11:37:35.807091",
   "environment_variables": {},
   "exception": null,
   "input_path": "__notebook__.ipynb",
   "output_path": "__notebook__.ipynb",
   "parameters": {},
   "start_time": "2022-10-13T11:32:05.875703",
   "version": "2.3.4"
  }
 },
 "nbformat": 4,
 "nbformat_minor": 5
}
