{
 "cells": [
  {
   "cell_type": "code",
   "execution_count": 1,
   "id": "bbc332d6",
   "metadata": {
    "_cell_guid": "b1076dfc-b9ad-4769-8c92-a6c4dae69d19",
    "_uuid": "8f2839f25d086af736a60e9eeb907d3b93b6e0e5",
    "execution": {
     "iopub.execute_input": "2022-10-08T01:06:13.714723Z",
     "iopub.status.busy": "2022-10-08T01:06:13.713969Z",
     "iopub.status.idle": "2022-10-08T01:06:13.727190Z",
     "shell.execute_reply": "2022-10-08T01:06:13.726151Z"
    },
    "papermill": {
     "duration": 0.02309,
     "end_time": "2022-10-08T01:06:13.729730",
     "exception": false,
     "start_time": "2022-10-08T01:06:13.706640",
     "status": "completed"
    },
    "tags": []
   },
   "outputs": [
    {
     "name": "stdout",
     "output_type": "stream",
     "text": [
      "/kaggle/input/2022-ai-w6p1/sample_submission.csv\n",
      "/kaggle/input/2022-ai-w6p1/pca_test.csv\n",
      "/kaggle/input/2022-ai-w6p1/pca_train.csv\n",
      "/kaggle/input/2022-ai-w6p1/train_label.csv\n"
     ]
    }
   ],
   "source": [
    "# This Python 3 environment comes with many helpful analytics libraries installed\n",
    "# It is defined by the kaggle/python Docker image: https://github.com/kaggle/docker-python\n",
    "# For example, here's several helpful packages to load\n",
    "\n",
    "import numpy as np # linear algebra\n",
    "import pandas as pd # data processing, CSV file I/O (e.g. pd.read_csv)\n",
    "\n",
    "# Input data files are available in the read-only \"../input/\" directory\n",
    "# For example, running this (by clicking run or pressing Shift+Enter) will list all files under the input directory\n",
    "\n",
    "import os\n",
    "for dirname, _, filenames in os.walk('/kaggle/input'):\n",
    "    for filename in filenames:\n",
    "        print(os.path.join(dirname, filename))\n",
    "\n",
    "# You can write up to 20GB to the current directory (/kaggle/working/) that gets preserved as output when you create a version using \"Save & Run All\" \n",
    "# You can also write temporary files to /kaggle/temp/, but they won't be saved outside of the current session"
   ]
  },
  {
   "cell_type": "code",
   "execution_count": 2,
   "id": "e6a9203f",
   "metadata": {
    "execution": {
     "iopub.execute_input": "2022-10-08T01:06:13.739146Z",
     "iopub.status.busy": "2022-10-08T01:06:13.738861Z",
     "iopub.status.idle": "2022-10-08T01:06:15.818161Z",
     "shell.execute_reply": "2022-10-08T01:06:15.816941Z"
    },
    "papermill": {
     "duration": 2.086857,
     "end_time": "2022-10-08T01:06:15.820823",
     "exception": false,
     "start_time": "2022-10-08T01:06:13.733966",
     "status": "completed"
    },
    "tags": []
   },
   "outputs": [],
   "source": [
    "import random\n",
    "import torch\n",
    "\n",
    "seed = 42\n",
    "random.seed(seed)\n",
    "np.random.seed(seed)\n",
    "torch.manual_seed(seed)\n",
    "if torch.cuda.is_available():\n",
    "    torch.cuda.manual_seed(seed)\n",
    "    torch.cuda.manual_seed_all(seed)\n",
    "torch.backends.cudnn.benchmark = False\n",
    "torch.backends.cudnn.deterministic = True"
   ]
  },
  {
   "cell_type": "code",
   "execution_count": 3,
   "id": "aa156868",
   "metadata": {
    "execution": {
     "iopub.execute_input": "2022-10-08T01:06:15.835428Z",
     "iopub.status.busy": "2022-10-08T01:06:15.834870Z",
     "iopub.status.idle": "2022-10-08T01:06:20.649417Z",
     "shell.execute_reply": "2022-10-08T01:06:20.648298Z"
    },
    "papermill": {
     "duration": 4.824577,
     "end_time": "2022-10-08T01:06:20.652187",
     "exception": false,
     "start_time": "2022-10-08T01:06:15.827610",
     "status": "completed"
    },
    "tags": []
   },
   "outputs": [],
   "source": [
    "x_train = pd.read_csv(\"/kaggle/input/2022-ai-w6p1/pca_train.csv\")\n",
    "y_train = pd.read_csv(\"/kaggle/input/2022-ai-w6p1/train_label.csv\")\n",
    "x_test = pd.read_csv(\"/kaggle/input/2022-ai-w6p1/pca_test.csv\")\n",
    "submit = pd.read_csv(\"/kaggle/input/2022-ai-w6p1/sample_submission.csv\")"
   ]
  },
  {
   "cell_type": "code",
   "execution_count": 4,
   "id": "dab192de",
   "metadata": {
    "execution": {
     "iopub.execute_input": "2022-10-08T01:06:20.661916Z",
     "iopub.status.busy": "2022-10-08T01:06:20.661594Z",
     "iopub.status.idle": "2022-10-08T01:06:20.665757Z",
     "shell.execute_reply": "2022-10-08T01:06:20.664739Z"
    },
    "papermill": {
     "duration": 0.011796,
     "end_time": "2022-10-08T01:06:20.668262",
     "exception": false,
     "start_time": "2022-10-08T01:06:20.656466",
     "status": "completed"
    },
    "tags": []
   },
   "outputs": [],
   "source": [
    "#from sklearn.model_selection import train_test_split\n",
    "\n",
    "#train_input, test_input, train_target, test_target = train_test_split(x_train, y_train)"
   ]
  },
  {
   "cell_type": "code",
   "execution_count": 5,
   "id": "d28b7fe5",
   "metadata": {
    "execution": {
     "iopub.execute_input": "2022-10-08T01:06:20.677678Z",
     "iopub.status.busy": "2022-10-08T01:06:20.677383Z",
     "iopub.status.idle": "2022-10-08T01:06:21.538021Z",
     "shell.execute_reply": "2022-10-08T01:06:21.536907Z"
    },
    "papermill": {
     "duration": 0.867934,
     "end_time": "2022-10-08T01:06:21.540430",
     "exception": false,
     "start_time": "2022-10-08T01:06:20.672496",
     "status": "completed"
    },
    "tags": []
   },
   "outputs": [],
   "source": [
    "from sklearn.preprocessing import StandardScaler\n",
    "\n",
    "scaler = StandardScaler()\n",
    "scaler.fit(x_train)\n",
    "x_train = scaler.transform(x_train)\n",
    "x_test = scaler.transform(x_test)"
   ]
  },
  {
   "cell_type": "code",
   "execution_count": 6,
   "id": "2b1c5179",
   "metadata": {
    "execution": {
     "iopub.execute_input": "2022-10-08T01:06:21.551819Z",
     "iopub.status.busy": "2022-10-08T01:06:21.550292Z",
     "iopub.status.idle": "2022-10-08T01:06:21.558616Z",
     "shell.execute_reply": "2022-10-08T01:06:21.557762Z"
    },
    "papermill": {
     "duration": 0.01571,
     "end_time": "2022-10-08T01:06:21.560567",
     "exception": false,
     "start_time": "2022-10-08T01:06:21.544857",
     "status": "completed"
    },
    "tags": []
   },
   "outputs": [],
   "source": [
    "y_train = y_train['label']"
   ]
  },
  {
   "cell_type": "code",
   "execution_count": 7,
   "id": "33722c2d",
   "metadata": {
    "execution": {
     "iopub.execute_input": "2022-10-08T01:06:21.570359Z",
     "iopub.status.busy": "2022-10-08T01:06:21.569697Z",
     "iopub.status.idle": "2022-10-08T01:06:24.439736Z",
     "shell.execute_reply": "2022-10-08T01:06:24.438696Z"
    },
    "papermill": {
     "duration": 2.877685,
     "end_time": "2022-10-08T01:06:24.442293",
     "exception": false,
     "start_time": "2022-10-08T01:06:21.564608",
     "status": "completed"
    },
    "tags": []
   },
   "outputs": [],
   "source": [
    "x_train = torch.FloatTensor(np.array(x_train)).cuda()\n",
    "y_train = torch.FloatTensor(np.array(y_train))\n",
    "x_test = torch.FloatTensor(np.array(x_test)).cuda()"
   ]
  },
  {
   "cell_type": "code",
   "execution_count": 8,
   "id": "ac0921f5",
   "metadata": {
    "execution": {
     "iopub.execute_input": "2022-10-08T01:06:24.452273Z",
     "iopub.status.busy": "2022-10-08T01:06:24.451701Z",
     "iopub.status.idle": "2022-10-08T01:06:24.463239Z",
     "shell.execute_reply": "2022-10-08T01:06:24.462252Z"
    },
    "papermill": {
     "duration": 0.018751,
     "end_time": "2022-10-08T01:06:24.465266",
     "exception": false,
     "start_time": "2022-10-08T01:06:24.446515",
     "status": "completed"
    },
    "tags": []
   },
   "outputs": [
    {
     "data": {
      "text/plain": [
       "tensor([136.,  90., 112.,  ...,  18.,  41., 114.])"
      ]
     },
     "execution_count": 8,
     "metadata": {},
     "output_type": "execute_result"
    }
   ],
   "source": [
    "y_train"
   ]
  },
  {
   "cell_type": "code",
   "execution_count": 9,
   "id": "b0e20eee",
   "metadata": {
    "execution": {
     "iopub.execute_input": "2022-10-08T01:06:24.476647Z",
     "iopub.status.busy": "2022-10-08T01:06:24.475090Z",
     "iopub.status.idle": "2022-10-08T01:06:24.481100Z",
     "shell.execute_reply": "2022-10-08T01:06:24.480238Z"
    },
    "papermill": {
     "duration": 0.013674,
     "end_time": "2022-10-08T01:06:24.483382",
     "exception": false,
     "start_time": "2022-10-08T01:06:24.469708",
     "status": "completed"
    },
    "tags": []
   },
   "outputs": [],
   "source": [
    "#y_train = y_train.unsqueeze(-1)\n",
    "y_train = y_train.type(torch.LongTensor).cuda()"
   ]
  },
  {
   "cell_type": "code",
   "execution_count": 10,
   "id": "d7ed61e9",
   "metadata": {
    "execution": {
     "iopub.execute_input": "2022-10-08T01:06:24.493429Z",
     "iopub.status.busy": "2022-10-08T01:06:24.493166Z",
     "iopub.status.idle": "2022-10-08T01:06:24.510196Z",
     "shell.execute_reply": "2022-10-08T01:06:24.509376Z"
    },
    "papermill": {
     "duration": 0.024299,
     "end_time": "2022-10-08T01:06:24.512361",
     "exception": false,
     "start_time": "2022-10-08T01:06:24.488062",
     "status": "completed"
    },
    "tags": []
   },
   "outputs": [],
   "source": [
    "layer1 = torch.nn.Linear(256,1042,bias=True)\n",
    "layer2 = torch.nn.Linear(1042,512,bias=True)\n",
    "layer3 = torch.nn.Linear(512,198,bias=True)\n",
    "relu = torch.nn.ReLU()\n",
    "model = torch.nn.Sequential(layer1,relu,layer2,relu,layer3).cuda()"
   ]
  },
  {
   "cell_type": "code",
   "execution_count": 11,
   "id": "1e150d2f",
   "metadata": {
    "execution": {
     "iopub.execute_input": "2022-10-08T01:06:24.521592Z",
     "iopub.status.busy": "2022-10-08T01:06:24.521339Z",
     "iopub.status.idle": "2022-10-08T01:06:24.525827Z",
     "shell.execute_reply": "2022-10-08T01:06:24.524960Z"
    },
    "papermill": {
     "duration": 0.011591,
     "end_time": "2022-10-08T01:06:24.528007",
     "exception": false,
     "start_time": "2022-10-08T01:06:24.516416",
     "status": "completed"
    },
    "tags": []
   },
   "outputs": [],
   "source": [
    "loss = torch.nn.CrossEntropyLoss().cuda()\n",
    "optimizer = torch.optim.Adam(model.parameters(), lr = 0.001)"
   ]
  },
  {
   "cell_type": "code",
   "execution_count": 12,
   "id": "db25dffd",
   "metadata": {
    "execution": {
     "iopub.execute_input": "2022-10-08T01:06:24.537901Z",
     "iopub.status.busy": "2022-10-08T01:06:24.537052Z",
     "iopub.status.idle": "2022-10-08T01:07:38.274664Z",
     "shell.execute_reply": "2022-10-08T01:07:38.273527Z"
    },
    "papermill": {
     "duration": 73.750351,
     "end_time": "2022-10-08T01:07:38.282416",
     "exception": false,
     "start_time": "2022-10-08T01:06:24.532065",
     "status": "completed"
    },
    "tags": []
   },
   "outputs": [
    {
     "name": "stdout",
     "output_type": "stream",
     "text": [
      "0 5.283855438232422\n",
      "500 0.000899750622920692\n",
      "1000 0.0002364932297496125\n",
      "1500 0.00010560151713434607\n",
      "2000 5.778974809800275e-05\n",
      "2500 3.518905214150436e-05\n",
      "3000 2.285565460624639e-05\n"
     ]
    }
   ],
   "source": [
    "for stop in range(3001):\n",
    "    \n",
    "    # 그래디언트 초기화\n",
    "    optimizer.zero_grad()\n",
    "    # Forward 계산\n",
    "    hypothesis = model(x_train)\n",
    "    # Error 계산\n",
    "    cost = loss(hypothesis, y_train)\n",
    "    # Backward 계산 \n",
    "    cost.backward()\n",
    "    # 가중치 갱신\n",
    "    optimizer.step()\n",
    "\n",
    "    if stop % 500 == 0:\n",
    "        print(stop, cost.item())"
   ]
  },
  {
   "cell_type": "code",
   "execution_count": 13,
   "id": "73a6da5d",
   "metadata": {
    "execution": {
     "iopub.execute_input": "2022-10-08T01:07:38.294781Z",
     "iopub.status.busy": "2022-10-08T01:07:38.293226Z",
     "iopub.status.idle": "2022-10-08T01:07:38.299506Z",
     "shell.execute_reply": "2022-10-08T01:07:38.298526Z"
    },
    "papermill": {
     "duration": 0.014011,
     "end_time": "2022-10-08T01:07:38.301740",
     "exception": false,
     "start_time": "2022-10-08T01:07:38.287729",
     "status": "completed"
    },
    "tags": []
   },
   "outputs": [],
   "source": [
    "predict = model(x_test)"
   ]
  },
  {
   "cell_type": "code",
   "execution_count": 14,
   "id": "7cf1d6cc",
   "metadata": {
    "execution": {
     "iopub.execute_input": "2022-10-08T01:07:38.311899Z",
     "iopub.status.busy": "2022-10-08T01:07:38.311630Z",
     "iopub.status.idle": "2022-10-08T01:07:38.318747Z",
     "shell.execute_reply": "2022-10-08T01:07:38.317955Z"
    },
    "papermill": {
     "duration": 0.014832,
     "end_time": "2022-10-08T01:07:38.320988",
     "exception": false,
     "start_time": "2022-10-08T01:07:38.306156",
     "status": "completed"
    },
    "tags": []
   },
   "outputs": [],
   "source": [
    "predict = torch.argmax(predict,dim=1)"
   ]
  },
  {
   "cell_type": "code",
   "execution_count": 15,
   "id": "af1bb288",
   "metadata": {
    "execution": {
     "iopub.execute_input": "2022-10-08T01:07:38.330885Z",
     "iopub.status.busy": "2022-10-08T01:07:38.330628Z",
     "iopub.status.idle": "2022-10-08T01:07:38.338676Z",
     "shell.execute_reply": "2022-10-08T01:07:38.337667Z"
    },
    "papermill": {
     "duration": 0.015461,
     "end_time": "2022-10-08T01:07:38.340865",
     "exception": false,
     "start_time": "2022-10-08T01:07:38.325404",
     "status": "completed"
    },
    "tags": []
   },
   "outputs": [
    {
     "data": {
      "text/plain": [
       "tensor([ 91, 177, 110, 114, 168,  76,  17,  76,  38, 112, 126,  83,  57,  76,\n",
       "          8,  23,  21,  17,  76, 126,  17, 114, 159, 178, 166, 114, 114, 126,\n",
       "         62,  68,  65,  10, 126, 179,  91,  83,  38,  40,  33, 167],\n",
       "       device='cuda:0')"
      ]
     },
     "execution_count": 15,
     "metadata": {},
     "output_type": "execute_result"
    }
   ],
   "source": [
    "predict[10:50]"
   ]
  },
  {
   "cell_type": "code",
   "execution_count": 16,
   "id": "0157433d",
   "metadata": {
    "execution": {
     "iopub.execute_input": "2022-10-08T01:07:38.350885Z",
     "iopub.status.busy": "2022-10-08T01:07:38.350635Z",
     "iopub.status.idle": "2022-10-08T01:07:38.382961Z",
     "shell.execute_reply": "2022-10-08T01:07:38.382143Z"
    },
    "papermill": {
     "duration": 0.039785,
     "end_time": "2022-10-08T01:07:38.385116",
     "exception": false,
     "start_time": "2022-10-08T01:07:38.345331",
     "status": "completed"
    },
    "tags": []
   },
   "outputs": [],
   "source": [
    "submit['label'] = predict.cpu()\n",
    "submission=submit.astype(np.str_)\n",
    "submission.to_csv('submission.csv',mode='w',header=True,index=False)"
   ]
  },
  {
   "cell_type": "code",
   "execution_count": null,
   "id": "0d176a9f",
   "metadata": {
    "papermill": {
     "duration": 0.004196,
     "end_time": "2022-10-08T01:07:38.393822",
     "exception": false,
     "start_time": "2022-10-08T01:07:38.389626",
     "status": "completed"
    },
    "tags": []
   },
   "outputs": [],
   "source": []
  },
  {
   "cell_type": "code",
   "execution_count": null,
   "id": "1ee5a48b",
   "metadata": {
    "papermill": {
     "duration": 0.004344,
     "end_time": "2022-10-08T01:07:38.402951",
     "exception": false,
     "start_time": "2022-10-08T01:07:38.398607",
     "status": "completed"
    },
    "tags": []
   },
   "outputs": [],
   "source": []
  }
 ],
 "metadata": {
  "kernelspec": {
   "display_name": "Python 3",
   "language": "python",
   "name": "python3"
  },
  "language_info": {
   "codemirror_mode": {
    "name": "ipython",
    "version": 3
   },
   "file_extension": ".py",
   "mimetype": "text/x-python",
   "name": "python",
   "nbconvert_exporter": "python",
   "pygments_lexer": "ipython3",
   "version": "3.7.12"
  },
  "papermill": {
   "default_parameters": {},
   "duration": 93.718391,
   "end_time": "2022-10-08T01:07:39.529605",
   "environment_variables": {},
   "exception": null,
   "input_path": "__notebook__.ipynb",
   "output_path": "__notebook__.ipynb",
   "parameters": {},
   "start_time": "2022-10-08T01:06:05.811214",
   "version": "2.3.4"
  }
 },
 "nbformat": 4,
 "nbformat_minor": 5
}
