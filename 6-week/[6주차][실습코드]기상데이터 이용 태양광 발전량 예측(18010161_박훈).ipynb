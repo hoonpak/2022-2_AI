{
 "cells": [
  {
   "cell_type": "code",
   "execution_count": 1,
   "id": "73806465",
   "metadata": {
    "_cell_guid": "b1076dfc-b9ad-4769-8c92-a6c4dae69d19",
    "_uuid": "8f2839f25d086af736a60e9eeb907d3b93b6e0e5",
    "execution": {
     "iopub.execute_input": "2022-10-09T16:37:17.092088Z",
     "iopub.status.busy": "2022-10-09T16:37:17.091284Z",
     "iopub.status.idle": "2022-10-09T16:37:17.104379Z",
     "shell.execute_reply": "2022-10-09T16:37:17.103397Z"
    },
    "papermill": {
     "duration": 0.022116,
     "end_time": "2022-10-09T16:37:17.107037",
     "exception": false,
     "start_time": "2022-10-09T16:37:17.084921",
     "status": "completed"
    },
    "tags": []
   },
   "outputs": [
    {
     "name": "stdout",
     "output_type": "stream",
     "text": [
      "/kaggle/input/2022-ai-w6p2/X_test.csv\n",
      "/kaggle/input/2022-ai-w6p2/train.csv\n",
      "/kaggle/input/2022-ai-w6p2/sample_submit.csv\n"
     ]
    }
   ],
   "source": [
    "# This Python 3 environment comes with many helpful analytics libraries installed\n",
    "# It is defined by the kaggle/python Docker image: https://github.com/kaggle/docker-python\n",
    "# For example, here's several helpful packages to load\n",
    "\n",
    "import numpy as np # linear algebra\n",
    "import pandas as pd # data processing, CSV file I/O (e.g. pd.read_csv)\n",
    "\n",
    "# Input data files are available in the read-only \"../input/\" directory\n",
    "# For example, running this (by clicking run or pressing Shift+Enter) will list all files under the input directory\n",
    "\n",
    "import os\n",
    "for dirname, _, filenames in os.walk('/kaggle/input'):\n",
    "    for filename in filenames:\n",
    "        print(os.path.join(dirname, filename))\n",
    "\n",
    "# You can write up to 20GB to the current directory (/kaggle/working/) that gets preserved as output when you create a version using \"Save & Run All\" \n",
    "# You can also write temporary files to /kaggle/temp/, but they won't be saved outside of the current session"
   ]
  },
  {
   "cell_type": "code",
   "execution_count": 2,
   "id": "d1437400",
   "metadata": {
    "execution": {
     "iopub.execute_input": "2022-10-09T16:37:17.116057Z",
     "iopub.status.busy": "2022-10-09T16:37:17.115245Z",
     "iopub.status.idle": "2022-10-09T16:37:19.018503Z",
     "shell.execute_reply": "2022-10-09T16:37:19.017526Z"
    },
    "papermill": {
     "duration": 1.90991,
     "end_time": "2022-10-09T16:37:19.020797",
     "exception": false,
     "start_time": "2022-10-09T16:37:17.110887",
     "status": "completed"
    },
    "tags": []
   },
   "outputs": [],
   "source": [
    "import random\n",
    "import torch\n",
    "\n",
    "seed = 42\n",
    "random.seed(seed)\n",
    "np.random.seed(seed)\n",
    "torch.manual_seed(seed)\n",
    "if torch.cuda.is_available():\n",
    "    torch.cuda.manual_seed(seed)\n",
    "    torch.cuda.manual_seed_all(seed)\n",
    "torch.backends.cudnn.benchmark = False\n",
    "torch.backends.cudnn.deterministic = True"
   ]
  },
  {
   "cell_type": "code",
   "execution_count": 3,
   "id": "acb9855f",
   "metadata": {
    "execution": {
     "iopub.execute_input": "2022-10-09T16:37:19.030049Z",
     "iopub.status.busy": "2022-10-09T16:37:19.029615Z",
     "iopub.status.idle": "2022-10-09T16:37:19.078752Z",
     "shell.execute_reply": "2022-10-09T16:37:19.077857Z"
    },
    "papermill": {
     "duration": 0.056339,
     "end_time": "2022-10-09T16:37:19.081007",
     "exception": false,
     "start_time": "2022-10-09T16:37:19.024668",
     "status": "completed"
    },
    "tags": []
   },
   "outputs": [],
   "source": [
    "train = pd.read_csv('/kaggle/input/2022-ai-w6p2/train.csv')\n",
    "x_test = pd.read_csv('/kaggle/input/2022-ai-w6p2/X_test.csv')\n",
    "submit = pd.read_csv('/kaggle/input/2022-ai-w6p2/sample_submit.csv')"
   ]
  },
  {
   "cell_type": "code",
   "execution_count": 4,
   "id": "5d42725c",
   "metadata": {
    "execution": {
     "iopub.execute_input": "2022-10-09T16:37:19.090425Z",
     "iopub.status.busy": "2022-10-09T16:37:19.089741Z",
     "iopub.status.idle": "2022-10-09T16:37:19.098586Z",
     "shell.execute_reply": "2022-10-09T16:37:19.097596Z"
    },
    "papermill": {
     "duration": 0.015582,
     "end_time": "2022-10-09T16:37:19.100594",
     "exception": false,
     "start_time": "2022-10-09T16:37:19.085012",
     "status": "completed"
    },
    "tags": []
   },
   "outputs": [
    {
     "data": {
      "text/plain": [
       "Index(['Day', 'Hour', 'Minute', 'DHI', 'DNI', 'WS', 'RH', 'T', 'TARGET'], dtype='object')"
      ]
     },
     "execution_count": 4,
     "metadata": {},
     "output_type": "execute_result"
    }
   ],
   "source": [
    "train.columns"
   ]
  },
  {
   "cell_type": "code",
   "execution_count": 5,
   "id": "fb32169f",
   "metadata": {
    "execution": {
     "iopub.execute_input": "2022-10-09T16:37:19.109616Z",
     "iopub.status.busy": "2022-10-09T16:37:19.109299Z",
     "iopub.status.idle": "2022-10-09T16:37:19.123773Z",
     "shell.execute_reply": "2022-10-09T16:37:19.122821Z"
    },
    "papermill": {
     "duration": 0.021281,
     "end_time": "2022-10-09T16:37:19.125621",
     "exception": false,
     "start_time": "2022-10-09T16:37:19.104340",
     "status": "completed"
    },
    "tags": []
   },
   "outputs": [],
   "source": [
    "x_train = train[['Day', 'Hour', 'Minute', 'DHI', 'DNI', 'WS', 'RH', 'T']]\n",
    "y_train = train['TARGET']"
   ]
  },
  {
   "cell_type": "code",
   "execution_count": 6,
   "id": "c2361a35",
   "metadata": {
    "execution": {
     "iopub.execute_input": "2022-10-09T16:37:19.134524Z",
     "iopub.status.busy": "2022-10-09T16:37:19.133842Z",
     "iopub.status.idle": "2022-10-09T16:37:19.139796Z",
     "shell.execute_reply": "2022-10-09T16:37:19.138837Z"
    },
    "papermill": {
     "duration": 0.012269,
     "end_time": "2022-10-09T16:37:19.141744",
     "exception": false,
     "start_time": "2022-10-09T16:37:19.129475",
     "status": "completed"
    },
    "tags": []
   },
   "outputs": [],
   "source": [
    "x_test = x_test.drop(['ID'], axis=1)"
   ]
  },
  {
   "cell_type": "code",
   "execution_count": 7,
   "id": "40aabe97",
   "metadata": {
    "execution": {
     "iopub.execute_input": "2022-10-09T16:37:19.151014Z",
     "iopub.status.busy": "2022-10-09T16:37:19.150193Z",
     "iopub.status.idle": "2022-10-09T16:37:19.167287Z",
     "shell.execute_reply": "2022-10-09T16:37:19.166255Z"
    },
    "papermill": {
     "duration": 0.023923,
     "end_time": "2022-10-09T16:37:19.169343",
     "exception": false,
     "start_time": "2022-10-09T16:37:19.145420",
     "status": "completed"
    },
    "tags": []
   },
   "outputs": [
    {
     "data": {
      "text/html": [
       "<div>\n",
       "<style scoped>\n",
       "    .dataframe tbody tr th:only-of-type {\n",
       "        vertical-align: middle;\n",
       "    }\n",
       "\n",
       "    .dataframe tbody tr th {\n",
       "        vertical-align: top;\n",
       "    }\n",
       "\n",
       "    .dataframe thead th {\n",
       "        text-align: right;\n",
       "    }\n",
       "</style>\n",
       "<table border=\"1\" class=\"dataframe\">\n",
       "  <thead>\n",
       "    <tr style=\"text-align: right;\">\n",
       "      <th></th>\n",
       "      <th>Day</th>\n",
       "      <th>Hour</th>\n",
       "      <th>Minute</th>\n",
       "      <th>DHI</th>\n",
       "      <th>DNI</th>\n",
       "      <th>WS</th>\n",
       "      <th>RH</th>\n",
       "      <th>T</th>\n",
       "    </tr>\n",
       "  </thead>\n",
       "  <tbody>\n",
       "    <tr>\n",
       "      <th>0</th>\n",
       "      <td>1043</td>\n",
       "      <td>7</td>\n",
       "      <td>30</td>\n",
       "      <td>34</td>\n",
       "      <td>584</td>\n",
       "      <td>2.0</td>\n",
       "      <td>63.02</td>\n",
       "      <td>3</td>\n",
       "    </tr>\n",
       "    <tr>\n",
       "      <th>1</th>\n",
       "      <td>1043</td>\n",
       "      <td>8</td>\n",
       "      <td>0</td>\n",
       "      <td>45</td>\n",
       "      <td>730</td>\n",
       "      <td>2.3</td>\n",
       "      <td>61.54</td>\n",
       "      <td>5</td>\n",
       "    </tr>\n",
       "    <tr>\n",
       "      <th>2</th>\n",
       "      <td>1043</td>\n",
       "      <td>8</td>\n",
       "      <td>30</td>\n",
       "      <td>52</td>\n",
       "      <td>817</td>\n",
       "      <td>2.4</td>\n",
       "      <td>57.34</td>\n",
       "      <td>6</td>\n",
       "    </tr>\n",
       "    <tr>\n",
       "      <th>3</th>\n",
       "      <td>1043</td>\n",
       "      <td>9</td>\n",
       "      <td>0</td>\n",
       "      <td>57</td>\n",
       "      <td>878</td>\n",
       "      <td>2.6</td>\n",
       "      <td>52.46</td>\n",
       "      <td>8</td>\n",
       "    </tr>\n",
       "    <tr>\n",
       "      <th>4</th>\n",
       "      <td>1043</td>\n",
       "      <td>9</td>\n",
       "      <td>30</td>\n",
       "      <td>61</td>\n",
       "      <td>917</td>\n",
       "      <td>2.2</td>\n",
       "      <td>45.74</td>\n",
       "      <td>10</td>\n",
       "    </tr>\n",
       "    <tr>\n",
       "      <th>...</th>\n",
       "      <td>...</td>\n",
       "      <td>...</td>\n",
       "      <td>...</td>\n",
       "      <td>...</td>\n",
       "      <td>...</td>\n",
       "      <td>...</td>\n",
       "      <td>...</td>\n",
       "      <td>...</td>\n",
       "    </tr>\n",
       "    <tr>\n",
       "      <th>2476</th>\n",
       "      <td>1094</td>\n",
       "      <td>21</td>\n",
       "      <td>30</td>\n",
       "      <td>0</td>\n",
       "      <td>0</td>\n",
       "      <td>2.4</td>\n",
       "      <td>70.70</td>\n",
       "      <td>-4</td>\n",
       "    </tr>\n",
       "    <tr>\n",
       "      <th>2477</th>\n",
       "      <td>1094</td>\n",
       "      <td>22</td>\n",
       "      <td>0</td>\n",
       "      <td>0</td>\n",
       "      <td>0</td>\n",
       "      <td>2.4</td>\n",
       "      <td>66.79</td>\n",
       "      <td>-4</td>\n",
       "    </tr>\n",
       "    <tr>\n",
       "      <th>2478</th>\n",
       "      <td>1094</td>\n",
       "      <td>22</td>\n",
       "      <td>30</td>\n",
       "      <td>0</td>\n",
       "      <td>0</td>\n",
       "      <td>2.2</td>\n",
       "      <td>66.78</td>\n",
       "      <td>-4</td>\n",
       "    </tr>\n",
       "    <tr>\n",
       "      <th>2479</th>\n",
       "      <td>1094</td>\n",
       "      <td>23</td>\n",
       "      <td>0</td>\n",
       "      <td>0</td>\n",
       "      <td>0</td>\n",
       "      <td>2.1</td>\n",
       "      <td>67.72</td>\n",
       "      <td>-4</td>\n",
       "    </tr>\n",
       "    <tr>\n",
       "      <th>2480</th>\n",
       "      <td>1094</td>\n",
       "      <td>23</td>\n",
       "      <td>30</td>\n",
       "      <td>0</td>\n",
       "      <td>0</td>\n",
       "      <td>2.1</td>\n",
       "      <td>67.70</td>\n",
       "      <td>-4</td>\n",
       "    </tr>\n",
       "  </tbody>\n",
       "</table>\n",
       "<p>2481 rows × 8 columns</p>\n",
       "</div>"
      ],
      "text/plain": [
       "       Day  Hour  Minute  DHI  DNI   WS     RH   T\n",
       "0     1043     7      30   34  584  2.0  63.02   3\n",
       "1     1043     8       0   45  730  2.3  61.54   5\n",
       "2     1043     8      30   52  817  2.4  57.34   6\n",
       "3     1043     9       0   57  878  2.6  52.46   8\n",
       "4     1043     9      30   61  917  2.2  45.74  10\n",
       "...    ...   ...     ...  ...  ...  ...    ...  ..\n",
       "2476  1094    21      30    0    0  2.4  70.70  -4\n",
       "2477  1094    22       0    0    0  2.4  66.79  -4\n",
       "2478  1094    22      30    0    0  2.2  66.78  -4\n",
       "2479  1094    23       0    0    0  2.1  67.72  -4\n",
       "2480  1094    23      30    0    0  2.1  67.70  -4\n",
       "\n",
       "[2481 rows x 8 columns]"
      ]
     },
     "execution_count": 7,
     "metadata": {},
     "output_type": "execute_result"
    }
   ],
   "source": [
    "x_test"
   ]
  },
  {
   "cell_type": "code",
   "execution_count": 8,
   "id": "09566f01",
   "metadata": {
    "execution": {
     "iopub.execute_input": "2022-10-09T16:37:19.178965Z",
     "iopub.status.busy": "2022-10-09T16:37:19.178682Z",
     "iopub.status.idle": "2022-10-09T16:37:19.952569Z",
     "shell.execute_reply": "2022-10-09T16:37:19.951603Z"
    },
    "papermill": {
     "duration": 0.781817,
     "end_time": "2022-10-09T16:37:19.955262",
     "exception": false,
     "start_time": "2022-10-09T16:37:19.173445",
     "status": "completed"
    },
    "tags": []
   },
   "outputs": [],
   "source": [
    "from sklearn.preprocessing import StandardScaler\n",
    "\n",
    "scaler = StandardScaler()\n",
    "scaler.fit(x_train)\n",
    "x_train = scaler.transform(x_train)\n",
    "x_test = scaler.transform(x_test)"
   ]
  },
  {
   "cell_type": "code",
   "execution_count": 9,
   "id": "9949522d",
   "metadata": {
    "execution": {
     "iopub.execute_input": "2022-10-09T16:37:19.964738Z",
     "iopub.status.busy": "2022-10-09T16:37:19.964452Z",
     "iopub.status.idle": "2022-10-09T16:37:22.938322Z",
     "shell.execute_reply": "2022-10-09T16:37:22.937375Z"
    },
    "papermill": {
     "duration": 2.981045,
     "end_time": "2022-10-09T16:37:22.940624",
     "exception": false,
     "start_time": "2022-10-09T16:37:19.959579",
     "status": "completed"
    },
    "tags": []
   },
   "outputs": [],
   "source": [
    "x_train = torch.FloatTensor(x_train).cuda()\n",
    "y_train = torch.FloatTensor(y_train).cuda()\n",
    "x_test = torch.FloatTensor(x_test).cuda()"
   ]
  },
  {
   "cell_type": "code",
   "execution_count": 10,
   "id": "93b63dae",
   "metadata": {
    "execution": {
     "iopub.execute_input": "2022-10-09T16:37:22.950700Z",
     "iopub.status.busy": "2022-10-09T16:37:22.949866Z",
     "iopub.status.idle": "2022-10-09T16:37:22.960489Z",
     "shell.execute_reply": "2022-10-09T16:37:22.959667Z"
    },
    "papermill": {
     "duration": 0.017491,
     "end_time": "2022-10-09T16:37:22.962469",
     "exception": false,
     "start_time": "2022-10-09T16:37:22.944978",
     "status": "completed"
    },
    "tags": []
   },
   "outputs": [],
   "source": [
    "layer1 = torch.nn.Linear(8, 64, bias = True)\n",
    "layer2 = torch.nn.Linear(64, 64, bias = True)\n",
    "layer3 = torch.nn.Linear(64, 64, bias = True)\n",
    "layer4 = torch.nn.Linear(64, 1, bias = True)\n",
    "sigmoid = torch.nn.Sigmoid()\n",
    "model = torch.nn.Sequential(layer1, sigmoid, layer2, sigmoid, layer3, sigmoid, layer4).cuda()"
   ]
  },
  {
   "cell_type": "code",
   "execution_count": 11,
   "id": "9379cda5",
   "metadata": {
    "execution": {
     "iopub.execute_input": "2022-10-09T16:37:22.971934Z",
     "iopub.status.busy": "2022-10-09T16:37:22.971150Z",
     "iopub.status.idle": "2022-10-09T16:37:22.976016Z",
     "shell.execute_reply": "2022-10-09T16:37:22.975010Z"
    },
    "papermill": {
     "duration": 0.01166,
     "end_time": "2022-10-09T16:37:22.978109",
     "exception": false,
     "start_time": "2022-10-09T16:37:22.966449",
     "status": "completed"
    },
    "tags": []
   },
   "outputs": [],
   "source": [
    "loss = torch.nn.MSELoss().cuda()\n",
    "optimizer = torch.optim.Adam(model.parameters(), lr = 0.001)"
   ]
  },
  {
   "cell_type": "code",
   "execution_count": 12,
   "id": "f285a3cb",
   "metadata": {
    "execution": {
     "iopub.execute_input": "2022-10-09T16:37:22.987062Z",
     "iopub.status.busy": "2022-10-09T16:37:22.986797Z",
     "iopub.status.idle": "2022-10-09T16:37:22.992177Z",
     "shell.execute_reply": "2022-10-09T16:37:22.991233Z"
    },
    "papermill": {
     "duration": 0.012103,
     "end_time": "2022-10-09T16:37:22.994174",
     "exception": false,
     "start_time": "2022-10-09T16:37:22.982071",
     "status": "completed"
    },
    "tags": []
   },
   "outputs": [],
   "source": [
    "y_train = y_train.reshape([9999,1])"
   ]
  },
  {
   "cell_type": "code",
   "execution_count": 13,
   "id": "08c628a7",
   "metadata": {
    "execution": {
     "iopub.execute_input": "2022-10-09T16:37:23.003604Z",
     "iopub.status.busy": "2022-10-09T16:37:23.002879Z",
     "iopub.status.idle": "2022-10-09T16:37:25.500495Z",
     "shell.execute_reply": "2022-10-09T16:37:25.498430Z"
    },
    "papermill": {
     "duration": 2.505125,
     "end_time": "2022-10-09T16:37:25.503273",
     "exception": false,
     "start_time": "2022-10-09T16:37:22.998148",
     "status": "completed"
    },
    "tags": []
   },
   "outputs": [
    {
     "name": "stdout",
     "output_type": "stream",
     "text": [
      "0 1032.979248046875\n",
      "100 844.031494140625\n",
      "200 754.2284545898438\n",
      "300 710.4535522460938\n",
      "400 689.4500732421875\n",
      "500 542.1607055664062\n",
      "600 408.0322570800781\n",
      "700 318.5309143066406\n",
      "800 255.77232360839844\n",
      "900 209.43031311035156\n",
      "1000 172.200439453125\n"
     ]
    }
   ],
   "source": [
    "for stop in range(1001):\n",
    "    optimizer.zero_grad()\n",
    "    hypothesis = model(x_train)\n",
    "    cost = loss(hypothesis, y_train)\n",
    "    cost.backward()\n",
    "    optimizer.step()\n",
    "    if stop % 100 == 0:\n",
    "        print(stop, cost.item())"
   ]
  },
  {
   "cell_type": "code",
   "execution_count": 14,
   "id": "886c9ffa",
   "metadata": {
    "execution": {
     "iopub.execute_input": "2022-10-09T16:37:25.514268Z",
     "iopub.status.busy": "2022-10-09T16:37:25.513328Z",
     "iopub.status.idle": "2022-10-09T16:37:25.544434Z",
     "shell.execute_reply": "2022-10-09T16:37:25.543346Z"
    },
    "papermill": {
     "duration": 0.038619,
     "end_time": "2022-10-09T16:37:25.546693",
     "exception": false,
     "start_time": "2022-10-09T16:37:25.508074",
     "status": "completed"
    },
    "tags": []
   },
   "outputs": [
    {
     "data": {
      "text/plain": [
       "tensor([[ 4.1024],\n",
       "        [ 4.0539],\n",
       "        [ 4.1221],\n",
       "        [ 4.0557],\n",
       "        [ 4.1289],\n",
       "        [ 4.0610],\n",
       "        [ 4.0949],\n",
       "        [ 4.0899],\n",
       "        [11.5988],\n",
       "        [17.2653],\n",
       "        [21.5407],\n",
       "        [24.8398],\n",
       "        [27.2742],\n",
       "        [29.4299],\n",
       "        [30.5241],\n",
       "        [29.8702],\n",
       "        [28.0523],\n",
       "        [14.1280],\n",
       "        [22.6239],\n",
       "        [28.3245]], device='cuda:0', grad_fn=<SliceBackward0>)"
      ]
     },
     "execution_count": 14,
     "metadata": {},
     "output_type": "execute_result"
    }
   ],
   "source": [
    "predict = model(x_test)\n",
    "predict[1000:1020]"
   ]
  },
  {
   "cell_type": "code",
   "execution_count": 15,
   "id": "8aa13fda",
   "metadata": {
    "execution": {
     "iopub.execute_input": "2022-10-09T16:37:25.557501Z",
     "iopub.status.busy": "2022-10-09T16:37:25.557189Z",
     "iopub.status.idle": "2022-10-09T16:37:25.571100Z",
     "shell.execute_reply": "2022-10-09T16:37:25.570263Z"
    },
    "papermill": {
     "duration": 0.021104,
     "end_time": "2022-10-09T16:37:25.573110",
     "exception": false,
     "start_time": "2022-10-09T16:37:25.552006",
     "status": "completed"
    },
    "tags": []
   },
   "outputs": [],
   "source": [
    "submit['TARGET'] = predict.cpu().detach().numpy()\n",
    "submission=submit.astype(np.str_)\n",
    "submission.to_csv('submission.csv',mode='w',header=True,index=False)"
   ]
  },
  {
   "cell_type": "code",
   "execution_count": null,
   "id": "f5b5136d",
   "metadata": {
    "papermill": {
     "duration": 0.004049,
     "end_time": "2022-10-09T16:37:25.581474",
     "exception": false,
     "start_time": "2022-10-09T16:37:25.577425",
     "status": "completed"
    },
    "tags": []
   },
   "outputs": [],
   "source": []
  }
 ],
 "metadata": {
  "kernelspec": {
   "display_name": "Python 3",
   "language": "python",
   "name": "python3"
  },
  "language_info": {
   "codemirror_mode": {
    "name": "ipython",
    "version": 3
   },
   "file_extension": ".py",
   "mimetype": "text/x-python",
   "name": "python",
   "nbconvert_exporter": "python",
   "pygments_lexer": "ipython3",
   "version": "3.7.12"
  },
  "papermill": {
   "default_parameters": {},
   "duration": 18.038377,
   "end_time": "2022-10-09T16:37:26.713043",
   "environment_variables": {},
   "exception": null,
   "input_path": "__notebook__.ipynb",
   "output_path": "__notebook__.ipynb",
   "parameters": {},
   "start_time": "2022-10-09T16:37:08.674666",
   "version": "2.3.4"
  }
 },
 "nbformat": 4,
 "nbformat_minor": 5
}
