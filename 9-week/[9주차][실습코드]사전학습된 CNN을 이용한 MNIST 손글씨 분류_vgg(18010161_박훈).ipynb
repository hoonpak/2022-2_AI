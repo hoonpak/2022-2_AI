{
 "cells": [
  {
   "cell_type": "code",
   "execution_count": 1,
   "id": "e8272049",
   "metadata": {
    "_cell_guid": "b1076dfc-b9ad-4769-8c92-a6c4dae69d19",
    "_uuid": "8f2839f25d086af736a60e9eeb907d3b93b6e0e5",
    "execution": {
     "iopub.execute_input": "2022-11-04T16:02:53.012380Z",
     "iopub.status.busy": "2022-11-04T16:02:53.011839Z",
     "iopub.status.idle": "2022-11-04T16:02:53.033930Z",
     "shell.execute_reply": "2022-11-04T16:02:53.032374Z"
    },
    "papermill": {
     "duration": 0.035772,
     "end_time": "2022-11-04T16:02:53.038094",
     "exception": false,
     "start_time": "2022-11-04T16:02:53.002322",
     "status": "completed"
    },
    "tags": []
   },
   "outputs": [
    {
     "name": "stdout",
     "output_type": "stream",
     "text": [
      "/kaggle/input/2022-ai-w10p1/train.csv\n",
      "/kaggle/input/2022-ai-w10p1/test.csv\n",
      "/kaggle/input/2022-ai-w10p1/sample_submit.csv\n"
     ]
    }
   ],
   "source": [
    "# This Python 3 environment comes with many helpful analytics libraries installed\n",
    "# It is defined by the kaggle/python Docker image: https://github.com/kaggle/docker-python\n",
    "# For example, here's several helpful packages to load\n",
    "\n",
    "import numpy as np # linear algebra\n",
    "import pandas as pd # data processing, CSV file I/O (e.g. pd.read_csv)\n",
    "\n",
    "# Input data files are available in the read-only \"../input/\" directory\n",
    "# For example, running this (by clicking run or pressing Shift+Enter) will list all files under the input directory\n",
    "\n",
    "import os\n",
    "for dirname, _, filenames in os.walk('/kaggle/input'):\n",
    "    for filename in filenames:\n",
    "        print(os.path.join(dirname, filename))\n",
    "\n",
    "# You can write up to 20GB to the current directory (/kaggle/working/) that gets preserved as output when you create a version using \"Save & Run All\" \n",
    "# You can also write temporary files to /kaggle/temp/, but they won't be saved outside of the current session"
   ]
  },
  {
   "cell_type": "code",
   "execution_count": 2,
   "id": "6765c5aa",
   "metadata": {
    "execution": {
     "iopub.execute_input": "2022-11-04T16:02:53.052177Z",
     "iopub.status.busy": "2022-11-04T16:02:53.050798Z",
     "iopub.status.idle": "2022-11-04T16:02:54.846629Z",
     "shell.execute_reply": "2022-11-04T16:02:54.845333Z"
    },
    "papermill": {
     "duration": 1.803863,
     "end_time": "2022-11-04T16:02:54.849627",
     "exception": false,
     "start_time": "2022-11-04T16:02:53.045764",
     "status": "completed"
    },
    "tags": []
   },
   "outputs": [],
   "source": [
    "import random\n",
    "import torch\n",
    "\n",
    "seed = 42\n",
    "random.seed(seed)\n",
    "np.random.seed(seed)\n",
    "torch.manual_seed(seed)\n",
    "if torch.cuda.is_available():\n",
    "    torch.cuda.manual_seed(seed)\n",
    "    torch.cuda.manual_seed_all(seed)\n",
    "torch.backends.cudnn.benchmark = False\n",
    "torch.backends.cudnn.deterministic = True "
   ]
  },
  {
   "cell_type": "code",
   "execution_count": 3,
   "id": "f98f9312",
   "metadata": {
    "execution": {
     "iopub.execute_input": "2022-11-04T16:02:54.864029Z",
     "iopub.status.busy": "2022-11-04T16:02:54.863357Z",
     "iopub.status.idle": "2022-11-04T16:02:54.871693Z",
     "shell.execute_reply": "2022-11-04T16:02:54.870887Z"
    },
    "papermill": {
     "duration": 0.017724,
     "end_time": "2022-11-04T16:02:54.874009",
     "exception": false,
     "start_time": "2022-11-04T16:02:54.856285",
     "status": "completed"
    },
    "tags": []
   },
   "outputs": [],
   "source": [
    "device = 'cuda' if torch.cuda.is_available() else 'cpu'\n",
    "\n",
    "# for reproducibility\n",
    "torch.manual_seed(777)\n",
    "if device == 'cuda':\n",
    "    torch.cuda.manual_seed_all(777)"
   ]
  },
  {
   "cell_type": "code",
   "execution_count": 4,
   "id": "4ec6e35e",
   "metadata": {
    "execution": {
     "iopub.execute_input": "2022-11-04T16:02:54.887643Z",
     "iopub.status.busy": "2022-11-04T16:02:54.887339Z",
     "iopub.status.idle": "2022-11-04T16:02:59.984113Z",
     "shell.execute_reply": "2022-11-04T16:02:59.983183Z"
    },
    "papermill": {
     "duration": 5.106306,
     "end_time": "2022-11-04T16:02:59.986808",
     "exception": false,
     "start_time": "2022-11-04T16:02:54.880502",
     "status": "completed"
    },
    "tags": []
   },
   "outputs": [],
   "source": [
    "train=pd.read_csv(\"/kaggle/input/2022-ai-w10p1/train.csv\")\n",
    "test=pd.read_csv(\"/kaggle/input/2022-ai-w10p1/test.csv\")\n",
    "submit=pd.read_csv(\"/kaggle/input/2022-ai-w10p1/sample_submit.csv\")"
   ]
  },
  {
   "cell_type": "code",
   "execution_count": 5,
   "id": "e1dbc170",
   "metadata": {
    "execution": {
     "iopub.execute_input": "2022-11-04T16:02:59.996740Z",
     "iopub.status.busy": "2022-11-04T16:02:59.996458Z",
     "iopub.status.idle": "2022-11-04T16:03:00.115577Z",
     "shell.execute_reply": "2022-11-04T16:03:00.114625Z"
    },
    "papermill": {
     "duration": 0.126386,
     "end_time": "2022-11-04T16:03:00.117716",
     "exception": false,
     "start_time": "2022-11-04T16:02:59.991330",
     "status": "completed"
    },
    "tags": []
   },
   "outputs": [],
   "source": [
    "x_train=train.drop(['Category'],axis=1)\n",
    "y_train=train['Category']"
   ]
  },
  {
   "cell_type": "code",
   "execution_count": 6,
   "id": "fa033890",
   "metadata": {
    "execution": {
     "iopub.execute_input": "2022-11-04T16:03:00.127662Z",
     "iopub.status.busy": "2022-11-04T16:03:00.127366Z",
     "iopub.status.idle": "2022-11-04T16:03:00.287682Z",
     "shell.execute_reply": "2022-11-04T16:03:00.286722Z"
    },
    "papermill": {
     "duration": 0.167956,
     "end_time": "2022-11-04T16:03:00.290123",
     "exception": false,
     "start_time": "2022-11-04T16:03:00.122167",
     "status": "completed"
    },
    "tags": []
   },
   "outputs": [],
   "source": [
    "x_train=np.array(x_train)\n",
    "y_train=np.array(y_train)\n",
    "x_test=np.array(test)"
   ]
  },
  {
   "cell_type": "code",
   "execution_count": 7,
   "id": "fb622b90",
   "metadata": {
    "execution": {
     "iopub.execute_input": "2022-11-04T16:03:00.300592Z",
     "iopub.status.busy": "2022-11-04T16:03:00.300299Z",
     "iopub.status.idle": "2022-11-04T16:03:00.305484Z",
     "shell.execute_reply": "2022-11-04T16:03:00.304622Z"
    },
    "papermill": {
     "duration": 0.013011,
     "end_time": "2022-11-04T16:03:00.307630",
     "exception": false,
     "start_time": "2022-11-04T16:03:00.294619",
     "status": "completed"
    },
    "tags": []
   },
   "outputs": [],
   "source": [
    "learning_rate = 0.001\n",
    "training_epochs = 3\n",
    "batch_size = 100"
   ]
  },
  {
   "cell_type": "code",
   "execution_count": 8,
   "id": "62b86a7f",
   "metadata": {
    "execution": {
     "iopub.execute_input": "2022-11-04T16:03:00.317558Z",
     "iopub.status.busy": "2022-11-04T16:03:00.317291Z",
     "iopub.status.idle": "2022-11-04T16:03:01.981866Z",
     "shell.execute_reply": "2022-11-04T16:03:01.980839Z"
    },
    "papermill": {
     "duration": 1.672237,
     "end_time": "2022-11-04T16:03:01.984354",
     "exception": false,
     "start_time": "2022-11-04T16:03:00.312117",
     "status": "completed"
    },
    "tags": []
   },
   "outputs": [],
   "source": [
    "import cv2\n",
    "import torch\n",
    "import torchvision\n",
    "import torchvision.transforms as transforms\n",
    "\n",
    "class Custom_Loader(torch.utils.data.Dataset):\n",
    "    def __init__(self, data, label=None, split='train', transform=None):\n",
    "        self.label = label\n",
    "        self.split = split\n",
    "        self.transform = transform\n",
    "        \n",
    "        # csv 파일로부터 얻어진 데이터를 28, 28, 1로 shape 변환\n",
    "        data_1ch = np.reshape(data, (-1, 28, 28, 1)) # (60000, 28, 28, 1) \n",
    "        # 1ch 의 MNIST이미지를 3ch 로 변환 \n",
    "        data_3ch = data_1ch.repeat(3, axis=-1) # (60000, 28, 28, 3) \n",
    "        # data 인스턴스에 변환한 데이터 저장\n",
    "        self.data = data_3ch.astype(np.uint64)\n",
    "    \n",
    "    def __len__(self):\n",
    "        return len(self.data)\n",
    "    \n",
    "    def __getitem__(self, idx):\n",
    "        # idx번째 데이터를 data에 저장\n",
    "        data = self.data[idx]  # shape (28, 28, 3)\n",
    "        \n",
    "        # 28x28 이미지를 224x224로 resize\n",
    "        data = cv2.resize(data.astype('float32'), dsize=(224, 224), interpolation=cv2.INTER_LINEAR) # shape (224, 224, 3)\n",
    "        \n",
    "        # Tensor 변환 및 Normalization \n",
    "        data = self.transform(data)\n",
    "        \n",
    "        # train loader 일 경우 data, label 반환\n",
    "        if self.split == 'train':\n",
    "            return data, torch.from_numpy(self.label[idx])\n",
    "        else:\n",
    "        # test 일 경우, data만 반환 \n",
    "            return data\n",
    "        \n",
    "\n",
    "transform = transforms.Compose(\n",
    "    [transforms.ToTensor(),\n",
    "     transforms.Normalize((0.485, 0.456, 0.406), (0.229, 0.224, 0.225))])\n",
    "\n",
    "train_dataset = Custom_Loader(x_train, y_train.reshape(-1, 1), split='train', transform=transform)\n",
    "test_dataset = Custom_Loader(x_test, split='test', transform=transform)\n",
    "\n",
    "train_loader = torch.utils.data.DataLoader(train_dataset, batch_size=batch_size, shuffle=True)\n",
    "test_loader = torch.utils.data.DataLoader(test_dataset, batch_size=batch_size, shuffle=False)"
   ]
  },
  {
   "cell_type": "code",
   "execution_count": 9,
   "id": "7d785719",
   "metadata": {
    "execution": {
     "iopub.execute_input": "2022-11-04T16:03:01.996044Z",
     "iopub.status.busy": "2022-11-04T16:03:01.994350Z",
     "iopub.status.idle": "2022-11-04T16:03:01.999595Z",
     "shell.execute_reply": "2022-11-04T16:03:01.998661Z"
    },
    "papermill": {
     "duration": 0.012662,
     "end_time": "2022-11-04T16:03:02.001607",
     "exception": false,
     "start_time": "2022-11-04T16:03:01.988945",
     "status": "completed"
    },
    "tags": []
   },
   "outputs": [],
   "source": [
    "#y_train.reshape(-1, 1).shape"
   ]
  },
  {
   "cell_type": "code",
   "execution_count": 10,
   "id": "c78491f4",
   "metadata": {
    "execution": {
     "iopub.execute_input": "2022-11-04T16:03:02.011562Z",
     "iopub.status.busy": "2022-11-04T16:03:02.011223Z",
     "iopub.status.idle": "2022-11-04T16:03:02.015569Z",
     "shell.execute_reply": "2022-11-04T16:03:02.014545Z"
    },
    "papermill": {
     "duration": 0.011776,
     "end_time": "2022-11-04T16:03:02.017596",
     "exception": false,
     "start_time": "2022-11-04T16:03:02.005820",
     "status": "completed"
    },
    "tags": []
   },
   "outputs": [],
   "source": [
    "method=\"vgg\""
   ]
  },
  {
   "cell_type": "code",
   "execution_count": 11,
   "id": "06744789",
   "metadata": {
    "execution": {
     "iopub.execute_input": "2022-11-04T16:03:02.026957Z",
     "iopub.status.busy": "2022-11-04T16:03:02.026701Z",
     "iopub.status.idle": "2022-11-04T16:03:28.680149Z",
     "shell.execute_reply": "2022-11-04T16:03:28.678838Z"
    },
    "papermill": {
     "duration": 26.661111,
     "end_time": "2022-11-04T16:03:28.682903",
     "exception": false,
     "start_time": "2022-11-04T16:03:02.021792",
     "status": "completed"
    },
    "tags": []
   },
   "outputs": [
    {
     "name": "stderr",
     "output_type": "stream",
     "text": [
      "Downloading: \"https://download.pytorch.org/models/vgg16-397923af.pth\" to /root/.cache/torch/hub/checkpoints/vgg16-397923af.pth\n"
     ]
    },
    {
     "data": {
      "application/vnd.jupyter.widget-view+json": {
       "model_id": "00d311e634fa4c9fbf5038a31047f16f",
       "version_major": 2,
       "version_minor": 0
      },
      "text/plain": [
       "  0%|          | 0.00/528M [00:00<?, ?B/s]"
      ]
     },
     "metadata": {},
     "output_type": "display_data"
    }
   ],
   "source": [
    "import torchvision.models as models\n",
    "\n",
    "if method == \"resnet\":\n",
    "    model = models.resnet18(pretrained=True)\n",
    "    model.fc = torch.nn.Linear(in_features=512, out_features=10, bias=True)\n",
    "elif method == \"vgg\":\n",
    "    model = models.vgg16(pretrained=True)\n",
    "    model.classifier[6] = torch.nn.Linear(in_features=4096, out_features=10, bias=True)\n",
    "elif method == \"alexnet\":\n",
    "    model = models.alexnet(pretrained=True)\n",
    "    model.classifier[6] = torch.nn.Linear(in_features=4096, out_features=10, bias=True)\n",
    "else:\n",
    "    raise ValueError(\"Check Method!\")"
   ]
  },
  {
   "cell_type": "code",
   "execution_count": 12,
   "id": "57b30fa5",
   "metadata": {
    "execution": {
     "iopub.execute_input": "2022-11-04T16:03:28.700955Z",
     "iopub.status.busy": "2022-11-04T16:03:28.700649Z",
     "iopub.status.idle": "2022-11-04T16:03:28.706787Z",
     "shell.execute_reply": "2022-11-04T16:03:28.705623Z"
    },
    "papermill": {
     "duration": 0.017002,
     "end_time": "2022-11-04T16:03:28.709528",
     "exception": false,
     "start_time": "2022-11-04T16:03:28.692526",
     "status": "completed"
    },
    "tags": []
   },
   "outputs": [],
   "source": [
    "criterion = torch.nn.CrossEntropyLoss().to(device)    # Softmax is internally computed.\n",
    "optimizer = torch.optim.Adam(model.parameters(), lr=learning_rate)"
   ]
  },
  {
   "cell_type": "code",
   "execution_count": 13,
   "id": "e65473f9",
   "metadata": {
    "execution": {
     "iopub.execute_input": "2022-11-04T16:03:28.724039Z",
     "iopub.status.busy": "2022-11-04T16:03:28.723722Z",
     "iopub.status.idle": "2022-11-04T16:03:31.615580Z",
     "shell.execute_reply": "2022-11-04T16:03:31.614397Z"
    },
    "papermill": {
     "duration": 2.901939,
     "end_time": "2022-11-04T16:03:31.618171",
     "exception": false,
     "start_time": "2022-11-04T16:03:28.716232",
     "status": "completed"
    },
    "tags": []
   },
   "outputs": [],
   "source": [
    "model=model.to(device)"
   ]
  },
  {
   "cell_type": "code",
   "execution_count": 14,
   "id": "77db0d45",
   "metadata": {
    "execution": {
     "iopub.execute_input": "2022-11-04T16:03:31.630068Z",
     "iopub.status.busy": "2022-11-04T16:03:31.629225Z",
     "iopub.status.idle": "2022-11-04T16:44:31.863040Z",
     "shell.execute_reply": "2022-11-04T16:44:31.861343Z"
    },
    "papermill": {
     "duration": 2460.246946,
     "end_time": "2022-11-04T16:44:31.870776",
     "exception": false,
     "start_time": "2022-11-04T16:03:31.623830",
     "status": "completed"
    },
    "tags": []
   },
   "outputs": [
    {
     "name": "stdout",
     "output_type": "stream",
     "text": [
      "Learning started. It takes sometime.\n",
      "[Epoch:    1] cost = 0.549508274\n",
      "[Epoch:    2] cost = 0.0890491605\n",
      "[Epoch:    3] cost = 0.073898688\n",
      "Learning Finished!\n"
     ]
    }
   ],
   "source": [
    "total_batch = len(train_loader)\n",
    "print('Learning started. It takes sometime.')\n",
    "for epoch in range(training_epochs):\n",
    "    avg_cost = 0\n",
    "\n",
    "    for X, Y in train_loader:\n",
    "        # image is already size of (28x28), no reshape\n",
    "        # label is not one-hot encoded\n",
    "        X = X.to(device)\n",
    "        Y = Y.to(device)\n",
    "\n",
    "        optimizer.zero_grad()\n",
    "        hypothesis = model(X)\n",
    "        #import pdb;pdb.set_trace()\n",
    "        cost = criterion(hypothesis, Y.squeeze())\n",
    "        cost.backward()\n",
    "        optimizer.step()\n",
    "\n",
    "        avg_cost += cost / total_batch\n",
    "\n",
    "    print('[Epoch: {:>4}] cost = {:>.9}'.format(epoch + 1, avg_cost))\n",
    "\n",
    "print('Learning Finished!')"
   ]
  },
  {
   "cell_type": "code",
   "execution_count": 15,
   "id": "e71f117d",
   "metadata": {
    "execution": {
     "iopub.execute_input": "2022-11-04T16:44:31.886627Z",
     "iopub.status.busy": "2022-11-04T16:44:31.886272Z",
     "iopub.status.idle": "2022-11-04T16:45:25.698752Z",
     "shell.execute_reply": "2022-11-04T16:45:25.697748Z"
    },
    "papermill": {
     "duration": 53.82299,
     "end_time": "2022-11-04T16:45:25.701143",
     "exception": false,
     "start_time": "2022-11-04T16:44:31.878153",
     "status": "completed"
    },
    "tags": []
   },
   "outputs": [],
   "source": [
    "pre_li=[]\n",
    "with torch.no_grad():\n",
    "    for X in test_loader:\n",
    "        X_test = X.cuda()\n",
    "        #import pdb;pdb.set_trace()\n",
    "        prediction = torch.argmax(model(X_test),1).tolist()\n",
    "        pre_li.append(prediction)"
   ]
  },
  {
   "cell_type": "code",
   "execution_count": 16,
   "id": "2d3faa5f",
   "metadata": {
    "execution": {
     "iopub.execute_input": "2022-11-04T16:45:25.712339Z",
     "iopub.status.busy": "2022-11-04T16:45:25.712043Z",
     "iopub.status.idle": "2022-11-04T16:45:25.717653Z",
     "shell.execute_reply": "2022-11-04T16:45:25.716730Z"
    },
    "papermill": {
     "duration": 0.013798,
     "end_time": "2022-11-04T16:45:25.719746",
     "exception": false,
     "start_time": "2022-11-04T16:45:25.705948",
     "status": "completed"
    },
    "tags": []
   },
   "outputs": [],
   "source": [
    "prediction=np.array(pre_li).reshape(-1,1)"
   ]
  },
  {
   "cell_type": "code",
   "execution_count": 17,
   "id": "6a293541",
   "metadata": {
    "execution": {
     "iopub.execute_input": "2022-11-04T16:45:25.729698Z",
     "iopub.status.busy": "2022-11-04T16:45:25.729431Z",
     "iopub.status.idle": "2022-11-04T16:45:25.736577Z",
     "shell.execute_reply": "2022-11-04T16:45:25.735684Z"
    },
    "papermill": {
     "duration": 0.014292,
     "end_time": "2022-11-04T16:45:25.738492",
     "exception": false,
     "start_time": "2022-11-04T16:45:25.724200",
     "status": "completed"
    },
    "tags": []
   },
   "outputs": [
    {
     "data": {
      "text/plain": [
       "Index(['Id', 'Category'], dtype='object')"
      ]
     },
     "execution_count": 17,
     "metadata": {},
     "output_type": "execute_result"
    }
   ],
   "source": [
    "submit.columns"
   ]
  },
  {
   "cell_type": "code",
   "execution_count": 18,
   "id": "9b45586f",
   "metadata": {
    "execution": {
     "iopub.execute_input": "2022-11-04T16:45:25.750073Z",
     "iopub.status.busy": "2022-11-04T16:45:25.748499Z",
     "iopub.status.idle": "2022-11-04T16:45:25.764926Z",
     "shell.execute_reply": "2022-11-04T16:45:25.764133Z"
    },
    "papermill": {
     "duration": 0.023886,
     "end_time": "2022-11-04T16:45:25.766951",
     "exception": false,
     "start_time": "2022-11-04T16:45:25.743065",
     "status": "completed"
    },
    "tags": []
   },
   "outputs": [],
   "source": [
    "submit['Category']=prediction\n",
    "submission=submit.astype(np.int64)\n",
    "submission.to_csv(\"submission.csv\",mode='w',header=True,index=False)"
   ]
  },
  {
   "cell_type": "code",
   "execution_count": null,
   "id": "bda77e54",
   "metadata": {
    "papermill": {
     "duration": 0.004954,
     "end_time": "2022-11-04T16:45:25.776491",
     "exception": false,
     "start_time": "2022-11-04T16:45:25.771537",
     "status": "completed"
    },
    "tags": []
   },
   "outputs": [],
   "source": []
  }
 ],
 "metadata": {
  "kernelspec": {
   "display_name": "Python 3",
   "language": "python",
   "name": "python3"
  },
  "language_info": {
   "codemirror_mode": {
    "name": "ipython",
    "version": 3
   },
   "file_extension": ".py",
   "mimetype": "text/x-python",
   "name": "python",
   "nbconvert_exporter": "python",
   "pygments_lexer": "ipython3",
   "version": "3.7.12"
  },
  "papermill": {
   "default_parameters": {},
   "duration": 2562.227769,
   "end_time": "2022-11-04T16:45:27.308650",
   "environment_variables": {},
   "exception": null,
   "input_path": "__notebook__.ipynb",
   "output_path": "__notebook__.ipynb",
   "parameters": {},
   "start_time": "2022-11-04T16:02:45.080881",
   "version": "2.3.4"
  },
  "widgets": {
   "application/vnd.jupyter.widget-state+json": {
    "state": {
     "00d311e634fa4c9fbf5038a31047f16f": {
      "model_module": "@jupyter-widgets/controls",
      "model_module_version": "1.5.0",
      "model_name": "HBoxModel",
      "state": {
       "_dom_classes": [],
       "_model_module": "@jupyter-widgets/controls",
       "_model_module_version": "1.5.0",
       "_model_name": "HBoxModel",
       "_view_count": null,
       "_view_module": "@jupyter-widgets/controls",
       "_view_module_version": "1.5.0",
       "_view_name": "HBoxView",
       "box_style": "",
       "children": [
        "IPY_MODEL_58a622ac6b2f4c6e8052e9ecb4595d59",
        "IPY_MODEL_9977c4c580cd4cf69876ae18e5ffdcff",
        "IPY_MODEL_1b06993dd24443bdb9fe02c464647a8a"
       ],
       "layout": "IPY_MODEL_c52d21de980c41ccbd984fbff70bdd1f"
      }
     },
     "0443bc50920f457ba7d4107ee8538b27": {
      "model_module": "@jupyter-widgets/base",
      "model_module_version": "1.2.0",
      "model_name": "LayoutModel",
      "state": {
       "_model_module": "@jupyter-widgets/base",
       "_model_module_version": "1.2.0",
       "_model_name": "LayoutModel",
       "_view_count": null,
       "_view_module": "@jupyter-widgets/base",
       "_view_module_version": "1.2.0",
       "_view_name": "LayoutView",
       "align_content": null,
       "align_items": null,
       "align_self": null,
       "border": null,
       "bottom": null,
       "display": null,
       "flex": null,
       "flex_flow": null,
       "grid_area": null,
       "grid_auto_columns": null,
       "grid_auto_flow": null,
       "grid_auto_rows": null,
       "grid_column": null,
       "grid_gap": null,
       "grid_row": null,
       "grid_template_areas": null,
       "grid_template_columns": null,
       "grid_template_rows": null,
       "height": null,
       "justify_content": null,
       "justify_items": null,
       "left": null,
       "margin": null,
       "max_height": null,
       "max_width": null,
       "min_height": null,
       "min_width": null,
       "object_fit": null,
       "object_position": null,
       "order": null,
       "overflow": null,
       "overflow_x": null,
       "overflow_y": null,
       "padding": null,
       "right": null,
       "top": null,
       "visibility": null,
       "width": null
      }
     },
     "1b06993dd24443bdb9fe02c464647a8a": {
      "model_module": "@jupyter-widgets/controls",
      "model_module_version": "1.5.0",
      "model_name": "HTMLModel",
      "state": {
       "_dom_classes": [],
       "_model_module": "@jupyter-widgets/controls",
       "_model_module_version": "1.5.0",
       "_model_name": "HTMLModel",
       "_view_count": null,
       "_view_module": "@jupyter-widgets/controls",
       "_view_module_version": "1.5.0",
       "_view_name": "HTMLView",
       "description": "",
       "description_tooltip": null,
       "layout": "IPY_MODEL_0443bc50920f457ba7d4107ee8538b27",
       "placeholder": "​",
       "style": "IPY_MODEL_e8ca4f4bc33b439c9410ea88144ba51b",
       "value": " 528M/528M [00:24&lt;00:00, 23.6MB/s]"
      }
     },
     "4c7a0c7195844f6a94dc8be1cd7ea267": {
      "model_module": "@jupyter-widgets/controls",
      "model_module_version": "1.5.0",
      "model_name": "ProgressStyleModel",
      "state": {
       "_model_module": "@jupyter-widgets/controls",
       "_model_module_version": "1.5.0",
       "_model_name": "ProgressStyleModel",
       "_view_count": null,
       "_view_module": "@jupyter-widgets/base",
       "_view_module_version": "1.2.0",
       "_view_name": "StyleView",
       "bar_color": null,
       "description_width": ""
      }
     },
     "4d3766f8a0e645618c8d66c2726574ee": {
      "model_module": "@jupyter-widgets/controls",
      "model_module_version": "1.5.0",
      "model_name": "DescriptionStyleModel",
      "state": {
       "_model_module": "@jupyter-widgets/controls",
       "_model_module_version": "1.5.0",
       "_model_name": "DescriptionStyleModel",
       "_view_count": null,
       "_view_module": "@jupyter-widgets/base",
       "_view_module_version": "1.2.0",
       "_view_name": "StyleView",
       "description_width": ""
      }
     },
     "58a622ac6b2f4c6e8052e9ecb4595d59": {
      "model_module": "@jupyter-widgets/controls",
      "model_module_version": "1.5.0",
      "model_name": "HTMLModel",
      "state": {
       "_dom_classes": [],
       "_model_module": "@jupyter-widgets/controls",
       "_model_module_version": "1.5.0",
       "_model_name": "HTMLModel",
       "_view_count": null,
       "_view_module": "@jupyter-widgets/controls",
       "_view_module_version": "1.5.0",
       "_view_name": "HTMLView",
       "description": "",
       "description_tooltip": null,
       "layout": "IPY_MODEL_5e18f3fe071242b38fa6131be9988b95",
       "placeholder": "​",
       "style": "IPY_MODEL_4d3766f8a0e645618c8d66c2726574ee",
       "value": "100%"
      }
     },
     "5e18f3fe071242b38fa6131be9988b95": {
      "model_module": "@jupyter-widgets/base",
      "model_module_version": "1.2.0",
      "model_name": "LayoutModel",
      "state": {
       "_model_module": "@jupyter-widgets/base",
       "_model_module_version": "1.2.0",
       "_model_name": "LayoutModel",
       "_view_count": null,
       "_view_module": "@jupyter-widgets/base",
       "_view_module_version": "1.2.0",
       "_view_name": "LayoutView",
       "align_content": null,
       "align_items": null,
       "align_self": null,
       "border": null,
       "bottom": null,
       "display": null,
       "flex": null,
       "flex_flow": null,
       "grid_area": null,
       "grid_auto_columns": null,
       "grid_auto_flow": null,
       "grid_auto_rows": null,
       "grid_column": null,
       "grid_gap": null,
       "grid_row": null,
       "grid_template_areas": null,
       "grid_template_columns": null,
       "grid_template_rows": null,
       "height": null,
       "justify_content": null,
       "justify_items": null,
       "left": null,
       "margin": null,
       "max_height": null,
       "max_width": null,
       "min_height": null,
       "min_width": null,
       "object_fit": null,
       "object_position": null,
       "order": null,
       "overflow": null,
       "overflow_x": null,
       "overflow_y": null,
       "padding": null,
       "right": null,
       "top": null,
       "visibility": null,
       "width": null
      }
     },
     "9977c4c580cd4cf69876ae18e5ffdcff": {
      "model_module": "@jupyter-widgets/controls",
      "model_module_version": "1.5.0",
      "model_name": "FloatProgressModel",
      "state": {
       "_dom_classes": [],
       "_model_module": "@jupyter-widgets/controls",
       "_model_module_version": "1.5.0",
       "_model_name": "FloatProgressModel",
       "_view_count": null,
       "_view_module": "@jupyter-widgets/controls",
       "_view_module_version": "1.5.0",
       "_view_name": "ProgressView",
       "bar_style": "success",
       "description": "",
       "description_tooltip": null,
       "layout": "IPY_MODEL_e591ed45fd9542ddb2b68fb82d7b49d1",
       "max": 553433881.0,
       "min": 0.0,
       "orientation": "horizontal",
       "style": "IPY_MODEL_4c7a0c7195844f6a94dc8be1cd7ea267",
       "value": 553433881.0
      }
     },
     "c52d21de980c41ccbd984fbff70bdd1f": {
      "model_module": "@jupyter-widgets/base",
      "model_module_version": "1.2.0",
      "model_name": "LayoutModel",
      "state": {
       "_model_module": "@jupyter-widgets/base",
       "_model_module_version": "1.2.0",
       "_model_name": "LayoutModel",
       "_view_count": null,
       "_view_module": "@jupyter-widgets/base",
       "_view_module_version": "1.2.0",
       "_view_name": "LayoutView",
       "align_content": null,
       "align_items": null,
       "align_self": null,
       "border": null,
       "bottom": null,
       "display": null,
       "flex": null,
       "flex_flow": null,
       "grid_area": null,
       "grid_auto_columns": null,
       "grid_auto_flow": null,
       "grid_auto_rows": null,
       "grid_column": null,
       "grid_gap": null,
       "grid_row": null,
       "grid_template_areas": null,
       "grid_template_columns": null,
       "grid_template_rows": null,
       "height": null,
       "justify_content": null,
       "justify_items": null,
       "left": null,
       "margin": null,
       "max_height": null,
       "max_width": null,
       "min_height": null,
       "min_width": null,
       "object_fit": null,
       "object_position": null,
       "order": null,
       "overflow": null,
       "overflow_x": null,
       "overflow_y": null,
       "padding": null,
       "right": null,
       "top": null,
       "visibility": null,
       "width": null
      }
     },
     "e591ed45fd9542ddb2b68fb82d7b49d1": {
      "model_module": "@jupyter-widgets/base",
      "model_module_version": "1.2.0",
      "model_name": "LayoutModel",
      "state": {
       "_model_module": "@jupyter-widgets/base",
       "_model_module_version": "1.2.0",
       "_model_name": "LayoutModel",
       "_view_count": null,
       "_view_module": "@jupyter-widgets/base",
       "_view_module_version": "1.2.0",
       "_view_name": "LayoutView",
       "align_content": null,
       "align_items": null,
       "align_self": null,
       "border": null,
       "bottom": null,
       "display": null,
       "flex": null,
       "flex_flow": null,
       "grid_area": null,
       "grid_auto_columns": null,
       "grid_auto_flow": null,
       "grid_auto_rows": null,
       "grid_column": null,
       "grid_gap": null,
       "grid_row": null,
       "grid_template_areas": null,
       "grid_template_columns": null,
       "grid_template_rows": null,
       "height": null,
       "justify_content": null,
       "justify_items": null,
       "left": null,
       "margin": null,
       "max_height": null,
       "max_width": null,
       "min_height": null,
       "min_width": null,
       "object_fit": null,
       "object_position": null,
       "order": null,
       "overflow": null,
       "overflow_x": null,
       "overflow_y": null,
       "padding": null,
       "right": null,
       "top": null,
       "visibility": null,
       "width": null
      }
     },
     "e8ca4f4bc33b439c9410ea88144ba51b": {
      "model_module": "@jupyter-widgets/controls",
      "model_module_version": "1.5.0",
      "model_name": "DescriptionStyleModel",
      "state": {
       "_model_module": "@jupyter-widgets/controls",
       "_model_module_version": "1.5.0",
       "_model_name": "DescriptionStyleModel",
       "_view_count": null,
       "_view_module": "@jupyter-widgets/base",
       "_view_module_version": "1.2.0",
       "_view_name": "StyleView",
       "description_width": ""
      }
     }
    },
    "version_major": 2,
    "version_minor": 0
   }
  }
 },
 "nbformat": 4,
 "nbformat_minor": 5
}
