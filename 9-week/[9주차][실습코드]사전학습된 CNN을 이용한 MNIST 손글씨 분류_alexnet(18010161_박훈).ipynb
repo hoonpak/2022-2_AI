{
 "cells": [
  {
   "cell_type": "code",
   "execution_count": 1,
   "id": "a95972a6",
   "metadata": {
    "_cell_guid": "b1076dfc-b9ad-4769-8c92-a6c4dae69d19",
    "_uuid": "8f2839f25d086af736a60e9eeb907d3b93b6e0e5",
    "execution": {
     "iopub.execute_input": "2022-11-05T04:29:40.524164Z",
     "iopub.status.busy": "2022-11-05T04:29:40.523105Z",
     "iopub.status.idle": "2022-11-05T04:29:40.541362Z",
     "shell.execute_reply": "2022-11-05T04:29:40.538854Z"
    },
    "papermill": {
     "duration": 0.033119,
     "end_time": "2022-11-05T04:29:40.549549",
     "exception": false,
     "start_time": "2022-11-05T04:29:40.516430",
     "status": "completed"
    },
    "tags": []
   },
   "outputs": [
    {
     "name": "stdout",
     "output_type": "stream",
     "text": [
      "/kaggle/input/2022-ai-w10p1/train.csv\n",
      "/kaggle/input/2022-ai-w10p1/test.csv\n",
      "/kaggle/input/2022-ai-w10p1/sample_submit.csv\n"
     ]
    }
   ],
   "source": [
    "# This Python 3 environment comes with many helpful analytics libraries installed\n",
    "# It is defined by the kaggle/python Docker image: https://github.com/kaggle/docker-python\n",
    "# For example, here's several helpful packages to load\n",
    "\n",
    "import numpy as np # linear algebra\n",
    "import pandas as pd # data processing, CSV file I/O (e.g. pd.read_csv)\n",
    "\n",
    "# Input data files are available in the read-only \"../input/\" directory\n",
    "# For example, running this (by clicking run or pressing Shift+Enter) will list all files under the input directory\n",
    "\n",
    "import os\n",
    "for dirname, _, filenames in os.walk('/kaggle/input'):\n",
    "    for filename in filenames:\n",
    "        print(os.path.join(dirname, filename))\n",
    "\n",
    "# You can write up to 20GB to the current directory (/kaggle/working/) that gets preserved as output when you create a version using \"Save & Run All\" \n",
    "# You can also write temporary files to /kaggle/temp/, but they won't be saved outside of the current session"
   ]
  },
  {
   "cell_type": "code",
   "execution_count": 2,
   "id": "c13bf2e9",
   "metadata": {
    "execution": {
     "iopub.execute_input": "2022-11-05T04:29:40.567313Z",
     "iopub.status.busy": "2022-11-05T04:29:40.566843Z",
     "iopub.status.idle": "2022-11-05T04:29:42.299580Z",
     "shell.execute_reply": "2022-11-05T04:29:42.298712Z"
    },
    "papermill": {
     "duration": 1.744015,
     "end_time": "2022-11-05T04:29:42.301985",
     "exception": false,
     "start_time": "2022-11-05T04:29:40.557970",
     "status": "completed"
    },
    "tags": []
   },
   "outputs": [],
   "source": [
    "import random\n",
    "import torch\n",
    "\n",
    "seed = 42\n",
    "random.seed(seed)\n",
    "np.random.seed(seed)\n",
    "torch.manual_seed(seed)\n",
    "if torch.cuda.is_available():\n",
    "    torch.cuda.manual_seed(seed)\n",
    "    torch.cuda.manual_seed_all(seed)\n",
    "torch.backends.cudnn.benchmark = False\n",
    "torch.backends.cudnn.deterministic = True "
   ]
  },
  {
   "cell_type": "code",
   "execution_count": 3,
   "id": "c46046d1",
   "metadata": {
    "execution": {
     "iopub.execute_input": "2022-11-05T04:29:42.342633Z",
     "iopub.status.busy": "2022-11-05T04:29:42.341533Z",
     "iopub.status.idle": "2022-11-05T04:29:42.348315Z",
     "shell.execute_reply": "2022-11-05T04:29:42.347363Z"
    },
    "papermill": {
     "duration": 0.021843,
     "end_time": "2022-11-05T04:29:42.350324",
     "exception": false,
     "start_time": "2022-11-05T04:29:42.328481",
     "status": "completed"
    },
    "tags": []
   },
   "outputs": [],
   "source": [
    "device = 'cuda' if torch.cuda.is_available() else 'cpu'\n",
    "\n",
    "# for reproducibility\n",
    "torch.manual_seed(777)\n",
    "if device == 'cuda':\n",
    "    torch.cuda.manual_seed_all(777)"
   ]
  },
  {
   "cell_type": "code",
   "execution_count": 4,
   "id": "86c04537",
   "metadata": {
    "execution": {
     "iopub.execute_input": "2022-11-05T04:29:42.365924Z",
     "iopub.status.busy": "2022-11-05T04:29:42.365499Z",
     "iopub.status.idle": "2022-11-05T04:29:47.125252Z",
     "shell.execute_reply": "2022-11-05T04:29:47.124301Z"
    },
    "papermill": {
     "duration": 4.769355,
     "end_time": "2022-11-05T04:29:47.127607",
     "exception": false,
     "start_time": "2022-11-05T04:29:42.358252",
     "status": "completed"
    },
    "tags": []
   },
   "outputs": [],
   "source": [
    "train=pd.read_csv(\"/kaggle/input/2022-ai-w10p1/train.csv\")\n",
    "test=pd.read_csv(\"/kaggle/input/2022-ai-w10p1/test.csv\")\n",
    "submit=pd.read_csv(\"/kaggle/input/2022-ai-w10p1/sample_submit.csv\")"
   ]
  },
  {
   "cell_type": "code",
   "execution_count": 5,
   "id": "3487427e",
   "metadata": {
    "execution": {
     "iopub.execute_input": "2022-11-05T04:29:47.137433Z",
     "iopub.status.busy": "2022-11-05T04:29:47.137136Z",
     "iopub.status.idle": "2022-11-05T04:29:47.254832Z",
     "shell.execute_reply": "2022-11-05T04:29:47.253840Z"
    },
    "papermill": {
     "duration": 0.1252,
     "end_time": "2022-11-05T04:29:47.257247",
     "exception": false,
     "start_time": "2022-11-05T04:29:47.132047",
     "status": "completed"
    },
    "tags": []
   },
   "outputs": [],
   "source": [
    "x_train=train.drop(['Category'],axis=1)\n",
    "y_train=train['Category']"
   ]
  },
  {
   "cell_type": "code",
   "execution_count": 6,
   "id": "c0391b77",
   "metadata": {
    "execution": {
     "iopub.execute_input": "2022-11-05T04:29:47.267262Z",
     "iopub.status.busy": "2022-11-05T04:29:47.266952Z",
     "iopub.status.idle": "2022-11-05T04:29:47.430618Z",
     "shell.execute_reply": "2022-11-05T04:29:47.429610Z"
    },
    "papermill": {
     "duration": 0.171803,
     "end_time": "2022-11-05T04:29:47.433484",
     "exception": false,
     "start_time": "2022-11-05T04:29:47.261681",
     "status": "completed"
    },
    "tags": []
   },
   "outputs": [],
   "source": [
    "x_train=np.array(x_train)\n",
    "y_train=np.array(y_train)\n",
    "x_test=np.array(test)"
   ]
  },
  {
   "cell_type": "code",
   "execution_count": 7,
   "id": "5a3a13a2",
   "metadata": {
    "execution": {
     "iopub.execute_input": "2022-11-05T04:29:47.443489Z",
     "iopub.status.busy": "2022-11-05T04:29:47.443187Z",
     "iopub.status.idle": "2022-11-05T04:29:47.447538Z",
     "shell.execute_reply": "2022-11-05T04:29:47.446507Z"
    },
    "papermill": {
     "duration": 0.011829,
     "end_time": "2022-11-05T04:29:47.449792",
     "exception": false,
     "start_time": "2022-11-05T04:29:47.437963",
     "status": "completed"
    },
    "tags": []
   },
   "outputs": [],
   "source": [
    "learning_rate = 0.001\n",
    "training_epochs = 10\n",
    "batch_size = 250"
   ]
  },
  {
   "cell_type": "code",
   "execution_count": 8,
   "id": "709e7b4a",
   "metadata": {
    "execution": {
     "iopub.execute_input": "2022-11-05T04:29:47.459337Z",
     "iopub.status.busy": "2022-11-05T04:29:47.459041Z",
     "iopub.status.idle": "2022-11-05T04:29:49.139106Z",
     "shell.execute_reply": "2022-11-05T04:29:49.138103Z"
    },
    "papermill": {
     "duration": 1.68761,
     "end_time": "2022-11-05T04:29:49.141555",
     "exception": false,
     "start_time": "2022-11-05T04:29:47.453945",
     "status": "completed"
    },
    "tags": []
   },
   "outputs": [],
   "source": [
    "import cv2\n",
    "import torch\n",
    "import torchvision\n",
    "import torchvision.transforms as transforms\n",
    "\n",
    "class Custom_Loader(torch.utils.data.Dataset):\n",
    "    def __init__(self, data, label=None, split='train', transform=None):\n",
    "        self.label = label\n",
    "        self.split = split\n",
    "        self.transform = transform\n",
    "        \n",
    "        # csv 파일로부터 얻어진 데이터를 28, 28, 1로 shape 변환\n",
    "        data_1ch = np.reshape(data, (-1, 28, 28, 1)) # (60000, 28, 28, 1) \n",
    "        # 1ch 의 MNIST이미지를 3ch 로 변환 \n",
    "        data_3ch = data_1ch.repeat(3, axis=-1) # (60000, 28, 28, 3) \n",
    "        # data 인스턴스에 변환한 데이터 저장\n",
    "        self.data = data_3ch.astype(np.uint64)\n",
    "    \n",
    "    def __len__(self):\n",
    "        return len(self.data)\n",
    "    \n",
    "    def __getitem__(self, idx):\n",
    "        # idx번째 데이터를 data에 저장\n",
    "        data = self.data[idx]  # shape (28, 28, 3)\n",
    "        \n",
    "        # 28x28 이미지를 224x224로 resize\n",
    "        data = cv2.resize(data.astype('float32'), dsize=(224, 224), interpolation=cv2.INTER_LINEAR) # shape (224, 224, 3)\n",
    "        \n",
    "        # Tensor 변환 및 Normalization \n",
    "        data = self.transform(data)\n",
    "        \n",
    "        # train loader 일 경우 data, label 반환\n",
    "        if self.split == 'train':\n",
    "            return data, torch.from_numpy(self.label[idx])\n",
    "        else:\n",
    "        # test 일 경우, data만 반환 \n",
    "            return data\n",
    "        \n",
    "\n",
    "transform = transforms.Compose(\n",
    "    [transforms.ToTensor(),\n",
    "     transforms.Normalize((0.485, 0.456, 0.406), (0.229, 0.224, 0.225))])\n",
    "\n",
    "train_dataset = Custom_Loader(x_train, y_train.reshape(-1, 1), split='train', transform=transform)\n",
    "test_dataset = Custom_Loader(x_test, split='test', transform=transform)\n",
    "\n",
    "train_loader = torch.utils.data.DataLoader(train_dataset, batch_size=batch_size, shuffle=True)\n",
    "test_loader = torch.utils.data.DataLoader(test_dataset, batch_size=batch_size, shuffle=False)"
   ]
  },
  {
   "cell_type": "code",
   "execution_count": 9,
   "id": "fd0c4582",
   "metadata": {
    "execution": {
     "iopub.execute_input": "2022-11-05T04:29:49.151605Z",
     "iopub.status.busy": "2022-11-05T04:29:49.151309Z",
     "iopub.status.idle": "2022-11-05T04:29:49.155703Z",
     "shell.execute_reply": "2022-11-05T04:29:49.154664Z"
    },
    "papermill": {
     "duration": 0.011944,
     "end_time": "2022-11-05T04:29:49.157974",
     "exception": false,
     "start_time": "2022-11-05T04:29:49.146030",
     "status": "completed"
    },
    "tags": []
   },
   "outputs": [],
   "source": [
    "#y_train.reshape(-1, 1).shape"
   ]
  },
  {
   "cell_type": "code",
   "execution_count": 10,
   "id": "0b331ad3",
   "metadata": {
    "execution": {
     "iopub.execute_input": "2022-11-05T04:29:49.167222Z",
     "iopub.status.busy": "2022-11-05T04:29:49.166937Z",
     "iopub.status.idle": "2022-11-05T04:29:49.171045Z",
     "shell.execute_reply": "2022-11-05T04:29:49.170055Z"
    },
    "papermill": {
     "duration": 0.011275,
     "end_time": "2022-11-05T04:29:49.173299",
     "exception": false,
     "start_time": "2022-11-05T04:29:49.162024",
     "status": "completed"
    },
    "tags": []
   },
   "outputs": [],
   "source": [
    "method=\"alexnet\""
   ]
  },
  {
   "cell_type": "code",
   "execution_count": 11,
   "id": "be6db976",
   "metadata": {
    "execution": {
     "iopub.execute_input": "2022-11-05T04:29:49.182423Z",
     "iopub.status.busy": "2022-11-05T04:29:49.182174Z",
     "iopub.status.idle": "2022-11-05T04:30:01.508700Z",
     "shell.execute_reply": "2022-11-05T04:30:01.507646Z"
    },
    "papermill": {
     "duration": 12.333884,
     "end_time": "2022-11-05T04:30:01.511226",
     "exception": false,
     "start_time": "2022-11-05T04:29:49.177342",
     "status": "completed"
    },
    "tags": []
   },
   "outputs": [
    {
     "name": "stderr",
     "output_type": "stream",
     "text": [
      "Downloading: \"https://download.pytorch.org/models/alexnet-owt-7be5be79.pth\" to /root/.cache/torch/hub/checkpoints/alexnet-owt-7be5be79.pth\n"
     ]
    },
    {
     "data": {
      "application/vnd.jupyter.widget-view+json": {
       "model_id": "1931b2e459ed42ee8afc895c7d00f66e",
       "version_major": 2,
       "version_minor": 0
      },
      "text/plain": [
       "  0%|          | 0.00/233M [00:00<?, ?B/s]"
      ]
     },
     "metadata": {},
     "output_type": "display_data"
    }
   ],
   "source": [
    "import torchvision.models as models\n",
    "\n",
    "if method == \"resnet\":\n",
    "    model = models.resnet18(pretrained=True)\n",
    "    model.fc = torch.nn.Linear(in_features=512, out_features=10, bias=True)\n",
    "elif method == \"vgg\":\n",
    "    model = models.vgg16(pretrained=True)\n",
    "    model.classifier[6] = torch.nn.Linear(in_features=4096, out_features=10, bias=True)\n",
    "elif method == \"alexnet\":\n",
    "    model = models.alexnet(pretrained=True)\n",
    "    model.classifier[6] = torch.nn.Linear(in_features=4096, out_features=10, bias=True)\n",
    "else:\n",
    "    raise ValueError(\"Check Method!\")"
   ]
  },
  {
   "cell_type": "code",
   "execution_count": 12,
   "id": "2d964eb5",
   "metadata": {
    "execution": {
     "iopub.execute_input": "2022-11-05T04:30:01.521778Z",
     "iopub.status.busy": "2022-11-05T04:30:01.521487Z",
     "iopub.status.idle": "2022-11-05T04:30:01.526641Z",
     "shell.execute_reply": "2022-11-05T04:30:01.525588Z"
    },
    "papermill": {
     "duration": 0.012949,
     "end_time": "2022-11-05T04:30:01.528930",
     "exception": false,
     "start_time": "2022-11-05T04:30:01.515981",
     "status": "completed"
    },
    "tags": []
   },
   "outputs": [],
   "source": [
    "criterion = torch.nn.CrossEntropyLoss().to(device)    # Softmax is internally computed.\n",
    "optimizer = torch.optim.Adam(model.parameters(), lr=learning_rate)"
   ]
  },
  {
   "cell_type": "code",
   "execution_count": 13,
   "id": "992f8737",
   "metadata": {
    "execution": {
     "iopub.execute_input": "2022-11-05T04:30:01.538615Z",
     "iopub.status.busy": "2022-11-05T04:30:01.538343Z",
     "iopub.status.idle": "2022-11-05T04:30:04.351094Z",
     "shell.execute_reply": "2022-11-05T04:30:04.349653Z"
    },
    "papermill": {
     "duration": 2.822124,
     "end_time": "2022-11-05T04:30:04.355327",
     "exception": false,
     "start_time": "2022-11-05T04:30:01.533203",
     "status": "completed"
    },
    "tags": []
   },
   "outputs": [],
   "source": [
    "model=model.to(device)"
   ]
  },
  {
   "cell_type": "code",
   "execution_count": 14,
   "id": "4d1046ad",
   "metadata": {
    "execution": {
     "iopub.execute_input": "2022-11-05T04:30:04.371791Z",
     "iopub.status.busy": "2022-11-05T04:30:04.371465Z",
     "iopub.status.idle": "2022-11-05T04:40:49.863556Z",
     "shell.execute_reply": "2022-11-05T04:40:49.862526Z"
    },
    "papermill": {
     "duration": 645.505026,
     "end_time": "2022-11-05T04:40:49.870594",
     "exception": false,
     "start_time": "2022-11-05T04:30:04.365568",
     "status": "completed"
    },
    "tags": []
   },
   "outputs": [
    {
     "name": "stdout",
     "output_type": "stream",
     "text": [
      "Learning started. It takes sometime.\n",
      "[Epoch:    1] cost = 4.00653648\n",
      "[Epoch:    2] cost = 1.59163606\n",
      "[Epoch:    3] cost = 1.06107998\n",
      "[Epoch:    4] cost = 0.331213415\n",
      "[Epoch:    5] cost = 0.141909719\n",
      "[Epoch:    6] cost = 0.106376454\n",
      "[Epoch:    7] cost = 0.0853168145\n",
      "[Epoch:    8] cost = 0.0745752007\n",
      "[Epoch:    9] cost = 0.0682244077\n",
      "[Epoch:   10] cost = 0.0621479042\n",
      "Learning Finished!\n"
     ]
    }
   ],
   "source": [
    "total_batch = len(train_loader)\n",
    "print('Learning started. It takes sometime.')\n",
    "for epoch in range(training_epochs):\n",
    "    avg_cost = 0\n",
    "\n",
    "    for X, Y in train_loader:\n",
    "        # image is already size of (28x28), no reshape\n",
    "        # label is not one-hot encoded\n",
    "        X = X.to(device)\n",
    "        Y = Y.to(device)\n",
    "\n",
    "        optimizer.zero_grad()\n",
    "        hypothesis = model(X)\n",
    "        #import pdb;pdb.set_trace()\n",
    "        cost = criterion(hypothesis, Y.squeeze())\n",
    "        cost.backward()\n",
    "        optimizer.step()\n",
    "\n",
    "        avg_cost += cost / total_batch\n",
    "\n",
    "    print('[Epoch: {:>4}] cost = {:>.9}'.format(epoch + 1, avg_cost))\n",
    "\n",
    "print('Learning Finished!')"
   ]
  },
  {
   "cell_type": "code",
   "execution_count": 15,
   "id": "60162550",
   "metadata": {
    "execution": {
     "iopub.execute_input": "2022-11-05T04:40:49.881712Z",
     "iopub.status.busy": "2022-11-05T04:40:49.881415Z",
     "iopub.status.idle": "2022-11-05T04:41:02.388903Z",
     "shell.execute_reply": "2022-11-05T04:41:02.387931Z"
    },
    "papermill": {
     "duration": 12.515999,
     "end_time": "2022-11-05T04:41:02.391495",
     "exception": false,
     "start_time": "2022-11-05T04:40:49.875496",
     "status": "completed"
    },
    "tags": []
   },
   "outputs": [],
   "source": [
    "pre_li=[]\n",
    "with torch.no_grad():\n",
    "    for X in test_loader:\n",
    "        X_test = X.cuda()\n",
    "        #import pdb;pdb.set_trace()\n",
    "        prediction = torch.argmax(model(X_test),1).tolist()\n",
    "        pre_li.append(prediction)"
   ]
  },
  {
   "cell_type": "code",
   "execution_count": 16,
   "id": "845ae12e",
   "metadata": {
    "execution": {
     "iopub.execute_input": "2022-11-05T04:41:02.402872Z",
     "iopub.status.busy": "2022-11-05T04:41:02.402586Z",
     "iopub.status.idle": "2022-11-05T04:41:02.407470Z",
     "shell.execute_reply": "2022-11-05T04:41:02.406477Z"
    },
    "papermill": {
     "duration": 0.013099,
     "end_time": "2022-11-05T04:41:02.409820",
     "exception": false,
     "start_time": "2022-11-05T04:41:02.396721",
     "status": "completed"
    },
    "tags": []
   },
   "outputs": [],
   "source": [
    "prediction=np.array(pre_li).reshape(-1,1)"
   ]
  },
  {
   "cell_type": "code",
   "execution_count": 17,
   "id": "60da9619",
   "metadata": {
    "execution": {
     "iopub.execute_input": "2022-11-05T04:41:02.420559Z",
     "iopub.status.busy": "2022-11-05T04:41:02.420303Z",
     "iopub.status.idle": "2022-11-05T04:41:02.427692Z",
     "shell.execute_reply": "2022-11-05T04:41:02.426806Z"
    },
    "papermill": {
     "duration": 0.015379,
     "end_time": "2022-11-05T04:41:02.430020",
     "exception": false,
     "start_time": "2022-11-05T04:41:02.414641",
     "status": "completed"
    },
    "tags": []
   },
   "outputs": [
    {
     "data": {
      "text/plain": [
       "Index(['Id', 'Category'], dtype='object')"
      ]
     },
     "execution_count": 17,
     "metadata": {},
     "output_type": "execute_result"
    }
   ],
   "source": [
    "submit.columns"
   ]
  },
  {
   "cell_type": "code",
   "execution_count": 18,
   "id": "8de632a9",
   "metadata": {
    "execution": {
     "iopub.execute_input": "2022-11-05T04:41:02.441617Z",
     "iopub.status.busy": "2022-11-05T04:41:02.440861Z",
     "iopub.status.idle": "2022-11-05T04:41:02.456411Z",
     "shell.execute_reply": "2022-11-05T04:41:02.455586Z"
    },
    "papermill": {
     "duration": 0.023162,
     "end_time": "2022-11-05T04:41:02.458304",
     "exception": false,
     "start_time": "2022-11-05T04:41:02.435142",
     "status": "completed"
    },
    "tags": []
   },
   "outputs": [],
   "source": [
    "submit['Category']=prediction\n",
    "submission=submit.astype(np.int64)\n",
    "submission.to_csv(\"submission.csv\",mode='w',header=True,index=False)"
   ]
  },
  {
   "cell_type": "code",
   "execution_count": null,
   "id": "710357ba",
   "metadata": {
    "papermill": {
     "duration": 0.004648,
     "end_time": "2022-11-05T04:41:02.467784",
     "exception": false,
     "start_time": "2022-11-05T04:41:02.463136",
     "status": "completed"
    },
    "tags": []
   },
   "outputs": [],
   "source": []
  }
 ],
 "metadata": {
  "kernelspec": {
   "display_name": "Python 3",
   "language": "python",
   "name": "python3"
  },
  "language_info": {
   "codemirror_mode": {
    "name": "ipython",
    "version": 3
   },
   "file_extension": ".py",
   "mimetype": "text/x-python",
   "name": "python",
   "nbconvert_exporter": "python",
   "pygments_lexer": "ipython3",
   "version": "3.7.12"
  },
  "papermill": {
   "default_parameters": {},
   "duration": 691.066659,
   "end_time": "2022-11-05T04:41:03.895043",
   "environment_variables": {},
   "exception": null,
   "input_path": "__notebook__.ipynb",
   "output_path": "__notebook__.ipynb",
   "parameters": {},
   "start_time": "2022-11-05T04:29:32.828384",
   "version": "2.3.4"
  },
  "widgets": {
   "application/vnd.jupyter.widget-state+json": {
    "state": {
     "01677f38a0554d6695fca0d80c9d86a3": {
      "model_module": "@jupyter-widgets/base",
      "model_module_version": "1.2.0",
      "model_name": "LayoutModel",
      "state": {
       "_model_module": "@jupyter-widgets/base",
       "_model_module_version": "1.2.0",
       "_model_name": "LayoutModel",
       "_view_count": null,
       "_view_module": "@jupyter-widgets/base",
       "_view_module_version": "1.2.0",
       "_view_name": "LayoutView",
       "align_content": null,
       "align_items": null,
       "align_self": null,
       "border": null,
       "bottom": null,
       "display": null,
       "flex": null,
       "flex_flow": null,
       "grid_area": null,
       "grid_auto_columns": null,
       "grid_auto_flow": null,
       "grid_auto_rows": null,
       "grid_column": null,
       "grid_gap": null,
       "grid_row": null,
       "grid_template_areas": null,
       "grid_template_columns": null,
       "grid_template_rows": null,
       "height": null,
       "justify_content": null,
       "justify_items": null,
       "left": null,
       "margin": null,
       "max_height": null,
       "max_width": null,
       "min_height": null,
       "min_width": null,
       "object_fit": null,
       "object_position": null,
       "order": null,
       "overflow": null,
       "overflow_x": null,
       "overflow_y": null,
       "padding": null,
       "right": null,
       "top": null,
       "visibility": null,
       "width": null
      }
     },
     "1931b2e459ed42ee8afc895c7d00f66e": {
      "model_module": "@jupyter-widgets/controls",
      "model_module_version": "1.5.0",
      "model_name": "HBoxModel",
      "state": {
       "_dom_classes": [],
       "_model_module": "@jupyter-widgets/controls",
       "_model_module_version": "1.5.0",
       "_model_name": "HBoxModel",
       "_view_count": null,
       "_view_module": "@jupyter-widgets/controls",
       "_view_module_version": "1.5.0",
       "_view_name": "HBoxView",
       "box_style": "",
       "children": [
        "IPY_MODEL_678588de07a941a0acf22abcb4f49557",
        "IPY_MODEL_ca384216e0fe4af395e7a5d2d398df69",
        "IPY_MODEL_4797fc239c4e441398630cea201fa886"
       ],
       "layout": "IPY_MODEL_dc9bb490fa61426ba337888a846a9cd5"
      }
     },
     "2259eddbbd304d50a2cc7cc481589647": {
      "model_module": "@jupyter-widgets/base",
      "model_module_version": "1.2.0",
      "model_name": "LayoutModel",
      "state": {
       "_model_module": "@jupyter-widgets/base",
       "_model_module_version": "1.2.0",
       "_model_name": "LayoutModel",
       "_view_count": null,
       "_view_module": "@jupyter-widgets/base",
       "_view_module_version": "1.2.0",
       "_view_name": "LayoutView",
       "align_content": null,
       "align_items": null,
       "align_self": null,
       "border": null,
       "bottom": null,
       "display": null,
       "flex": null,
       "flex_flow": null,
       "grid_area": null,
       "grid_auto_columns": null,
       "grid_auto_flow": null,
       "grid_auto_rows": null,
       "grid_column": null,
       "grid_gap": null,
       "grid_row": null,
       "grid_template_areas": null,
       "grid_template_columns": null,
       "grid_template_rows": null,
       "height": null,
       "justify_content": null,
       "justify_items": null,
       "left": null,
       "margin": null,
       "max_height": null,
       "max_width": null,
       "min_height": null,
       "min_width": null,
       "object_fit": null,
       "object_position": null,
       "order": null,
       "overflow": null,
       "overflow_x": null,
       "overflow_y": null,
       "padding": null,
       "right": null,
       "top": null,
       "visibility": null,
       "width": null
      }
     },
     "27c07f3e6f7e4d07b352378474fd0401": {
      "model_module": "@jupyter-widgets/controls",
      "model_module_version": "1.5.0",
      "model_name": "DescriptionStyleModel",
      "state": {
       "_model_module": "@jupyter-widgets/controls",
       "_model_module_version": "1.5.0",
       "_model_name": "DescriptionStyleModel",
       "_view_count": null,
       "_view_module": "@jupyter-widgets/base",
       "_view_module_version": "1.2.0",
       "_view_name": "StyleView",
       "description_width": ""
      }
     },
     "383ef55ebb1e4fb5901770e69d9428a3": {
      "model_module": "@jupyter-widgets/controls",
      "model_module_version": "1.5.0",
      "model_name": "DescriptionStyleModel",
      "state": {
       "_model_module": "@jupyter-widgets/controls",
       "_model_module_version": "1.5.0",
       "_model_name": "DescriptionStyleModel",
       "_view_count": null,
       "_view_module": "@jupyter-widgets/base",
       "_view_module_version": "1.2.0",
       "_view_name": "StyleView",
       "description_width": ""
      }
     },
     "4797fc239c4e441398630cea201fa886": {
      "model_module": "@jupyter-widgets/controls",
      "model_module_version": "1.5.0",
      "model_name": "HTMLModel",
      "state": {
       "_dom_classes": [],
       "_model_module": "@jupyter-widgets/controls",
       "_model_module_version": "1.5.0",
       "_model_name": "HTMLModel",
       "_view_count": null,
       "_view_module": "@jupyter-widgets/controls",
       "_view_module_version": "1.5.0",
       "_view_name": "HTMLView",
       "description": "",
       "description_tooltip": null,
       "layout": "IPY_MODEL_caa8dc8afead4d088fbb22a353349527",
       "placeholder": "​",
       "style": "IPY_MODEL_27c07f3e6f7e4d07b352378474fd0401",
       "value": " 233M/233M [00:11&lt;00:00, 23.6MB/s]"
      }
     },
     "617505739e8b4937842ddf116d61cc86": {
      "model_module": "@jupyter-widgets/controls",
      "model_module_version": "1.5.0",
      "model_name": "ProgressStyleModel",
      "state": {
       "_model_module": "@jupyter-widgets/controls",
       "_model_module_version": "1.5.0",
       "_model_name": "ProgressStyleModel",
       "_view_count": null,
       "_view_module": "@jupyter-widgets/base",
       "_view_module_version": "1.2.0",
       "_view_name": "StyleView",
       "bar_color": null,
       "description_width": ""
      }
     },
     "678588de07a941a0acf22abcb4f49557": {
      "model_module": "@jupyter-widgets/controls",
      "model_module_version": "1.5.0",
      "model_name": "HTMLModel",
      "state": {
       "_dom_classes": [],
       "_model_module": "@jupyter-widgets/controls",
       "_model_module_version": "1.5.0",
       "_model_name": "HTMLModel",
       "_view_count": null,
       "_view_module": "@jupyter-widgets/controls",
       "_view_module_version": "1.5.0",
       "_view_name": "HTMLView",
       "description": "",
       "description_tooltip": null,
       "layout": "IPY_MODEL_01677f38a0554d6695fca0d80c9d86a3",
       "placeholder": "​",
       "style": "IPY_MODEL_383ef55ebb1e4fb5901770e69d9428a3",
       "value": "100%"
      }
     },
     "ca384216e0fe4af395e7a5d2d398df69": {
      "model_module": "@jupyter-widgets/controls",
      "model_module_version": "1.5.0",
      "model_name": "FloatProgressModel",
      "state": {
       "_dom_classes": [],
       "_model_module": "@jupyter-widgets/controls",
       "_model_module_version": "1.5.0",
       "_model_name": "FloatProgressModel",
       "_view_count": null,
       "_view_module": "@jupyter-widgets/controls",
       "_view_module_version": "1.5.0",
       "_view_name": "ProgressView",
       "bar_style": "success",
       "description": "",
       "description_tooltip": null,
       "layout": "IPY_MODEL_2259eddbbd304d50a2cc7cc481589647",
       "max": 244408911.0,
       "min": 0.0,
       "orientation": "horizontal",
       "style": "IPY_MODEL_617505739e8b4937842ddf116d61cc86",
       "value": 244408911.0
      }
     },
     "caa8dc8afead4d088fbb22a353349527": {
      "model_module": "@jupyter-widgets/base",
      "model_module_version": "1.2.0",
      "model_name": "LayoutModel",
      "state": {
       "_model_module": "@jupyter-widgets/base",
       "_model_module_version": "1.2.0",
       "_model_name": "LayoutModel",
       "_view_count": null,
       "_view_module": "@jupyter-widgets/base",
       "_view_module_version": "1.2.0",
       "_view_name": "LayoutView",
       "align_content": null,
       "align_items": null,
       "align_self": null,
       "border": null,
       "bottom": null,
       "display": null,
       "flex": null,
       "flex_flow": null,
       "grid_area": null,
       "grid_auto_columns": null,
       "grid_auto_flow": null,
       "grid_auto_rows": null,
       "grid_column": null,
       "grid_gap": null,
       "grid_row": null,
       "grid_template_areas": null,
       "grid_template_columns": null,
       "grid_template_rows": null,
       "height": null,
       "justify_content": null,
       "justify_items": null,
       "left": null,
       "margin": null,
       "max_height": null,
       "max_width": null,
       "min_height": null,
       "min_width": null,
       "object_fit": null,
       "object_position": null,
       "order": null,
       "overflow": null,
       "overflow_x": null,
       "overflow_y": null,
       "padding": null,
       "right": null,
       "top": null,
       "visibility": null,
       "width": null
      }
     },
     "dc9bb490fa61426ba337888a846a9cd5": {
      "model_module": "@jupyter-widgets/base",
      "model_module_version": "1.2.0",
      "model_name": "LayoutModel",
      "state": {
       "_model_module": "@jupyter-widgets/base",
       "_model_module_version": "1.2.0",
       "_model_name": "LayoutModel",
       "_view_count": null,
       "_view_module": "@jupyter-widgets/base",
       "_view_module_version": "1.2.0",
       "_view_name": "LayoutView",
       "align_content": null,
       "align_items": null,
       "align_self": null,
       "border": null,
       "bottom": null,
       "display": null,
       "flex": null,
       "flex_flow": null,
       "grid_area": null,
       "grid_auto_columns": null,
       "grid_auto_flow": null,
       "grid_auto_rows": null,
       "grid_column": null,
       "grid_gap": null,
       "grid_row": null,
       "grid_template_areas": null,
       "grid_template_columns": null,
       "grid_template_rows": null,
       "height": null,
       "justify_content": null,
       "justify_items": null,
       "left": null,
       "margin": null,
       "max_height": null,
       "max_width": null,
       "min_height": null,
       "min_width": null,
       "object_fit": null,
       "object_position": null,
       "order": null,
       "overflow": null,
       "overflow_x": null,
       "overflow_y": null,
       "padding": null,
       "right": null,
       "top": null,
       "visibility": null,
       "width": null
      }
     }
    },
    "version_major": 2,
    "version_minor": 0
   }
  }
 },
 "nbformat": 4,
 "nbformat_minor": 5
}
