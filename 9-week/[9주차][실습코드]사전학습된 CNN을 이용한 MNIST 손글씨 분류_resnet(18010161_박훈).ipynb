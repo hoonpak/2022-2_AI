{
 "cells": [
  {
   "cell_type": "code",
   "execution_count": 1,
   "id": "d6b96528",
   "metadata": {
    "_cell_guid": "b1076dfc-b9ad-4769-8c92-a6c4dae69d19",
    "_uuid": "8f2839f25d086af736a60e9eeb907d3b93b6e0e5",
    "execution": {
     "iopub.execute_input": "2022-11-04T01:02:57.134442Z",
     "iopub.status.busy": "2022-11-04T01:02:57.133709Z",
     "iopub.status.idle": "2022-11-04T01:02:57.148732Z",
     "shell.execute_reply": "2022-11-04T01:02:57.147820Z"
    },
    "papermill": {
     "duration": 0.023842,
     "end_time": "2022-11-04T01:02:57.150938",
     "exception": false,
     "start_time": "2022-11-04T01:02:57.127096",
     "status": "completed"
    },
    "tags": []
   },
   "outputs": [
    {
     "name": "stdout",
     "output_type": "stream",
     "text": [
      "/kaggle/input/2022-ai-w10p1/train.csv\n",
      "/kaggle/input/2022-ai-w10p1/test.csv\n",
      "/kaggle/input/2022-ai-w10p1/sample_submit.csv\n"
     ]
    }
   ],
   "source": [
    "# This Python 3 environment comes with many helpful analytics libraries installed\n",
    "# It is defined by the kaggle/python Docker image: https://github.com/kaggle/docker-python\n",
    "# For example, here's several helpful packages to load\n",
    "\n",
    "import numpy as np # linear algebra\n",
    "import pandas as pd # data processing, CSV file I/O (e.g. pd.read_csv)\n",
    "\n",
    "# Input data files are available in the read-only \"../input/\" directory\n",
    "# For example, running this (by clicking run or pressing Shift+Enter) will list all files under the input directory\n",
    "\n",
    "import os\n",
    "for dirname, _, filenames in os.walk('/kaggle/input'):\n",
    "    for filename in filenames:\n",
    "        print(os.path.join(dirname, filename))\n",
    "\n",
    "# You can write up to 20GB to the current directory (/kaggle/working/) that gets preserved as output when you create a version using \"Save & Run All\" \n",
    "# You can also write temporary files to /kaggle/temp/, but they won't be saved outside of the current session"
   ]
  },
  {
   "cell_type": "code",
   "execution_count": 2,
   "id": "996cfc54",
   "metadata": {
    "execution": {
     "iopub.execute_input": "2022-11-04T01:02:57.160684Z",
     "iopub.status.busy": "2022-11-04T01:02:57.160429Z",
     "iopub.status.idle": "2022-11-04T01:02:58.904946Z",
     "shell.execute_reply": "2022-11-04T01:02:58.903982Z"
    },
    "papermill": {
     "duration": 1.75201,
     "end_time": "2022-11-04T01:02:58.907305",
     "exception": false,
     "start_time": "2022-11-04T01:02:57.155295",
     "status": "completed"
    },
    "tags": []
   },
   "outputs": [],
   "source": [
    "import random\n",
    "import torch\n",
    "\n",
    "seed = 42\n",
    "random.seed(seed)\n",
    "np.random.seed(seed)\n",
    "torch.manual_seed(seed)\n",
    "if torch.cuda.is_available():\n",
    "    torch.cuda.manual_seed(seed)\n",
    "    torch.cuda.manual_seed_all(seed)\n",
    "torch.backends.cudnn.benchmark = False\n",
    "torch.backends.cudnn.deterministic = True "
   ]
  },
  {
   "cell_type": "code",
   "execution_count": 3,
   "id": "df6891a8",
   "metadata": {
    "execution": {
     "iopub.execute_input": "2022-11-04T01:02:58.918005Z",
     "iopub.status.busy": "2022-11-04T01:02:58.917003Z",
     "iopub.status.idle": "2022-11-04T01:02:58.923209Z",
     "shell.execute_reply": "2022-11-04T01:02:58.922381Z"
    },
    "papermill": {
     "duration": 0.013259,
     "end_time": "2022-11-04T01:02:58.925093",
     "exception": false,
     "start_time": "2022-11-04T01:02:58.911834",
     "status": "completed"
    },
    "tags": []
   },
   "outputs": [],
   "source": [
    "device = 'cuda' if torch.cuda.is_available() else 'cpu'\n",
    "\n",
    "# for reproducibility\n",
    "torch.manual_seed(777)\n",
    "if device == 'cuda':\n",
    "    torch.cuda.manual_seed_all(777)"
   ]
  },
  {
   "cell_type": "code",
   "execution_count": 4,
   "id": "5e1775be",
   "metadata": {
    "execution": {
     "iopub.execute_input": "2022-11-04T01:02:58.935317Z",
     "iopub.status.busy": "2022-11-04T01:02:58.934440Z",
     "iopub.status.idle": "2022-11-04T01:03:03.840483Z",
     "shell.execute_reply": "2022-11-04T01:03:03.839509Z"
    },
    "papermill": {
     "duration": 4.913542,
     "end_time": "2022-11-04T01:03:03.842998",
     "exception": false,
     "start_time": "2022-11-04T01:02:58.929456",
     "status": "completed"
    },
    "tags": []
   },
   "outputs": [],
   "source": [
    "train=pd.read_csv(\"/kaggle/input/2022-ai-w10p1/train.csv\")\n",
    "test=pd.read_csv(\"/kaggle/input/2022-ai-w10p1/test.csv\")\n",
    "submit=pd.read_csv(\"/kaggle/input/2022-ai-w10p1/sample_submit.csv\")"
   ]
  },
  {
   "cell_type": "code",
   "execution_count": 5,
   "id": "281d3405",
   "metadata": {
    "execution": {
     "iopub.execute_input": "2022-11-04T01:03:03.853961Z",
     "iopub.status.busy": "2022-11-04T01:03:03.852769Z",
     "iopub.status.idle": "2022-11-04T01:03:03.971111Z",
     "shell.execute_reply": "2022-11-04T01:03:03.970114Z"
    },
    "papermill": {
     "duration": 0.12567,
     "end_time": "2022-11-04T01:03:03.973187",
     "exception": false,
     "start_time": "2022-11-04T01:03:03.847517",
     "status": "completed"
    },
    "tags": []
   },
   "outputs": [],
   "source": [
    "x_train=train.drop(['Category'],axis=1)\n",
    "y_train=train['Category']"
   ]
  },
  {
   "cell_type": "code",
   "execution_count": 6,
   "id": "2a1d2476",
   "metadata": {
    "execution": {
     "iopub.execute_input": "2022-11-04T01:03:03.984795Z",
     "iopub.status.busy": "2022-11-04T01:03:03.983330Z",
     "iopub.status.idle": "2022-11-04T01:03:04.145708Z",
     "shell.execute_reply": "2022-11-04T01:03:04.144753Z"
    },
    "papermill": {
     "duration": 0.170585,
     "end_time": "2022-11-04T01:03:04.148379",
     "exception": false,
     "start_time": "2022-11-04T01:03:03.977794",
     "status": "completed"
    },
    "tags": []
   },
   "outputs": [],
   "source": [
    "x_train=np.array(x_train)\n",
    "y_train=np.array(y_train)\n",
    "x_test=np.array(test)"
   ]
  },
  {
   "cell_type": "code",
   "execution_count": 7,
   "id": "ca538d03",
   "metadata": {
    "execution": {
     "iopub.execute_input": "2022-11-04T01:03:04.159595Z",
     "iopub.status.busy": "2022-11-04T01:03:04.158122Z",
     "iopub.status.idle": "2022-11-04T01:03:04.163603Z",
     "shell.execute_reply": "2022-11-04T01:03:04.162796Z"
    },
    "papermill": {
     "duration": 0.012494,
     "end_time": "2022-11-04T01:03:04.165385",
     "exception": false,
     "start_time": "2022-11-04T01:03:04.152891",
     "status": "completed"
    },
    "tags": []
   },
   "outputs": [],
   "source": [
    "learning_rate = 0.001\n",
    "training_epochs = 1\n",
    "batch_size = 100"
   ]
  },
  {
   "cell_type": "code",
   "execution_count": 8,
   "id": "53e96db8",
   "metadata": {
    "execution": {
     "iopub.execute_input": "2022-11-04T01:03:04.175509Z",
     "iopub.status.busy": "2022-11-04T01:03:04.174978Z",
     "iopub.status.idle": "2022-11-04T01:03:05.997025Z",
     "shell.execute_reply": "2022-11-04T01:03:05.996004Z"
    },
    "papermill": {
     "duration": 1.829801,
     "end_time": "2022-11-04T01:03:05.999461",
     "exception": false,
     "start_time": "2022-11-04T01:03:04.169660",
     "status": "completed"
    },
    "tags": []
   },
   "outputs": [],
   "source": [
    "import cv2\n",
    "import torch\n",
    "import torchvision\n",
    "import torchvision.transforms as transforms\n",
    "\n",
    "class Custom_Loader(torch.utils.data.Dataset):\n",
    "    def __init__(self, data, label=None, split='train', transform=None):\n",
    "        self.label = label\n",
    "        self.split = split\n",
    "        self.transform = transform\n",
    "        \n",
    "        # csv 파일로부터 얻어진 데이터를 28, 28, 1로 shape 변환\n",
    "        data_1ch = np.reshape(data, (-1, 28, 28, 1)) # (60000, 28, 28, 1) \n",
    "        # 1ch 의 MNIST이미지를 3ch 로 변환 \n",
    "        data_3ch = data_1ch.repeat(3, axis=-1) # (60000, 28, 28, 3) \n",
    "        # data 인스턴스에 변환한 데이터 저장\n",
    "        self.data = data_3ch.astype(np.uint64)\n",
    "    \n",
    "    def __len__(self):\n",
    "        return len(self.data)\n",
    "    \n",
    "    def __getitem__(self, idx):\n",
    "        # idx번째 데이터를 data에 저장\n",
    "        data = self.data[idx]  # shape (28, 28, 3)\n",
    "        \n",
    "        # 28x28 이미지를 224x224로 resize\n",
    "        data = cv2.resize(data.astype('float32'), dsize=(224, 224), interpolation=cv2.INTER_LINEAR) # shape (224, 224, 3)\n",
    "        \n",
    "        # Tensor 변환 및 Normalization \n",
    "        data = self.transform(data)\n",
    "        \n",
    "        # train loader 일 경우 data, label 반환\n",
    "        if self.split == 'train':\n",
    "            return data, torch.from_numpy(self.label[idx])\n",
    "        else:\n",
    "        # test 일 경우, data만 반환 \n",
    "            return data\n",
    "        \n",
    "\n",
    "transform = transforms.Compose(\n",
    "    [transforms.ToTensor(),\n",
    "     transforms.Normalize((0.485, 0.456, 0.406), (0.229, 0.224, 0.225))])\n",
    "\n",
    "train_dataset = Custom_Loader(x_train, y_train.reshape(-1, 1), split='train', transform=transform)\n",
    "test_dataset = Custom_Loader(x_test, split='test', transform=transform)\n",
    "\n",
    "train_loader = torch.utils.data.DataLoader(train_dataset, batch_size=batch_size, shuffle=True)\n",
    "test_loader = torch.utils.data.DataLoader(test_dataset, batch_size=batch_size, shuffle=False)"
   ]
  },
  {
   "cell_type": "code",
   "execution_count": 9,
   "id": "03be7047",
   "metadata": {
    "execution": {
     "iopub.execute_input": "2022-11-04T01:03:06.009998Z",
     "iopub.status.busy": "2022-11-04T01:03:06.009165Z",
     "iopub.status.idle": "2022-11-04T01:03:06.013709Z",
     "shell.execute_reply": "2022-11-04T01:03:06.012806Z"
    },
    "papermill": {
     "duration": 0.012069,
     "end_time": "2022-11-04T01:03:06.016037",
     "exception": false,
     "start_time": "2022-11-04T01:03:06.003968",
     "status": "completed"
    },
    "tags": []
   },
   "outputs": [],
   "source": [
    "#y_train.reshape(-1, 1).shape"
   ]
  },
  {
   "cell_type": "code",
   "execution_count": 10,
   "id": "bdf33adf",
   "metadata": {
    "execution": {
     "iopub.execute_input": "2022-11-04T01:03:06.025347Z",
     "iopub.status.busy": "2022-11-04T01:03:06.025083Z",
     "iopub.status.idle": "2022-11-04T01:03:06.029216Z",
     "shell.execute_reply": "2022-11-04T01:03:06.028180Z"
    },
    "papermill": {
     "duration": 0.011357,
     "end_time": "2022-11-04T01:03:06.031461",
     "exception": false,
     "start_time": "2022-11-04T01:03:06.020104",
     "status": "completed"
    },
    "tags": []
   },
   "outputs": [],
   "source": [
    "method=\"resnet\""
   ]
  },
  {
   "cell_type": "code",
   "execution_count": 11,
   "id": "ae8c50ea",
   "metadata": {
    "execution": {
     "iopub.execute_input": "2022-11-04T01:03:06.040997Z",
     "iopub.status.busy": "2022-11-04T01:03:06.040650Z",
     "iopub.status.idle": "2022-11-04T01:03:06.707606Z",
     "shell.execute_reply": "2022-11-04T01:03:06.706664Z"
    },
    "papermill": {
     "duration": 0.674187,
     "end_time": "2022-11-04T01:03:06.709944",
     "exception": false,
     "start_time": "2022-11-04T01:03:06.035757",
     "status": "completed"
    },
    "tags": []
   },
   "outputs": [
    {
     "name": "stderr",
     "output_type": "stream",
     "text": [
      "Downloading: \"https://download.pytorch.org/models/resnet18-f37072fd.pth\" to /root/.cache/torch/hub/checkpoints/resnet18-f37072fd.pth\n"
     ]
    },
    {
     "data": {
      "application/vnd.jupyter.widget-view+json": {
       "model_id": "d599a4ca481e4af8bdc1ed02e0a3945e",
       "version_major": 2,
       "version_minor": 0
      },
      "text/plain": [
       "  0%|          | 0.00/44.7M [00:00<?, ?B/s]"
      ]
     },
     "metadata": {},
     "output_type": "display_data"
    }
   ],
   "source": [
    "import torchvision.models as models\n",
    "\n",
    "if method == \"resnet\":\n",
    "    model = models.resnet18(pretrained=True)\n",
    "    model.fc = torch.nn.Linear(in_features=512, out_features=10, bias=True)\n",
    "elif method == \"vgg\":\n",
    "    model = models.vgg16(pretrained=True)\n",
    "    model.classifier[6] = torch.nn.Linear(in_features=4096, out_features=10, bias=True)\n",
    "elif method == \"alexnet\":\n",
    "    model = models.alexnet(pretrained=True)\n",
    "    model.classifier[6] = torch.nn.Linear(in_features=4096, out_features=10, bias=True)\n",
    "else:\n",
    "    raise ValueError(\"Check Method!\")"
   ]
  },
  {
   "cell_type": "code",
   "execution_count": 12,
   "id": "7dcdfa2e",
   "metadata": {
    "execution": {
     "iopub.execute_input": "2022-11-04T01:03:06.720422Z",
     "iopub.status.busy": "2022-11-04T01:03:06.720122Z",
     "iopub.status.idle": "2022-11-04T01:03:06.725538Z",
     "shell.execute_reply": "2022-11-04T01:03:06.724719Z"
    },
    "papermill": {
     "duration": 0.01286,
     "end_time": "2022-11-04T01:03:06.727546",
     "exception": false,
     "start_time": "2022-11-04T01:03:06.714686",
     "status": "completed"
    },
    "tags": []
   },
   "outputs": [],
   "source": [
    "criterion = torch.nn.CrossEntropyLoss().to(device)    # Softmax is internally computed.\n",
    "optimizer = torch.optim.Adam(model.parameters(), lr=learning_rate)"
   ]
  },
  {
   "cell_type": "code",
   "execution_count": 13,
   "id": "19115143",
   "metadata": {
    "execution": {
     "iopub.execute_input": "2022-11-04T01:03:06.737096Z",
     "iopub.status.busy": "2022-11-04T01:03:06.736829Z",
     "iopub.status.idle": "2022-11-04T01:03:09.365163Z",
     "shell.execute_reply": "2022-11-04T01:03:09.364052Z"
    },
    "papermill": {
     "duration": 2.635999,
     "end_time": "2022-11-04T01:03:09.367849",
     "exception": false,
     "start_time": "2022-11-04T01:03:06.731850",
     "status": "completed"
    },
    "tags": []
   },
   "outputs": [],
   "source": [
    "model=model.to(device)"
   ]
  },
  {
   "cell_type": "code",
   "execution_count": 14,
   "id": "9447a6c3",
   "metadata": {
    "execution": {
     "iopub.execute_input": "2022-11-04T01:03:09.380269Z",
     "iopub.status.busy": "2022-11-04T01:03:09.379506Z",
     "iopub.status.idle": "2022-11-04T01:05:53.470436Z",
     "shell.execute_reply": "2022-11-04T01:05:53.469424Z"
    },
    "papermill": {
     "duration": 164.101768,
     "end_time": "2022-11-04T01:05:53.474294",
     "exception": false,
     "start_time": "2022-11-04T01:03:09.372526",
     "status": "completed"
    },
    "tags": []
   },
   "outputs": [
    {
     "name": "stdout",
     "output_type": "stream",
     "text": [
      "Learning started. It takes sometime.\n",
      "[Epoch:    1] cost = 0.0635475814\n",
      "Learning Finished!\n"
     ]
    }
   ],
   "source": [
    "total_batch = len(train_loader)\n",
    "print('Learning started. It takes sometime.')\n",
    "for epoch in range(training_epochs):\n",
    "    avg_cost = 0\n",
    "\n",
    "    for X, Y in train_loader:\n",
    "        # image is already size of (28x28), no reshape\n",
    "        # label is not one-hot encoded\n",
    "        X = X.to(device)\n",
    "        Y = Y.to(device)\n",
    "\n",
    "        optimizer.zero_grad()\n",
    "        hypothesis = model(X)\n",
    "        #import pdb;pdb.set_trace()\n",
    "        cost = criterion(hypothesis, Y.squeeze())\n",
    "        cost.backward()\n",
    "        optimizer.step()\n",
    "\n",
    "        avg_cost += cost / total_batch\n",
    "\n",
    "    print('[Epoch: {:>4}] cost = {:>.9}'.format(epoch + 1, avg_cost))\n",
    "\n",
    "print('Learning Finished!')"
   ]
  },
  {
   "cell_type": "code",
   "execution_count": 15,
   "id": "4668a862",
   "metadata": {
    "execution": {
     "iopub.execute_input": "2022-11-04T01:05:53.485313Z",
     "iopub.status.busy": "2022-11-04T01:05:53.485028Z",
     "iopub.status.idle": "2022-11-04T01:06:10.421598Z",
     "shell.execute_reply": "2022-11-04T01:06:10.420585Z"
    },
    "papermill": {
     "duration": 16.944902,
     "end_time": "2022-11-04T01:06:10.424425",
     "exception": false,
     "start_time": "2022-11-04T01:05:53.479523",
     "status": "completed"
    },
    "tags": []
   },
   "outputs": [],
   "source": [
    "pre_li=[]\n",
    "with torch.no_grad():\n",
    "    for X in test_loader:\n",
    "        X_test = X.cuda()\n",
    "        #import pdb;pdb.set_trace()\n",
    "        prediction = torch.argmax(model(X_test),1).tolist()\n",
    "        pre_li.append(prediction)"
   ]
  },
  {
   "cell_type": "code",
   "execution_count": 16,
   "id": "0d482e4a",
   "metadata": {
    "execution": {
     "iopub.execute_input": "2022-11-04T01:06:10.435071Z",
     "iopub.status.busy": "2022-11-04T01:06:10.434726Z",
     "iopub.status.idle": "2022-11-04T01:06:10.439820Z",
     "shell.execute_reply": "2022-11-04T01:06:10.438787Z"
    },
    "papermill": {
     "duration": 0.012521,
     "end_time": "2022-11-04T01:06:10.441827",
     "exception": false,
     "start_time": "2022-11-04T01:06:10.429306",
     "status": "completed"
    },
    "tags": []
   },
   "outputs": [],
   "source": [
    "prediction=np.array(pre_li).reshape(-1,1)"
   ]
  },
  {
   "cell_type": "code",
   "execution_count": 17,
   "id": "859d9237",
   "metadata": {
    "execution": {
     "iopub.execute_input": "2022-11-04T01:06:10.451716Z",
     "iopub.status.busy": "2022-11-04T01:06:10.451451Z",
     "iopub.status.idle": "2022-11-04T01:06:10.458479Z",
     "shell.execute_reply": "2022-11-04T01:06:10.457608Z"
    },
    "papermill": {
     "duration": 0.014356,
     "end_time": "2022-11-04T01:06:10.460559",
     "exception": false,
     "start_time": "2022-11-04T01:06:10.446203",
     "status": "completed"
    },
    "tags": []
   },
   "outputs": [
    {
     "data": {
      "text/plain": [
       "Index(['Id', 'Category'], dtype='object')"
      ]
     },
     "execution_count": 17,
     "metadata": {},
     "output_type": "execute_result"
    }
   ],
   "source": [
    "submit.columns"
   ]
  },
  {
   "cell_type": "code",
   "execution_count": 18,
   "id": "2a9d5905",
   "metadata": {
    "execution": {
     "iopub.execute_input": "2022-11-04T01:06:10.471285Z",
     "iopub.status.busy": "2022-11-04T01:06:10.470590Z",
     "iopub.status.idle": "2022-11-04T01:06:10.487099Z",
     "shell.execute_reply": "2022-11-04T01:06:10.486290Z"
    },
    "papermill": {
     "duration": 0.023973,
     "end_time": "2022-11-04T01:06:10.489151",
     "exception": false,
     "start_time": "2022-11-04T01:06:10.465178",
     "status": "completed"
    },
    "tags": []
   },
   "outputs": [],
   "source": [
    "submit['Category']=prediction\n",
    "submission=submit.astype(np.int64)\n",
    "submission.to_csv(\"submission.csv\",mode='w',header=True,index=False)"
   ]
  },
  {
   "cell_type": "code",
   "execution_count": null,
   "id": "2cd9fe15",
   "metadata": {
    "papermill": {
     "duration": 0.004244,
     "end_time": "2022-11-04T01:06:10.498029",
     "exception": false,
     "start_time": "2022-11-04T01:06:10.493785",
     "status": "completed"
    },
    "tags": []
   },
   "outputs": [],
   "source": []
  }
 ],
 "metadata": {
  "kernelspec": {
   "display_name": "Python 3",
   "language": "python",
   "name": "python3"
  },
  "language_info": {
   "codemirror_mode": {
    "name": "ipython",
    "version": 3
   },
   "file_extension": ".py",
   "mimetype": "text/x-python",
   "name": "python",
   "nbconvert_exporter": "python",
   "pygments_lexer": "ipython3",
   "version": "3.7.12"
  },
  "papermill": {
   "default_parameters": {},
   "duration": 202.786621,
   "end_time": "2022-11-04T01:06:11.924227",
   "environment_variables": {},
   "exception": null,
   "input_path": "__notebook__.ipynb",
   "output_path": "__notebook__.ipynb",
   "parameters": {},
   "start_time": "2022-11-04T01:02:49.137606",
   "version": "2.3.4"
  },
  "widgets": {
   "application/vnd.jupyter.widget-state+json": {
    "state": {
     "0b92d3da8bf84c6faac83003001723f9": {
      "model_module": "@jupyter-widgets/base",
      "model_module_version": "1.2.0",
      "model_name": "LayoutModel",
      "state": {
       "_model_module": "@jupyter-widgets/base",
       "_model_module_version": "1.2.0",
       "_model_name": "LayoutModel",
       "_view_count": null,
       "_view_module": "@jupyter-widgets/base",
       "_view_module_version": "1.2.0",
       "_view_name": "LayoutView",
       "align_content": null,
       "align_items": null,
       "align_self": null,
       "border": null,
       "bottom": null,
       "display": null,
       "flex": null,
       "flex_flow": null,
       "grid_area": null,
       "grid_auto_columns": null,
       "grid_auto_flow": null,
       "grid_auto_rows": null,
       "grid_column": null,
       "grid_gap": null,
       "grid_row": null,
       "grid_template_areas": null,
       "grid_template_columns": null,
       "grid_template_rows": null,
       "height": null,
       "justify_content": null,
       "justify_items": null,
       "left": null,
       "margin": null,
       "max_height": null,
       "max_width": null,
       "min_height": null,
       "min_width": null,
       "object_fit": null,
       "object_position": null,
       "order": null,
       "overflow": null,
       "overflow_x": null,
       "overflow_y": null,
       "padding": null,
       "right": null,
       "top": null,
       "visibility": null,
       "width": null
      }
     },
     "0f1c9272da144321ab4c660474c8eecd": {
      "model_module": "@jupyter-widgets/controls",
      "model_module_version": "1.5.0",
      "model_name": "DescriptionStyleModel",
      "state": {
       "_model_module": "@jupyter-widgets/controls",
       "_model_module_version": "1.5.0",
       "_model_name": "DescriptionStyleModel",
       "_view_count": null,
       "_view_module": "@jupyter-widgets/base",
       "_view_module_version": "1.2.0",
       "_view_name": "StyleView",
       "description_width": ""
      }
     },
     "1d9975dc25db41deb16fc463186520b9": {
      "model_module": "@jupyter-widgets/base",
      "model_module_version": "1.2.0",
      "model_name": "LayoutModel",
      "state": {
       "_model_module": "@jupyter-widgets/base",
       "_model_module_version": "1.2.0",
       "_model_name": "LayoutModel",
       "_view_count": null,
       "_view_module": "@jupyter-widgets/base",
       "_view_module_version": "1.2.0",
       "_view_name": "LayoutView",
       "align_content": null,
       "align_items": null,
       "align_self": null,
       "border": null,
       "bottom": null,
       "display": null,
       "flex": null,
       "flex_flow": null,
       "grid_area": null,
       "grid_auto_columns": null,
       "grid_auto_flow": null,
       "grid_auto_rows": null,
       "grid_column": null,
       "grid_gap": null,
       "grid_row": null,
       "grid_template_areas": null,
       "grid_template_columns": null,
       "grid_template_rows": null,
       "height": null,
       "justify_content": null,
       "justify_items": null,
       "left": null,
       "margin": null,
       "max_height": null,
       "max_width": null,
       "min_height": null,
       "min_width": null,
       "object_fit": null,
       "object_position": null,
       "order": null,
       "overflow": null,
       "overflow_x": null,
       "overflow_y": null,
       "padding": null,
       "right": null,
       "top": null,
       "visibility": null,
       "width": null
      }
     },
     "39e86cdcc12d4c05ab855ec1e763e4f6": {
      "model_module": "@jupyter-widgets/base",
      "model_module_version": "1.2.0",
      "model_name": "LayoutModel",
      "state": {
       "_model_module": "@jupyter-widgets/base",
       "_model_module_version": "1.2.0",
       "_model_name": "LayoutModel",
       "_view_count": null,
       "_view_module": "@jupyter-widgets/base",
       "_view_module_version": "1.2.0",
       "_view_name": "LayoutView",
       "align_content": null,
       "align_items": null,
       "align_self": null,
       "border": null,
       "bottom": null,
       "display": null,
       "flex": null,
       "flex_flow": null,
       "grid_area": null,
       "grid_auto_columns": null,
       "grid_auto_flow": null,
       "grid_auto_rows": null,
       "grid_column": null,
       "grid_gap": null,
       "grid_row": null,
       "grid_template_areas": null,
       "grid_template_columns": null,
       "grid_template_rows": null,
       "height": null,
       "justify_content": null,
       "justify_items": null,
       "left": null,
       "margin": null,
       "max_height": null,
       "max_width": null,
       "min_height": null,
       "min_width": null,
       "object_fit": null,
       "object_position": null,
       "order": null,
       "overflow": null,
       "overflow_x": null,
       "overflow_y": null,
       "padding": null,
       "right": null,
       "top": null,
       "visibility": null,
       "width": null
      }
     },
     "4dddec7ae6694f9289708fb9a9dcab31": {
      "model_module": "@jupyter-widgets/controls",
      "model_module_version": "1.5.0",
      "model_name": "FloatProgressModel",
      "state": {
       "_dom_classes": [],
       "_model_module": "@jupyter-widgets/controls",
       "_model_module_version": "1.5.0",
       "_model_name": "FloatProgressModel",
       "_view_count": null,
       "_view_module": "@jupyter-widgets/controls",
       "_view_module_version": "1.5.0",
       "_view_name": "ProgressView",
       "bar_style": "success",
       "description": "",
       "description_tooltip": null,
       "layout": "IPY_MODEL_0b92d3da8bf84c6faac83003001723f9",
       "max": 46830571.0,
       "min": 0.0,
       "orientation": "horizontal",
       "style": "IPY_MODEL_5185f7c9a4e84498b46497227542b1da",
       "value": 46830571.0
      }
     },
     "5185f7c9a4e84498b46497227542b1da": {
      "model_module": "@jupyter-widgets/controls",
      "model_module_version": "1.5.0",
      "model_name": "ProgressStyleModel",
      "state": {
       "_model_module": "@jupyter-widgets/controls",
       "_model_module_version": "1.5.0",
       "_model_name": "ProgressStyleModel",
       "_view_count": null,
       "_view_module": "@jupyter-widgets/base",
       "_view_module_version": "1.2.0",
       "_view_name": "StyleView",
       "bar_color": null,
       "description_width": ""
      }
     },
     "552cbd72ddd64c1987aa47b140acf786": {
      "model_module": "@jupyter-widgets/base",
      "model_module_version": "1.2.0",
      "model_name": "LayoutModel",
      "state": {
       "_model_module": "@jupyter-widgets/base",
       "_model_module_version": "1.2.0",
       "_model_name": "LayoutModel",
       "_view_count": null,
       "_view_module": "@jupyter-widgets/base",
       "_view_module_version": "1.2.0",
       "_view_name": "LayoutView",
       "align_content": null,
       "align_items": null,
       "align_self": null,
       "border": null,
       "bottom": null,
       "display": null,
       "flex": null,
       "flex_flow": null,
       "grid_area": null,
       "grid_auto_columns": null,
       "grid_auto_flow": null,
       "grid_auto_rows": null,
       "grid_column": null,
       "grid_gap": null,
       "grid_row": null,
       "grid_template_areas": null,
       "grid_template_columns": null,
       "grid_template_rows": null,
       "height": null,
       "justify_content": null,
       "justify_items": null,
       "left": null,
       "margin": null,
       "max_height": null,
       "max_width": null,
       "min_height": null,
       "min_width": null,
       "object_fit": null,
       "object_position": null,
       "order": null,
       "overflow": null,
       "overflow_x": null,
       "overflow_y": null,
       "padding": null,
       "right": null,
       "top": null,
       "visibility": null,
       "width": null
      }
     },
     "83e11d3dc8ca41cc944be44789878413": {
      "model_module": "@jupyter-widgets/controls",
      "model_module_version": "1.5.0",
      "model_name": "HTMLModel",
      "state": {
       "_dom_classes": [],
       "_model_module": "@jupyter-widgets/controls",
       "_model_module_version": "1.5.0",
       "_model_name": "HTMLModel",
       "_view_count": null,
       "_view_module": "@jupyter-widgets/controls",
       "_view_module_version": "1.5.0",
       "_view_name": "HTMLView",
       "description": "",
       "description_tooltip": null,
       "layout": "IPY_MODEL_39e86cdcc12d4c05ab855ec1e763e4f6",
       "placeholder": "​",
       "style": "IPY_MODEL_0f1c9272da144321ab4c660474c8eecd",
       "value": "100%"
      }
     },
     "b7a0b546258044be8c7199d608a946c3": {
      "model_module": "@jupyter-widgets/controls",
      "model_module_version": "1.5.0",
      "model_name": "DescriptionStyleModel",
      "state": {
       "_model_module": "@jupyter-widgets/controls",
       "_model_module_version": "1.5.0",
       "_model_name": "DescriptionStyleModel",
       "_view_count": null,
       "_view_module": "@jupyter-widgets/base",
       "_view_module_version": "1.2.0",
       "_view_name": "StyleView",
       "description_width": ""
      }
     },
     "b9f728628aae4b61a65a38a9fac429a5": {
      "model_module": "@jupyter-widgets/controls",
      "model_module_version": "1.5.0",
      "model_name": "HTMLModel",
      "state": {
       "_dom_classes": [],
       "_model_module": "@jupyter-widgets/controls",
       "_model_module_version": "1.5.0",
       "_model_name": "HTMLModel",
       "_view_count": null,
       "_view_module": "@jupyter-widgets/controls",
       "_view_module_version": "1.5.0",
       "_view_name": "HTMLView",
       "description": "",
       "description_tooltip": null,
       "layout": "IPY_MODEL_552cbd72ddd64c1987aa47b140acf786",
       "placeholder": "​",
       "style": "IPY_MODEL_b7a0b546258044be8c7199d608a946c3",
       "value": " 44.7M/44.7M [00:00&lt;00:00, 221MB/s]"
      }
     },
     "d599a4ca481e4af8bdc1ed02e0a3945e": {
      "model_module": "@jupyter-widgets/controls",
      "model_module_version": "1.5.0",
      "model_name": "HBoxModel",
      "state": {
       "_dom_classes": [],
       "_model_module": "@jupyter-widgets/controls",
       "_model_module_version": "1.5.0",
       "_model_name": "HBoxModel",
       "_view_count": null,
       "_view_module": "@jupyter-widgets/controls",
       "_view_module_version": "1.5.0",
       "_view_name": "HBoxView",
       "box_style": "",
       "children": [
        "IPY_MODEL_83e11d3dc8ca41cc944be44789878413",
        "IPY_MODEL_4dddec7ae6694f9289708fb9a9dcab31",
        "IPY_MODEL_b9f728628aae4b61a65a38a9fac429a5"
       ],
       "layout": "IPY_MODEL_1d9975dc25db41deb16fc463186520b9"
      }
     }
    },
    "version_major": 2,
    "version_minor": 0
   }
  }
 },
 "nbformat": 4,
 "nbformat_minor": 5
}
